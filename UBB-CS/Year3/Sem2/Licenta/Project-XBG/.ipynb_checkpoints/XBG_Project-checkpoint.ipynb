{
 "cells": [
  {
   "cell_type": "raw",
   "id": "f5983d32",
   "metadata": {},
   "source": [
    "# Importurile de inceput"
   ]
  },
  {
   "cell_type": "code",
   "execution_count": 31,
   "id": "937fb785",
   "metadata": {},
   "outputs": [],
   "source": [
    "import numpy as np\n",
    "import pandas as pd\n",
    "import missingno as msno\n",
    "#import matplotlib\n",
    "#matplotlib.use('agg')\n",
    "import matplotlib.pyplot as plt\n",
    "import seaborn as sns\n",
    "import warnings \n",
    "warnings.filterwarnings(\"ignore\")"
   ]
  },
  {
   "cell_type": "raw",
   "id": "ae8e7e7e",
   "metadata": {},
   "source": [
    "# Second part of imports"
   ]
  },
  {
   "cell_type": "code",
   "execution_count": 2,
   "id": "6063375e",
   "metadata": {},
   "outputs": [
    {
     "name": "stdout",
     "output_type": "stream",
     "text": [
      "Successfully Imported!\n"
     ]
    }
   ],
   "source": [
    "from sklearn.preprocessing import StandardScaler, OneHotEncoder\n",
    "from sklearn.model_selection import train_test_split\n",
    "from sklearn.preprocessing import LabelEncoder\n",
    "from sklearn.feature_selection import SelectFromModel\n",
    "#import optuna\n",
    "from xgboost import XGBRegressor\n",
    "from sklearn.metrics import mean_squared_error, r2_score\n",
    "from sklearn.pipeline import Pipeline\n",
    "from sklearn.compose import ColumnTransformer\n",
    "print(\"Successfully Imported!\")"
   ]
  },
  {
   "cell_type": "raw",
   "id": "bce31032",
   "metadata": {},
   "source": [
    "# Excel reads"
   ]
  },
  {
   "cell_type": "code",
   "execution_count": 3,
   "id": "849d033c",
   "metadata": {},
   "outputs": [],
   "source": [
    "df_crop_production = pd.read_csv(\"../Datasets/OpDataset/crop_production_data.csv\")\n",
    "df_soil_analysis = pd.read_csv(\"../Datasets/OpDataset/soil_analysis_data.csv\")\n",
    "df_water_usage = pd.read_csv(\"../Datasets/OpDataset/water_usage_data.csv\")"
   ]
  },
  {
   "cell_type": "code",
   "execution_count": 4,
   "id": "b0e61141",
   "metadata": {},
   "outputs": [
    {
     "name": "stdout",
     "output_type": "stream",
     "text": [
      "<class 'pandas.core.frame.DataFrame'>\n",
      "RangeIndex: 1000 entries, 0 to 999\n",
      "Data columns (total 6 columns):\n",
      " #   Column                    Non-Null Count  Dtype  \n",
      "---  ------                    --------------  -----  \n",
      " 0   District                  1000 non-null   object \n",
      " 1   Crop                      1000 non-null   object \n",
      " 2   Season                    1000 non-null   object \n",
      " 3   Area (hectares)           1000 non-null   float64\n",
      " 4   Yield (quintals)          1000 non-null   float64\n",
      " 5   Production (metric tons)  1000 non-null   float64\n",
      "dtypes: float64(3), object(3)\n",
      "memory usage: 47.0+ KB\n"
     ]
    }
   ],
   "source": [
    "df_crop_production.info()"
   ]
  },
  {
   "cell_type": "code",
   "execution_count": 5,
   "id": "0e52c46b",
   "metadata": {},
   "outputs": [
    {
     "name": "stdout",
     "output_type": "stream",
     "text": [
      "<class 'pandas.core.frame.DataFrame'>\n",
      "RangeIndex: 1000 entries, 0 to 999\n",
      "Data columns (total 7 columns):\n",
      " #   Column                      Non-Null Count  Dtype  \n",
      "---  ------                      --------------  -----  \n",
      " 0   District                    1000 non-null   object \n",
      " 1   Soil Type                   1000 non-null   object \n",
      " 2   pH Level                    1000 non-null   float64\n",
      " 3   Organic Matter (%)          1000 non-null   float64\n",
      " 4   Nitrogen Content (kg/ha)    1000 non-null   float64\n",
      " 5   Phosphorus Content (kg/ha)  1000 non-null   float64\n",
      " 6   Potassium Content (kg/ha)   1000 non-null   float64\n",
      "dtypes: float64(5), object(2)\n",
      "memory usage: 54.8+ KB\n"
     ]
    }
   ],
   "source": [
    "df_soil_analysis.info()"
   ]
  },
  {
   "cell_type": "code",
   "execution_count": 6,
   "id": "561871eb",
   "metadata": {},
   "outputs": [
    {
     "name": "stdout",
     "output_type": "stream",
     "text": [
      "<class 'pandas.core.frame.DataFrame'>\n",
      "RangeIndex: 1000 entries, 0 to 999\n",
      "Data columns (total 5 columns):\n",
      " #   Column                               Non-Null Count  Dtype  \n",
      "---  ------                               --------------  -----  \n",
      " 0   District                             1000 non-null   object \n",
      " 1   Crop                                 1000 non-null   object \n",
      " 2   Irrigation Method                    1000 non-null   object \n",
      " 3   Water Consumption (liters/hectare)   1000 non-null   float64\n",
      " 4   Water Availability (liters/hectare)  1000 non-null   float64\n",
      "dtypes: float64(2), object(3)\n",
      "memory usage: 39.2+ KB\n"
     ]
    }
   ],
   "source": [
    "df_water_usage.info()"
   ]
  },
  {
   "cell_type": "raw",
   "id": "d2575e42",
   "metadata": {},
   "source": [
    "# First step of merging"
   ]
  },
  {
   "cell_type": "code",
   "execution_count": 7,
   "id": "761f06e6",
   "metadata": {},
   "outputs": [],
   "source": [
    "merge_soil_crop_production = df_crop_production.merge(df_soil_analysis, on = ['District'])"
   ]
  },
  {
   "cell_type": "raw",
   "id": "ec92ade0",
   "metadata": {},
   "source": [
    "# Second merge"
   ]
  },
  {
   "cell_type": "code",
   "execution_count": 8,
   "id": "07983dff",
   "metadata": {},
   "outputs": [],
   "source": [
    "merge_water_soil_crop_production = merge_soil_crop_production.merge(df_water_usage, on = ['District', 'Crop'])"
   ]
  },
  {
   "cell_type": "code",
   "execution_count": 9,
   "id": "82a465fa",
   "metadata": {},
   "outputs": [
    {
     "data": {
      "text/html": [
       "<div>\n",
       "<style scoped>\n",
       "    .dataframe tbody tr th:only-of-type {\n",
       "        vertical-align: middle;\n",
       "    }\n",
       "\n",
       "    .dataframe tbody tr th {\n",
       "        vertical-align: top;\n",
       "    }\n",
       "\n",
       "    .dataframe thead th {\n",
       "        text-align: right;\n",
       "    }\n",
       "</style>\n",
       "<table border=\"1\" class=\"dataframe\">\n",
       "  <thead>\n",
       "    <tr style=\"text-align: right;\">\n",
       "      <th></th>\n",
       "      <th>District</th>\n",
       "      <th>Crop</th>\n",
       "      <th>Season</th>\n",
       "      <th>Area (hectares)</th>\n",
       "      <th>Yield (quintals)</th>\n",
       "      <th>Production (metric tons)</th>\n",
       "      <th>Soil Type</th>\n",
       "      <th>pH Level</th>\n",
       "      <th>Organic Matter (%)</th>\n",
       "      <th>Nitrogen Content (kg/ha)</th>\n",
       "      <th>Phosphorus Content (kg/ha)</th>\n",
       "      <th>Potassium Content (kg/ha)</th>\n",
       "      <th>Irrigation Method</th>\n",
       "      <th>Water Consumption (liters/hectare)</th>\n",
       "      <th>Water Availability (liters/hectare)</th>\n",
       "    </tr>\n",
       "  </thead>\n",
       "  <tbody>\n",
       "    <tr>\n",
       "      <th>0</th>\n",
       "      <td>Jodhpur</td>\n",
       "      <td>Wheat</td>\n",
       "      <td>Kharif</td>\n",
       "      <td>16490.142459</td>\n",
       "      <td>30.691986</td>\n",
       "      <td>5061.15223</td>\n",
       "      <td>Sandy</td>\n",
       "      <td>7.453182</td>\n",
       "      <td>2.662898</td>\n",
       "      <td>23.564182</td>\n",
       "      <td>13.014409</td>\n",
       "      <td>37.082003</td>\n",
       "      <td>Sprinkler Irrigation</td>\n",
       "      <td>9738.809833</td>\n",
       "      <td>10557.488279</td>\n",
       "    </tr>\n",
       "    <tr>\n",
       "      <th>1</th>\n",
       "      <td>Jodhpur</td>\n",
       "      <td>Wheat</td>\n",
       "      <td>Kharif</td>\n",
       "      <td>16490.142459</td>\n",
       "      <td>30.691986</td>\n",
       "      <td>5061.15223</td>\n",
       "      <td>Sandy</td>\n",
       "      <td>7.453182</td>\n",
       "      <td>2.662898</td>\n",
       "      <td>23.564182</td>\n",
       "      <td>13.014409</td>\n",
       "      <td>37.082003</td>\n",
       "      <td>Sprinkler Irrigation</td>\n",
       "      <td>13591.319448</td>\n",
       "      <td>14448.126887</td>\n",
       "    </tr>\n",
       "    <tr>\n",
       "      <th>2</th>\n",
       "      <td>Jodhpur</td>\n",
       "      <td>Wheat</td>\n",
       "      <td>Kharif</td>\n",
       "      <td>16490.142459</td>\n",
       "      <td>30.691986</td>\n",
       "      <td>5061.15223</td>\n",
       "      <td>Sandy</td>\n",
       "      <td>7.453182</td>\n",
       "      <td>2.662898</td>\n",
       "      <td>23.564182</td>\n",
       "      <td>13.014409</td>\n",
       "      <td>37.082003</td>\n",
       "      <td>Drip Irrigation</td>\n",
       "      <td>8811.686999</td>\n",
       "      <td>8512.323275</td>\n",
       "    </tr>\n",
       "    <tr>\n",
       "      <th>3</th>\n",
       "      <td>Jodhpur</td>\n",
       "      <td>Wheat</td>\n",
       "      <td>Kharif</td>\n",
       "      <td>16490.142459</td>\n",
       "      <td>30.691986</td>\n",
       "      <td>5061.15223</td>\n",
       "      <td>Sandy</td>\n",
       "      <td>7.453182</td>\n",
       "      <td>2.662898</td>\n",
       "      <td>23.564182</td>\n",
       "      <td>13.014409</td>\n",
       "      <td>37.082003</td>\n",
       "      <td>Sprinkler Irrigation</td>\n",
       "      <td>8860.161716</td>\n",
       "      <td>9434.989877</td>\n",
       "    </tr>\n",
       "    <tr>\n",
       "      <th>4</th>\n",
       "      <td>Jodhpur</td>\n",
       "      <td>Wheat</td>\n",
       "      <td>Kharif</td>\n",
       "      <td>16490.142459</td>\n",
       "      <td>30.691986</td>\n",
       "      <td>5061.15223</td>\n",
       "      <td>Chalky (Calcareous)</td>\n",
       "      <td>7.305740</td>\n",
       "      <td>2.095212</td>\n",
       "      <td>32.246094</td>\n",
       "      <td>17.450967</td>\n",
       "      <td>40.172205</td>\n",
       "      <td>Sprinkler Irrigation</td>\n",
       "      <td>9738.809833</td>\n",
       "      <td>10557.488279</td>\n",
       "    </tr>\n",
       "  </tbody>\n",
       "</table>\n",
       "</div>"
      ],
      "text/plain": [
       "  District   Crop  Season  Area (hectares)  Yield (quintals)  \\\n",
       "0  Jodhpur  Wheat  Kharif     16490.142459         30.691986   \n",
       "1  Jodhpur  Wheat  Kharif     16490.142459         30.691986   \n",
       "2  Jodhpur  Wheat  Kharif     16490.142459         30.691986   \n",
       "3  Jodhpur  Wheat  Kharif     16490.142459         30.691986   \n",
       "4  Jodhpur  Wheat  Kharif     16490.142459         30.691986   \n",
       "\n",
       "   Production (metric tons)            Soil Type  pH Level  \\\n",
       "0                5061.15223                Sandy  7.453182   \n",
       "1                5061.15223                Sandy  7.453182   \n",
       "2                5061.15223                Sandy  7.453182   \n",
       "3                5061.15223                Sandy  7.453182   \n",
       "4                5061.15223  Chalky (Calcareous)  7.305740   \n",
       "\n",
       "   Organic Matter (%)  Nitrogen Content (kg/ha)  Phosphorus Content (kg/ha)  \\\n",
       "0            2.662898                 23.564182                   13.014409   \n",
       "1            2.662898                 23.564182                   13.014409   \n",
       "2            2.662898                 23.564182                   13.014409   \n",
       "3            2.662898                 23.564182                   13.014409   \n",
       "4            2.095212                 32.246094                   17.450967   \n",
       "\n",
       "   Potassium Content (kg/ha)     Irrigation Method  \\\n",
       "0                  37.082003  Sprinkler Irrigation   \n",
       "1                  37.082003  Sprinkler Irrigation   \n",
       "2                  37.082003       Drip Irrigation   \n",
       "3                  37.082003  Sprinkler Irrigation   \n",
       "4                  40.172205  Sprinkler Irrigation   \n",
       "\n",
       "   Water Consumption (liters/hectare)  Water Availability (liters/hectare)  \n",
       "0                         9738.809833                         10557.488279  \n",
       "1                        13591.319448                         14448.126887  \n",
       "2                         8811.686999                          8512.323275  \n",
       "3                         8860.161716                          9434.989877  \n",
       "4                         9738.809833                         10557.488279  "
      ]
     },
     "execution_count": 9,
     "metadata": {},
     "output_type": "execute_result"
    }
   ],
   "source": [
    "merge_water_soil_crop_production.head()"
   ]
  },
  {
   "cell_type": "code",
   "execution_count": 10,
   "id": "0f2dc2a2",
   "metadata": {},
   "outputs": [],
   "source": [
    "database = merge_water_soil_crop_production.copy()"
   ]
  },
  {
   "cell_type": "code",
   "execution_count": 11,
   "id": "1ae1a298",
   "metadata": {},
   "outputs": [
    {
     "data": {
      "text/html": [
       "<div>\n",
       "<style scoped>\n",
       "    .dataframe tbody tr th:only-of-type {\n",
       "        vertical-align: middle;\n",
       "    }\n",
       "\n",
       "    .dataframe tbody tr th {\n",
       "        vertical-align: top;\n",
       "    }\n",
       "\n",
       "    .dataframe thead th {\n",
       "        text-align: right;\n",
       "    }\n",
       "</style>\n",
       "<table border=\"1\" class=\"dataframe\">\n",
       "  <thead>\n",
       "    <tr style=\"text-align: right;\">\n",
       "      <th></th>\n",
       "      <th>District</th>\n",
       "      <th>Crop</th>\n",
       "      <th>Season</th>\n",
       "      <th>Area (hectares)</th>\n",
       "      <th>Yield (quintals)</th>\n",
       "      <th>Production (metric tons)</th>\n",
       "      <th>Soil Type</th>\n",
       "      <th>pH Level</th>\n",
       "      <th>Organic Matter (%)</th>\n",
       "      <th>Nitrogen Content (kg/ha)</th>\n",
       "      <th>Phosphorus Content (kg/ha)</th>\n",
       "      <th>Potassium Content (kg/ha)</th>\n",
       "      <th>Irrigation Method</th>\n",
       "      <th>Water Consumption (liters/hectare)</th>\n",
       "      <th>Water Availability (liters/hectare)</th>\n",
       "    </tr>\n",
       "  </thead>\n",
       "  <tbody>\n",
       "    <tr>\n",
       "      <th>0</th>\n",
       "      <td>Jodhpur</td>\n",
       "      <td>Wheat</td>\n",
       "      <td>Kharif</td>\n",
       "      <td>16490.142459</td>\n",
       "      <td>30.691986</td>\n",
       "      <td>5061.15223</td>\n",
       "      <td>Sandy</td>\n",
       "      <td>7.453182</td>\n",
       "      <td>2.662898</td>\n",
       "      <td>23.564182</td>\n",
       "      <td>13.014409</td>\n",
       "      <td>37.082003</td>\n",
       "      <td>Sprinkler Irrigation</td>\n",
       "      <td>9738.809833</td>\n",
       "      <td>10557.488279</td>\n",
       "    </tr>\n",
       "    <tr>\n",
       "      <th>1</th>\n",
       "      <td>Jodhpur</td>\n",
       "      <td>Wheat</td>\n",
       "      <td>Kharif</td>\n",
       "      <td>16490.142459</td>\n",
       "      <td>30.691986</td>\n",
       "      <td>5061.15223</td>\n",
       "      <td>Sandy</td>\n",
       "      <td>7.453182</td>\n",
       "      <td>2.662898</td>\n",
       "      <td>23.564182</td>\n",
       "      <td>13.014409</td>\n",
       "      <td>37.082003</td>\n",
       "      <td>Sprinkler Irrigation</td>\n",
       "      <td>13591.319448</td>\n",
       "      <td>14448.126887</td>\n",
       "    </tr>\n",
       "    <tr>\n",
       "      <th>2</th>\n",
       "      <td>Jodhpur</td>\n",
       "      <td>Wheat</td>\n",
       "      <td>Kharif</td>\n",
       "      <td>16490.142459</td>\n",
       "      <td>30.691986</td>\n",
       "      <td>5061.15223</td>\n",
       "      <td>Sandy</td>\n",
       "      <td>7.453182</td>\n",
       "      <td>2.662898</td>\n",
       "      <td>23.564182</td>\n",
       "      <td>13.014409</td>\n",
       "      <td>37.082003</td>\n",
       "      <td>Drip Irrigation</td>\n",
       "      <td>8811.686999</td>\n",
       "      <td>8512.323275</td>\n",
       "    </tr>\n",
       "    <tr>\n",
       "      <th>3</th>\n",
       "      <td>Jodhpur</td>\n",
       "      <td>Wheat</td>\n",
       "      <td>Kharif</td>\n",
       "      <td>16490.142459</td>\n",
       "      <td>30.691986</td>\n",
       "      <td>5061.15223</td>\n",
       "      <td>Sandy</td>\n",
       "      <td>7.453182</td>\n",
       "      <td>2.662898</td>\n",
       "      <td>23.564182</td>\n",
       "      <td>13.014409</td>\n",
       "      <td>37.082003</td>\n",
       "      <td>Sprinkler Irrigation</td>\n",
       "      <td>8860.161716</td>\n",
       "      <td>9434.989877</td>\n",
       "    </tr>\n",
       "    <tr>\n",
       "      <th>4</th>\n",
       "      <td>Jodhpur</td>\n",
       "      <td>Wheat</td>\n",
       "      <td>Kharif</td>\n",
       "      <td>16490.142459</td>\n",
       "      <td>30.691986</td>\n",
       "      <td>5061.15223</td>\n",
       "      <td>Chalky (Calcareous)</td>\n",
       "      <td>7.305740</td>\n",
       "      <td>2.095212</td>\n",
       "      <td>32.246094</td>\n",
       "      <td>17.450967</td>\n",
       "      <td>40.172205</td>\n",
       "      <td>Sprinkler Irrigation</td>\n",
       "      <td>9738.809833</td>\n",
       "      <td>10557.488279</td>\n",
       "    </tr>\n",
       "  </tbody>\n",
       "</table>\n",
       "</div>"
      ],
      "text/plain": [
       "  District   Crop  Season  Area (hectares)  Yield (quintals)  \\\n",
       "0  Jodhpur  Wheat  Kharif     16490.142459         30.691986   \n",
       "1  Jodhpur  Wheat  Kharif     16490.142459         30.691986   \n",
       "2  Jodhpur  Wheat  Kharif     16490.142459         30.691986   \n",
       "3  Jodhpur  Wheat  Kharif     16490.142459         30.691986   \n",
       "4  Jodhpur  Wheat  Kharif     16490.142459         30.691986   \n",
       "\n",
       "   Production (metric tons)            Soil Type  pH Level  \\\n",
       "0                5061.15223                Sandy  7.453182   \n",
       "1                5061.15223                Sandy  7.453182   \n",
       "2                5061.15223                Sandy  7.453182   \n",
       "3                5061.15223                Sandy  7.453182   \n",
       "4                5061.15223  Chalky (Calcareous)  7.305740   \n",
       "\n",
       "   Organic Matter (%)  Nitrogen Content (kg/ha)  Phosphorus Content (kg/ha)  \\\n",
       "0            2.662898                 23.564182                   13.014409   \n",
       "1            2.662898                 23.564182                   13.014409   \n",
       "2            2.662898                 23.564182                   13.014409   \n",
       "3            2.662898                 23.564182                   13.014409   \n",
       "4            2.095212                 32.246094                   17.450967   \n",
       "\n",
       "   Potassium Content (kg/ha)     Irrigation Method  \\\n",
       "0                  37.082003  Sprinkler Irrigation   \n",
       "1                  37.082003  Sprinkler Irrigation   \n",
       "2                  37.082003       Drip Irrigation   \n",
       "3                  37.082003  Sprinkler Irrigation   \n",
       "4                  40.172205  Sprinkler Irrigation   \n",
       "\n",
       "   Water Consumption (liters/hectare)  Water Availability (liters/hectare)  \n",
       "0                         9738.809833                         10557.488279  \n",
       "1                        13591.319448                         14448.126887  \n",
       "2                         8811.686999                          8512.323275  \n",
       "3                         8860.161716                          9434.989877  \n",
       "4                         9738.809833                         10557.488279  "
      ]
     },
     "execution_count": 11,
     "metadata": {},
     "output_type": "execute_result"
    }
   ],
   "source": [
    "database.head()"
   ]
  },
  {
   "cell_type": "code",
   "execution_count": 12,
   "id": "bfc5245a",
   "metadata": {},
   "outputs": [],
   "source": [
    "database = database.drop(columns = ['Production (metric tons)', 'Water Consumption (liters/hectare)'], axis = 1)"
   ]
  },
  {
   "cell_type": "code",
   "execution_count": 13,
   "id": "71a2285a",
   "metadata": {},
   "outputs": [
    {
     "data": {
      "text/html": [
       "<div>\n",
       "<style scoped>\n",
       "    .dataframe tbody tr th:only-of-type {\n",
       "        vertical-align: middle;\n",
       "    }\n",
       "\n",
       "    .dataframe tbody tr th {\n",
       "        vertical-align: top;\n",
       "    }\n",
       "\n",
       "    .dataframe thead th {\n",
       "        text-align: right;\n",
       "    }\n",
       "</style>\n",
       "<table border=\"1\" class=\"dataframe\">\n",
       "  <thead>\n",
       "    <tr style=\"text-align: right;\">\n",
       "      <th></th>\n",
       "      <th>District</th>\n",
       "      <th>Crop</th>\n",
       "      <th>Season</th>\n",
       "      <th>Area (hectares)</th>\n",
       "      <th>Yield (quintals)</th>\n",
       "      <th>Soil Type</th>\n",
       "      <th>pH Level</th>\n",
       "      <th>Organic Matter (%)</th>\n",
       "      <th>Nitrogen Content (kg/ha)</th>\n",
       "      <th>Phosphorus Content (kg/ha)</th>\n",
       "      <th>Potassium Content (kg/ha)</th>\n",
       "      <th>Irrigation Method</th>\n",
       "      <th>Water Availability (liters/hectare)</th>\n",
       "    </tr>\n",
       "  </thead>\n",
       "  <tbody>\n",
       "    <tr>\n",
       "      <th>0</th>\n",
       "      <td>Jodhpur</td>\n",
       "      <td>Wheat</td>\n",
       "      <td>Kharif</td>\n",
       "      <td>16490.142459</td>\n",
       "      <td>30.691986</td>\n",
       "      <td>Sandy</td>\n",
       "      <td>7.453182</td>\n",
       "      <td>2.662898</td>\n",
       "      <td>23.564182</td>\n",
       "      <td>13.014409</td>\n",
       "      <td>37.082003</td>\n",
       "      <td>Sprinkler Irrigation</td>\n",
       "      <td>10557.488279</td>\n",
       "    </tr>\n",
       "    <tr>\n",
       "      <th>1</th>\n",
       "      <td>Jodhpur</td>\n",
       "      <td>Wheat</td>\n",
       "      <td>Kharif</td>\n",
       "      <td>16490.142459</td>\n",
       "      <td>30.691986</td>\n",
       "      <td>Sandy</td>\n",
       "      <td>7.453182</td>\n",
       "      <td>2.662898</td>\n",
       "      <td>23.564182</td>\n",
       "      <td>13.014409</td>\n",
       "      <td>37.082003</td>\n",
       "      <td>Sprinkler Irrigation</td>\n",
       "      <td>14448.126887</td>\n",
       "    </tr>\n",
       "    <tr>\n",
       "      <th>2</th>\n",
       "      <td>Jodhpur</td>\n",
       "      <td>Wheat</td>\n",
       "      <td>Kharif</td>\n",
       "      <td>16490.142459</td>\n",
       "      <td>30.691986</td>\n",
       "      <td>Sandy</td>\n",
       "      <td>7.453182</td>\n",
       "      <td>2.662898</td>\n",
       "      <td>23.564182</td>\n",
       "      <td>13.014409</td>\n",
       "      <td>37.082003</td>\n",
       "      <td>Drip Irrigation</td>\n",
       "      <td>8512.323275</td>\n",
       "    </tr>\n",
       "    <tr>\n",
       "      <th>3</th>\n",
       "      <td>Jodhpur</td>\n",
       "      <td>Wheat</td>\n",
       "      <td>Kharif</td>\n",
       "      <td>16490.142459</td>\n",
       "      <td>30.691986</td>\n",
       "      <td>Sandy</td>\n",
       "      <td>7.453182</td>\n",
       "      <td>2.662898</td>\n",
       "      <td>23.564182</td>\n",
       "      <td>13.014409</td>\n",
       "      <td>37.082003</td>\n",
       "      <td>Sprinkler Irrigation</td>\n",
       "      <td>9434.989877</td>\n",
       "    </tr>\n",
       "    <tr>\n",
       "      <th>4</th>\n",
       "      <td>Jodhpur</td>\n",
       "      <td>Wheat</td>\n",
       "      <td>Kharif</td>\n",
       "      <td>16490.142459</td>\n",
       "      <td>30.691986</td>\n",
       "      <td>Chalky (Calcareous)</td>\n",
       "      <td>7.305740</td>\n",
       "      <td>2.095212</td>\n",
       "      <td>32.246094</td>\n",
       "      <td>17.450967</td>\n",
       "      <td>40.172205</td>\n",
       "      <td>Sprinkler Irrigation</td>\n",
       "      <td>10557.488279</td>\n",
       "    </tr>\n",
       "  </tbody>\n",
       "</table>\n",
       "</div>"
      ],
      "text/plain": [
       "  District   Crop  Season  Area (hectares)  Yield (quintals)  \\\n",
       "0  Jodhpur  Wheat  Kharif     16490.142459         30.691986   \n",
       "1  Jodhpur  Wheat  Kharif     16490.142459         30.691986   \n",
       "2  Jodhpur  Wheat  Kharif     16490.142459         30.691986   \n",
       "3  Jodhpur  Wheat  Kharif     16490.142459         30.691986   \n",
       "4  Jodhpur  Wheat  Kharif     16490.142459         30.691986   \n",
       "\n",
       "             Soil Type  pH Level  Organic Matter (%)  \\\n",
       "0                Sandy  7.453182            2.662898   \n",
       "1                Sandy  7.453182            2.662898   \n",
       "2                Sandy  7.453182            2.662898   \n",
       "3                Sandy  7.453182            2.662898   \n",
       "4  Chalky (Calcareous)  7.305740            2.095212   \n",
       "\n",
       "   Nitrogen Content (kg/ha)  Phosphorus Content (kg/ha)  \\\n",
       "0                 23.564182                   13.014409   \n",
       "1                 23.564182                   13.014409   \n",
       "2                 23.564182                   13.014409   \n",
       "3                 23.564182                   13.014409   \n",
       "4                 32.246094                   17.450967   \n",
       "\n",
       "   Potassium Content (kg/ha)     Irrigation Method  \\\n",
       "0                  37.082003  Sprinkler Irrigation   \n",
       "1                  37.082003  Sprinkler Irrigation   \n",
       "2                  37.082003       Drip Irrigation   \n",
       "3                  37.082003  Sprinkler Irrigation   \n",
       "4                  40.172205  Sprinkler Irrigation   \n",
       "\n",
       "   Water Availability (liters/hectare)  \n",
       "0                         10557.488279  \n",
       "1                         14448.126887  \n",
       "2                          8512.323275  \n",
       "3                          9434.989877  \n",
       "4                         10557.488279  "
      ]
     },
     "execution_count": 13,
     "metadata": {},
     "output_type": "execute_result"
    }
   ],
   "source": [
    "database.head()"
   ]
  },
  {
   "cell_type": "code",
   "execution_count": 14,
   "id": "5b558929",
   "metadata": {},
   "outputs": [
    {
     "data": {
      "text/plain": [
       "District                               0\n",
       "Crop                                   0\n",
       "Season                                 0\n",
       "Area (hectares)                        0\n",
       "Yield (quintals)                       0\n",
       "Soil Type                              0\n",
       "pH Level                               0\n",
       "Organic Matter (%)                     0\n",
       "Nitrogen Content (kg/ha)               0\n",
       "Phosphorus Content (kg/ha)             0\n",
       "Potassium Content (kg/ha)              0\n",
       "Irrigation Method                      0\n",
       "Water Availability (liters/hectare)    0\n",
       "dtype: int64"
      ]
     },
     "execution_count": 14,
     "metadata": {},
     "output_type": "execute_result"
    }
   ],
   "source": [
    "database.isnull().sum()"
   ]
  },
  {
   "cell_type": "code",
   "execution_count": 15,
   "id": "a7f37064",
   "metadata": {},
   "outputs": [
    {
     "data": {
      "text/plain": [
       "0"
      ]
     },
     "execution_count": 15,
     "metadata": {},
     "output_type": "execute_result"
    }
   ],
   "source": [
    "database.duplicated().sum()"
   ]
  },
  {
   "cell_type": "raw",
   "id": "44506ce7",
   "metadata": {},
   "source": [
    "# Solving the object columns error : Invalid columns:District: object, Crop: object, Season: object, Soil Type: object, Irrigation Method: object"
   ]
  },
  {
   "cell_type": "code",
   "execution_count": 16,
   "id": "c27ffe8c",
   "metadata": {},
   "outputs": [],
   "source": [
    "num_cols = ['Area (hectares)', 'pH Level', 'Organic Matter (%)', 'Nitrogen Content (kg/ha)', 'Phosphorus Content (kg/ha)',\n",
    "       'Potassium Content (kg/ha)', 'Water Availability (liters/hectare)']\n",
    "cat_cols = ['District', 'Crop', 'Season', 'Soil Type', 'Irrigation Method']\n",
    "encoder = OneHotEncoder()\n",
    "database[cat_cols] = database[cat_cols].astype(\"category\")"
   ]
  },
  {
   "cell_type": "raw",
   "id": "3bffc079",
   "metadata": {},
   "source": [
    "# Data preparation"
   ]
  },
  {
   "cell_type": "code",
   "execution_count": 17,
   "id": "56efa6f7",
   "metadata": {},
   "outputs": [],
   "source": [
    "X = database.drop(columns=['Yield (quintals)'], axis=1)\n",
    "y = database['Yield (quintals)']\n",
    "#two splits to include validation as well\n",
    "X_train, X_, y_train, y_ = train_test_split(X, y, test_size = 0.2, random_state = 42)\n",
    "X_val, X_test, y_val, y_test = train_test_split(X_, y_, test_size = 0.5, random_state = 42)"
   ]
  },
  {
   "cell_type": "raw",
   "id": "119faf78",
   "metadata": {},
   "source": [
    "# XGB Regressor:"
   ]
  },
  {
   "cell_type": "code",
   "execution_count": 18,
   "id": "f1303752",
   "metadata": {},
   "outputs": [
    {
     "data": {
      "text/html": [
       "<style>#sk-container-id-1 {color: black;}#sk-container-id-1 pre{padding: 0;}#sk-container-id-1 div.sk-toggleable {background-color: white;}#sk-container-id-1 label.sk-toggleable__label {cursor: pointer;display: block;width: 100%;margin-bottom: 0;padding: 0.3em;box-sizing: border-box;text-align: center;}#sk-container-id-1 label.sk-toggleable__label-arrow:before {content: \"▸\";float: left;margin-right: 0.25em;color: #696969;}#sk-container-id-1 label.sk-toggleable__label-arrow:hover:before {color: black;}#sk-container-id-1 div.sk-estimator:hover label.sk-toggleable__label-arrow:before {color: black;}#sk-container-id-1 div.sk-toggleable__content {max-height: 0;max-width: 0;overflow: hidden;text-align: left;background-color: #f0f8ff;}#sk-container-id-1 div.sk-toggleable__content pre {margin: 0.2em;color: black;border-radius: 0.25em;background-color: #f0f8ff;}#sk-container-id-1 input.sk-toggleable__control:checked~div.sk-toggleable__content {max-height: 200px;max-width: 100%;overflow: auto;}#sk-container-id-1 input.sk-toggleable__control:checked~label.sk-toggleable__label-arrow:before {content: \"▾\";}#sk-container-id-1 div.sk-estimator input.sk-toggleable__control:checked~label.sk-toggleable__label {background-color: #d4ebff;}#sk-container-id-1 div.sk-label input.sk-toggleable__control:checked~label.sk-toggleable__label {background-color: #d4ebff;}#sk-container-id-1 input.sk-hidden--visually {border: 0;clip: rect(1px 1px 1px 1px);clip: rect(1px, 1px, 1px, 1px);height: 1px;margin: -1px;overflow: hidden;padding: 0;position: absolute;width: 1px;}#sk-container-id-1 div.sk-estimator {font-family: monospace;background-color: #f0f8ff;border: 1px dotted black;border-radius: 0.25em;box-sizing: border-box;margin-bottom: 0.5em;}#sk-container-id-1 div.sk-estimator:hover {background-color: #d4ebff;}#sk-container-id-1 div.sk-parallel-item::after {content: \"\";width: 100%;border-bottom: 1px solid gray;flex-grow: 1;}#sk-container-id-1 div.sk-label:hover label.sk-toggleable__label {background-color: #d4ebff;}#sk-container-id-1 div.sk-serial::before {content: \"\";position: absolute;border-left: 1px solid gray;box-sizing: border-box;top: 0;bottom: 0;left: 50%;z-index: 0;}#sk-container-id-1 div.sk-serial {display: flex;flex-direction: column;align-items: center;background-color: white;padding-right: 0.2em;padding-left: 0.2em;position: relative;}#sk-container-id-1 div.sk-item {position: relative;z-index: 1;}#sk-container-id-1 div.sk-parallel {display: flex;align-items: stretch;justify-content: center;background-color: white;position: relative;}#sk-container-id-1 div.sk-item::before, #sk-container-id-1 div.sk-parallel-item::before {content: \"\";position: absolute;border-left: 1px solid gray;box-sizing: border-box;top: 0;bottom: 0;left: 50%;z-index: -1;}#sk-container-id-1 div.sk-parallel-item {display: flex;flex-direction: column;z-index: 1;position: relative;background-color: white;}#sk-container-id-1 div.sk-parallel-item:first-child::after {align-self: flex-end;width: 50%;}#sk-container-id-1 div.sk-parallel-item:last-child::after {align-self: flex-start;width: 50%;}#sk-container-id-1 div.sk-parallel-item:only-child::after {width: 0;}#sk-container-id-1 div.sk-dashed-wrapped {border: 1px dashed gray;margin: 0 0.4em 0.5em 0.4em;box-sizing: border-box;padding-bottom: 0.4em;background-color: white;}#sk-container-id-1 div.sk-label label {font-family: monospace;font-weight: bold;display: inline-block;line-height: 1.2em;}#sk-container-id-1 div.sk-label-container {text-align: center;}#sk-container-id-1 div.sk-container {/* jupyter's `normalize.less` sets `[hidden] { display: none; }` but bootstrap.min.css set `[hidden] { display: none !important; }` so we also need the `!important` here to be able to override the default hidden behavior on the sphinx rendered scikit-learn.org. See: https://github.com/scikit-learn/scikit-learn/issues/21755 */display: inline-block !important;position: relative;}#sk-container-id-1 div.sk-text-repr-fallback {display: none;}</style><div id=\"sk-container-id-1\" class=\"sk-top-container\"><div class=\"sk-text-repr-fallback\"><pre>XGBRegressor(base_score=None, booster=None, callbacks=None,\n",
       "             colsample_bylevel=None, colsample_bynode=None,\n",
       "             colsample_bytree=None, early_stopping_rounds=None,\n",
       "             enable_categorical=True, eval_metric=None, feature_types=None,\n",
       "             gamma=None, gpu_id=None, grow_policy=None, importance_type=None,\n",
       "             interaction_constraints=None, learning_rate=None, max_bin=None,\n",
       "             max_cat_threshold=None, max_cat_to_onehot=None,\n",
       "             max_delta_step=None, max_depth=None, max_leaves=None,\n",
       "             min_child_weight=None, missing=nan, monotone_constraints=None,\n",
       "             n_estimators=100, n_jobs=None, num_parallel_tree=None,\n",
       "             predictor=None, random_state=42, ...)</pre><b>In a Jupyter environment, please rerun this cell to show the HTML representation or trust the notebook. <br />On GitHub, the HTML representation is unable to render, please try loading this page with nbviewer.org.</b></div><div class=\"sk-container\" hidden><div class=\"sk-item\"><div class=\"sk-estimator sk-toggleable\"><input class=\"sk-toggleable__control sk-hidden--visually\" id=\"sk-estimator-id-1\" type=\"checkbox\" checked><label for=\"sk-estimator-id-1\" class=\"sk-toggleable__label sk-toggleable__label-arrow\">XGBRegressor</label><div class=\"sk-toggleable__content\"><pre>XGBRegressor(base_score=None, booster=None, callbacks=None,\n",
       "             colsample_bylevel=None, colsample_bynode=None,\n",
       "             colsample_bytree=None, early_stopping_rounds=None,\n",
       "             enable_categorical=True, eval_metric=None, feature_types=None,\n",
       "             gamma=None, gpu_id=None, grow_policy=None, importance_type=None,\n",
       "             interaction_constraints=None, learning_rate=None, max_bin=None,\n",
       "             max_cat_threshold=None, max_cat_to_onehot=None,\n",
       "             max_delta_step=None, max_depth=None, max_leaves=None,\n",
       "             min_child_weight=None, missing=nan, monotone_constraints=None,\n",
       "             n_estimators=100, n_jobs=None, num_parallel_tree=None,\n",
       "             predictor=None, random_state=42, ...)</pre></div></div></div></div></div>"
      ],
      "text/plain": [
       "XGBRegressor(base_score=None, booster=None, callbacks=None,\n",
       "             colsample_bylevel=None, colsample_bynode=None,\n",
       "             colsample_bytree=None, early_stopping_rounds=None,\n",
       "             enable_categorical=True, eval_metric=None, feature_types=None,\n",
       "             gamma=None, gpu_id=None, grow_policy=None, importance_type=None,\n",
       "             interaction_constraints=None, learning_rate=None, max_bin=None,\n",
       "             max_cat_threshold=None, max_cat_to_onehot=None,\n",
       "             max_delta_step=None, max_depth=None, max_leaves=None,\n",
       "             min_child_weight=None, missing=nan, monotone_constraints=None,\n",
       "             n_estimators=100, n_jobs=None, num_parallel_tree=None,\n",
       "             predictor=None, random_state=42, ...)"
      ]
     },
     "execution_count": 18,
     "metadata": {},
     "output_type": "execute_result"
    }
   ],
   "source": [
    "model = XGBRegressor(tree_method='hist', random_state = 42, enable_categorical=True)\n",
    "model.fit(X_train, y_train)"
   ]
  },
  {
   "cell_type": "raw",
   "id": "2e4019cd",
   "metadata": {},
   "source": [
    "# Predicting the values"
   ]
  },
  {
   "cell_type": "code",
   "execution_count": 19,
   "id": "47f383e3",
   "metadata": {},
   "outputs": [],
   "source": [
    "y_train_pred = model.predict(X_train)\n",
    "y_val_pred = model.predict(X_val)\n",
    "y_test_pred = model.predict(X_test)"
   ]
  },
  {
   "cell_type": "raw",
   "id": "773e39ca",
   "metadata": {},
   "source": [
    "# Train evaluation"
   ]
  },
  {
   "cell_type": "code",
   "execution_count": 20,
   "id": "18a6e051",
   "metadata": {},
   "outputs": [
    {
     "name": "stdout",
     "output_type": "stream",
     "text": [
      "Mean Square Error: 0.2729\n",
      "Root Mean Square Error: 0.5224\n",
      "R2 Score: 0.9960\n"
     ]
    }
   ],
   "source": [
    "mse_train = mean_squared_error(y_train, y_train_pred)\n",
    "rmse_train = np.sqrt(mse_train)\n",
    "r2_train = r2_score(y_train, y_train_pred)\n",
    "\n",
    "print(f\"Mean Square Error: {mse_train:.4f}\")\n",
    "print(f\"Root Mean Square Error: {rmse_train:.4f}\")\n",
    "print(f\"R2 Score: {r2_train:.4f}\")"
   ]
  },
  {
   "cell_type": "raw",
   "id": "7717048f",
   "metadata": {},
   "source": [
    "# Cross validation evaluation"
   ]
  },
  {
   "cell_type": "code",
   "execution_count": 21,
   "id": "0624c6f8",
   "metadata": {},
   "outputs": [
    {
     "name": "stdout",
     "output_type": "stream",
     "text": [
      "Mean Square Error: 0.2553\n",
      "Root Mean Square Error: 0.5053\n",
      "R2 Score: 0.9963\n"
     ]
    }
   ],
   "source": [
    "mse_val = mean_squared_error(y_val, y_val_pred)\n",
    "rmse_val = np.sqrt(mse_val)\n",
    "r2_val = r2_score(y_val, y_val_pred)\n",
    "\n",
    "print(f\"Mean Square Error: {mse_val:.4f}\")\n",
    "print(f\"Root Mean Square Error: {rmse_val:.4f}\")\n",
    "print(f\"R2 Score: {r2_val:.4f}\")"
   ]
  },
  {
   "cell_type": "raw",
   "id": "76e40f82",
   "metadata": {},
   "source": [
    "# Test set evaluation"
   ]
  },
  {
   "cell_type": "code",
   "execution_count": 22,
   "id": "1b0e88b0",
   "metadata": {},
   "outputs": [
    {
     "name": "stdout",
     "output_type": "stream",
     "text": [
      "Mean Square Error: 0.2851\n",
      "Root Mean Square Error: 0.5340\n",
      "R2 Score: 0.9958\n"
     ]
    }
   ],
   "source": [
    "mse_test = mean_squared_error(y_test, y_test_pred)\n",
    "rmse_test = np.sqrt(mse_test)\n",
    "r2_test = r2_score(y_test, y_test_pred)\n",
    "\n",
    "print(f\"Mean Square Error: {mse_test:.4f}\")\n",
    "print(f\"Root Mean Square Error: {rmse_test:.4f}\")\n",
    "print(f\"R2 Score: {r2_test:.4f}\")"
   ]
  },
  {
   "cell_type": "raw",
   "id": "88296019",
   "metadata": {},
   "source": [
    "# Hyper parameter tuning"
   ]
  },
  {
   "cell_type": "code",
   "execution_count": 23,
   "id": "58704bea",
   "metadata": {},
   "outputs": [],
   "source": [
    "params = {'n_estimators': 300, \n",
    "               'max_depth': 10, \n",
    "               'learning_rate': 0.1, \n",
    "               'subsample': 1, \n",
    "               'colsample_bytree': 1}"
   ]
  },
  {
   "cell_type": "code",
   "execution_count": 24,
   "id": "42404294",
   "metadata": {},
   "outputs": [
    {
     "data": {
      "text/html": [
       "<style>#sk-container-id-2 {color: black;}#sk-container-id-2 pre{padding: 0;}#sk-container-id-2 div.sk-toggleable {background-color: white;}#sk-container-id-2 label.sk-toggleable__label {cursor: pointer;display: block;width: 100%;margin-bottom: 0;padding: 0.3em;box-sizing: border-box;text-align: center;}#sk-container-id-2 label.sk-toggleable__label-arrow:before {content: \"▸\";float: left;margin-right: 0.25em;color: #696969;}#sk-container-id-2 label.sk-toggleable__label-arrow:hover:before {color: black;}#sk-container-id-2 div.sk-estimator:hover label.sk-toggleable__label-arrow:before {color: black;}#sk-container-id-2 div.sk-toggleable__content {max-height: 0;max-width: 0;overflow: hidden;text-align: left;background-color: #f0f8ff;}#sk-container-id-2 div.sk-toggleable__content pre {margin: 0.2em;color: black;border-radius: 0.25em;background-color: #f0f8ff;}#sk-container-id-2 input.sk-toggleable__control:checked~div.sk-toggleable__content {max-height: 200px;max-width: 100%;overflow: auto;}#sk-container-id-2 input.sk-toggleable__control:checked~label.sk-toggleable__label-arrow:before {content: \"▾\";}#sk-container-id-2 div.sk-estimator input.sk-toggleable__control:checked~label.sk-toggleable__label {background-color: #d4ebff;}#sk-container-id-2 div.sk-label input.sk-toggleable__control:checked~label.sk-toggleable__label {background-color: #d4ebff;}#sk-container-id-2 input.sk-hidden--visually {border: 0;clip: rect(1px 1px 1px 1px);clip: rect(1px, 1px, 1px, 1px);height: 1px;margin: -1px;overflow: hidden;padding: 0;position: absolute;width: 1px;}#sk-container-id-2 div.sk-estimator {font-family: monospace;background-color: #f0f8ff;border: 1px dotted black;border-radius: 0.25em;box-sizing: border-box;margin-bottom: 0.5em;}#sk-container-id-2 div.sk-estimator:hover {background-color: #d4ebff;}#sk-container-id-2 div.sk-parallel-item::after {content: \"\";width: 100%;border-bottom: 1px solid gray;flex-grow: 1;}#sk-container-id-2 div.sk-label:hover label.sk-toggleable__label {background-color: #d4ebff;}#sk-container-id-2 div.sk-serial::before {content: \"\";position: absolute;border-left: 1px solid gray;box-sizing: border-box;top: 0;bottom: 0;left: 50%;z-index: 0;}#sk-container-id-2 div.sk-serial {display: flex;flex-direction: column;align-items: center;background-color: white;padding-right: 0.2em;padding-left: 0.2em;position: relative;}#sk-container-id-2 div.sk-item {position: relative;z-index: 1;}#sk-container-id-2 div.sk-parallel {display: flex;align-items: stretch;justify-content: center;background-color: white;position: relative;}#sk-container-id-2 div.sk-item::before, #sk-container-id-2 div.sk-parallel-item::before {content: \"\";position: absolute;border-left: 1px solid gray;box-sizing: border-box;top: 0;bottom: 0;left: 50%;z-index: -1;}#sk-container-id-2 div.sk-parallel-item {display: flex;flex-direction: column;z-index: 1;position: relative;background-color: white;}#sk-container-id-2 div.sk-parallel-item:first-child::after {align-self: flex-end;width: 50%;}#sk-container-id-2 div.sk-parallel-item:last-child::after {align-self: flex-start;width: 50%;}#sk-container-id-2 div.sk-parallel-item:only-child::after {width: 0;}#sk-container-id-2 div.sk-dashed-wrapped {border: 1px dashed gray;margin: 0 0.4em 0.5em 0.4em;box-sizing: border-box;padding-bottom: 0.4em;background-color: white;}#sk-container-id-2 div.sk-label label {font-family: monospace;font-weight: bold;display: inline-block;line-height: 1.2em;}#sk-container-id-2 div.sk-label-container {text-align: center;}#sk-container-id-2 div.sk-container {/* jupyter's `normalize.less` sets `[hidden] { display: none; }` but bootstrap.min.css set `[hidden] { display: none !important; }` so we also need the `!important` here to be able to override the default hidden behavior on the sphinx rendered scikit-learn.org. See: https://github.com/scikit-learn/scikit-learn/issues/21755 */display: inline-block !important;position: relative;}#sk-container-id-2 div.sk-text-repr-fallback {display: none;}</style><div id=\"sk-container-id-2\" class=\"sk-top-container\"><div class=\"sk-text-repr-fallback\"><pre>XGBRegressor(base_score=None, booster=None, callbacks=None,\n",
       "             colsample_bylevel=None, colsample_bynode=None, colsample_bytree=1,\n",
       "             early_stopping_rounds=None, enable_categorical=True,\n",
       "             eval_metric=None, feature_types=None, gamma=None, gpu_id=None,\n",
       "             grow_policy=None, importance_type=None,\n",
       "             interaction_constraints=None, learning_rate=0.1, max_bin=None,\n",
       "             max_cat_threshold=None, max_cat_to_onehot=None,\n",
       "             max_delta_step=None, max_depth=10, max_leaves=None,\n",
       "             min_child_weight=None, missing=nan, monotone_constraints=None,\n",
       "             n_estimators=300, n_jobs=None, num_parallel_tree=None,\n",
       "             predictor=None, random_state=42, ...)</pre><b>In a Jupyter environment, please rerun this cell to show the HTML representation or trust the notebook. <br />On GitHub, the HTML representation is unable to render, please try loading this page with nbviewer.org.</b></div><div class=\"sk-container\" hidden><div class=\"sk-item\"><div class=\"sk-estimator sk-toggleable\"><input class=\"sk-toggleable__control sk-hidden--visually\" id=\"sk-estimator-id-2\" type=\"checkbox\" checked><label for=\"sk-estimator-id-2\" class=\"sk-toggleable__label sk-toggleable__label-arrow\">XGBRegressor</label><div class=\"sk-toggleable__content\"><pre>XGBRegressor(base_score=None, booster=None, callbacks=None,\n",
       "             colsample_bylevel=None, colsample_bynode=None, colsample_bytree=1,\n",
       "             early_stopping_rounds=None, enable_categorical=True,\n",
       "             eval_metric=None, feature_types=None, gamma=None, gpu_id=None,\n",
       "             grow_policy=None, importance_type=None,\n",
       "             interaction_constraints=None, learning_rate=0.1, max_bin=None,\n",
       "             max_cat_threshold=None, max_cat_to_onehot=None,\n",
       "             max_delta_step=None, max_depth=10, max_leaves=None,\n",
       "             min_child_weight=None, missing=nan, monotone_constraints=None,\n",
       "             n_estimators=300, n_jobs=None, num_parallel_tree=None,\n",
       "             predictor=None, random_state=42, ...)</pre></div></div></div></div></div>"
      ],
      "text/plain": [
       "XGBRegressor(base_score=None, booster=None, callbacks=None,\n",
       "             colsample_bylevel=None, colsample_bynode=None, colsample_bytree=1,\n",
       "             early_stopping_rounds=None, enable_categorical=True,\n",
       "             eval_metric=None, feature_types=None, gamma=None, gpu_id=None,\n",
       "             grow_policy=None, importance_type=None,\n",
       "             interaction_constraints=None, learning_rate=0.1, max_bin=None,\n",
       "             max_cat_threshold=None, max_cat_to_onehot=None,\n",
       "             max_delta_step=None, max_depth=10, max_leaves=None,\n",
       "             min_child_weight=None, missing=nan, monotone_constraints=None,\n",
       "             n_estimators=300, n_jobs=None, num_parallel_tree=None,\n",
       "             predictor=None, random_state=42, ...)"
      ]
     },
     "execution_count": 24,
     "metadata": {},
     "output_type": "execute_result"
    }
   ],
   "source": [
    "tuned_selection_model = XGBRegressor(**params, random_state = 42, enable_categorical = True, tree_method = \"hist\")\n",
    "tuned_selection_model.fit(X_train, y_train, eval_metric = 'rmse', eval_set = [(X_train, y_train), (X_val, y_val)], verbose = False, early_stopping_rounds=10)"
   ]
  },
  {
   "cell_type": "code",
   "execution_count": 25,
   "id": "7d6c354d",
   "metadata": {},
   "outputs": [],
   "source": [
    "y_test_tuned_pred = tuned_selection_model.predict(X_test)"
   ]
  },
  {
   "cell_type": "raw",
   "id": "71d24e92",
   "metadata": {},
   "source": [
    "# Test set evaluation"
   ]
  },
  {
   "cell_type": "code",
   "execution_count": 29,
   "id": "9a14b008",
   "metadata": {},
   "outputs": [
    {
     "name": "stdout",
     "output_type": "stream",
     "text": [
      "Mean Square Error: 0.1522\n",
      "Root Mean Square Error: 0.3902\n",
      "R2 Score: 0.9978\n"
     ]
    }
   ],
   "source": [
    "mse_test = mean_squared_error(y_test, y_test_tuned_pred)\n",
    "rmse_test = np.sqrt(mse_test)\n",
    "r2_test = r2_score(y_test, y_test_tuned_pred)\n",
    "\n",
    "print(f\"Mean Square Error: {mse_test:.4f}\")\n",
    "print(f\"Root Mean Square Error: {rmse_test:.4f}\")\n",
    "print(f\"R2 Score: {r2_test:.4f}\")"
   ]
  },
  {
   "cell_type": "code",
   "execution_count": 32,
   "id": "2b96abd3",
   "metadata": {},
   "outputs": [],
   "source": [
    "plt.figure(figsize = (5,4))\n",
    "sns.regplot(x = y_test, y = y_test_tuned_pred, line_kws = {'color':'red'})\n",
    "plt.xlabel(\"Yield (Quintals)\")\n",
    "plt.ylabel(\"Predictions\")\n",
    "plt.title(f\"R2 Score: {r2_test:.4f}\")\n",
    "plt.show()"
   ]
  },
  {
   "cell_type": "code",
   "execution_count": null,
   "id": "eb6106b2",
   "metadata": {},
   "outputs": [],
   "source": []
  }
 ],
 "metadata": {
  "kernelspec": {
   "display_name": "Python 3 (ipykernel)",
   "language": "python",
   "name": "python3"
  },
  "language_info": {
   "codemirror_mode": {
    "name": "ipython",
    "version": 3
   },
   "file_extension": ".py",
   "mimetype": "text/x-python",
   "name": "python",
   "nbconvert_exporter": "python",
   "pygments_lexer": "ipython3",
   "version": "3.10.13"
  }
 },
 "nbformat": 4,
 "nbformat_minor": 5
}

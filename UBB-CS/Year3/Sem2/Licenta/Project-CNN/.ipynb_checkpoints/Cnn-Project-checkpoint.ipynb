{
 "cells": [
  {
   "cell_type": "raw",
   "id": "fb28fe17",
   "metadata": {},
   "source": [
    "# Importurile de inceput"
   ]
  },
  {
   "cell_type": "code",
   "execution_count": 16,
   "id": "0bfda1fc",
   "metadata": {},
   "outputs": [],
   "source": [
    "import numpy as np\n",
    "import pandas as pd\n",
    "import missingno as msno\n",
    "import matplotlib.pyplot as plt\n",
    "import seaborn as sns\n",
    "import warnings \n",
    "warnings.filterwarnings(\"ignore\")"
   ]
  },
  {
   "cell_type": "raw",
   "id": "b823dfb2",
   "metadata": {},
   "source": [
    "# Second part of imports"
   ]
  },
  {
   "cell_type": "code",
   "execution_count": 32,
   "id": "1b9e972c",
   "metadata": {},
   "outputs": [],
   "source": [
    "from sklearn.model_selection import train_test_split\n",
    "from sklearn.preprocessing import StandardScaler, OneHotEncoder\n",
    "from tensorflow.keras.models import Sequential\n",
    "from tensorflow.keras.layers import Conv2D, MaxPooling2D, Flatten, Dense"
   ]
  },
  {
   "cell_type": "raw",
   "id": "ee16b074",
   "metadata": {},
   "source": [
    "# Excel reads"
   ]
  },
  {
   "cell_type": "code",
   "execution_count": 18,
   "id": "c7eec8e2",
   "metadata": {},
   "outputs": [],
   "source": [
    "df_crop_production = pd.read_csv(\"../Datasets/OpDataset/crop_production_data.csv\")\n",
    "df_soil_analysis = pd.read_csv(\"../Datasets/OpDataset/soil_analysis_data.csv\")\n",
    "df_water_usage = pd.read_csv(\"../Datasets/OpDataset/water_usage_data.csv\")"
   ]
  },
  {
   "cell_type": "code",
   "execution_count": 19,
   "id": "baddc77c",
   "metadata": {},
   "outputs": [
    {
     "name": "stdout",
     "output_type": "stream",
     "text": [
      "<class 'pandas.core.frame.DataFrame'>\n",
      "RangeIndex: 1000 entries, 0 to 999\n",
      "Data columns (total 6 columns):\n",
      " #   Column                    Non-Null Count  Dtype  \n",
      "---  ------                    --------------  -----  \n",
      " 0   District                  1000 non-null   object \n",
      " 1   Crop                      1000 non-null   object \n",
      " 2   Season                    1000 non-null   object \n",
      " 3   Area (hectares)           1000 non-null   float64\n",
      " 4   Yield (quintals)          1000 non-null   float64\n",
      " 5   Production (metric tons)  1000 non-null   float64\n",
      "dtypes: float64(3), object(3)\n",
      "memory usage: 47.0+ KB\n"
     ]
    }
   ],
   "source": [
    "df_crop_production.info()"
   ]
  },
  {
   "cell_type": "code",
   "execution_count": 20,
   "id": "d9c43138",
   "metadata": {},
   "outputs": [
    {
     "name": "stdout",
     "output_type": "stream",
     "text": [
      "<class 'pandas.core.frame.DataFrame'>\n",
      "RangeIndex: 1000 entries, 0 to 999\n",
      "Data columns (total 7 columns):\n",
      " #   Column                      Non-Null Count  Dtype  \n",
      "---  ------                      --------------  -----  \n",
      " 0   District                    1000 non-null   object \n",
      " 1   Soil Type                   1000 non-null   object \n",
      " 2   pH Level                    1000 non-null   float64\n",
      " 3   Organic Matter (%)          1000 non-null   float64\n",
      " 4   Nitrogen Content (kg/ha)    1000 non-null   float64\n",
      " 5   Phosphorus Content (kg/ha)  1000 non-null   float64\n",
      " 6   Potassium Content (kg/ha)   1000 non-null   float64\n",
      "dtypes: float64(5), object(2)\n",
      "memory usage: 54.8+ KB\n"
     ]
    }
   ],
   "source": [
    "df_soil_analysis.info()"
   ]
  },
  {
   "cell_type": "code",
   "execution_count": 21,
   "id": "2c735931",
   "metadata": {},
   "outputs": [
    {
     "name": "stdout",
     "output_type": "stream",
     "text": [
      "<class 'pandas.core.frame.DataFrame'>\n",
      "RangeIndex: 1000 entries, 0 to 999\n",
      "Data columns (total 5 columns):\n",
      " #   Column                               Non-Null Count  Dtype  \n",
      "---  ------                               --------------  -----  \n",
      " 0   District                             1000 non-null   object \n",
      " 1   Crop                                 1000 non-null   object \n",
      " 2   Irrigation Method                    1000 non-null   object \n",
      " 3   Water Consumption (liters/hectare)   1000 non-null   float64\n",
      " 4   Water Availability (liters/hectare)  1000 non-null   float64\n",
      "dtypes: float64(2), object(3)\n",
      "memory usage: 39.2+ KB\n"
     ]
    }
   ],
   "source": [
    "df_water_usage.info()"
   ]
  },
  {
   "cell_type": "raw",
   "id": "3c9b05a9",
   "metadata": {},
   "source": [
    "# First step of merging"
   ]
  },
  {
   "cell_type": "code",
   "execution_count": 22,
   "id": "eeb3711f",
   "metadata": {},
   "outputs": [],
   "source": [
    "merge_soil_crop_production = df_crop_production.merge(df_soil_analysis, on = ['District'])"
   ]
  },
  {
   "cell_type": "raw",
   "id": "eb410a12",
   "metadata": {},
   "source": [
    "# Second merge"
   ]
  },
  {
   "cell_type": "code",
   "execution_count": 23,
   "id": "731dafd9",
   "metadata": {},
   "outputs": [],
   "source": [
    "merge_water_soil_crop_production = merge_soil_crop_production.merge(df_water_usage, on = ['District', 'Crop'])"
   ]
  },
  {
   "cell_type": "code",
   "execution_count": 24,
   "id": "d14b12a1",
   "metadata": {},
   "outputs": [
    {
     "data": {
      "text/html": [
       "<div>\n",
       "<style scoped>\n",
       "    .dataframe tbody tr th:only-of-type {\n",
       "        vertical-align: middle;\n",
       "    }\n",
       "\n",
       "    .dataframe tbody tr th {\n",
       "        vertical-align: top;\n",
       "    }\n",
       "\n",
       "    .dataframe thead th {\n",
       "        text-align: right;\n",
       "    }\n",
       "</style>\n",
       "<table border=\"1\" class=\"dataframe\">\n",
       "  <thead>\n",
       "    <tr style=\"text-align: right;\">\n",
       "      <th></th>\n",
       "      <th>District</th>\n",
       "      <th>Crop</th>\n",
       "      <th>Season</th>\n",
       "      <th>Area (hectares)</th>\n",
       "      <th>Yield (quintals)</th>\n",
       "      <th>Production (metric tons)</th>\n",
       "      <th>Soil Type</th>\n",
       "      <th>pH Level</th>\n",
       "      <th>Organic Matter (%)</th>\n",
       "      <th>Nitrogen Content (kg/ha)</th>\n",
       "      <th>Phosphorus Content (kg/ha)</th>\n",
       "      <th>Potassium Content (kg/ha)</th>\n",
       "      <th>Irrigation Method</th>\n",
       "      <th>Water Consumption (liters/hectare)</th>\n",
       "      <th>Water Availability (liters/hectare)</th>\n",
       "    </tr>\n",
       "  </thead>\n",
       "  <tbody>\n",
       "    <tr>\n",
       "      <th>0</th>\n",
       "      <td>Jodhpur</td>\n",
       "      <td>Wheat</td>\n",
       "      <td>Kharif</td>\n",
       "      <td>16490.142459</td>\n",
       "      <td>30.691986</td>\n",
       "      <td>5061.15223</td>\n",
       "      <td>Sandy</td>\n",
       "      <td>7.453182</td>\n",
       "      <td>2.662898</td>\n",
       "      <td>23.564182</td>\n",
       "      <td>13.014409</td>\n",
       "      <td>37.082003</td>\n",
       "      <td>Sprinkler Irrigation</td>\n",
       "      <td>9738.809833</td>\n",
       "      <td>10557.488279</td>\n",
       "    </tr>\n",
       "    <tr>\n",
       "      <th>1</th>\n",
       "      <td>Jodhpur</td>\n",
       "      <td>Wheat</td>\n",
       "      <td>Kharif</td>\n",
       "      <td>16490.142459</td>\n",
       "      <td>30.691986</td>\n",
       "      <td>5061.15223</td>\n",
       "      <td>Sandy</td>\n",
       "      <td>7.453182</td>\n",
       "      <td>2.662898</td>\n",
       "      <td>23.564182</td>\n",
       "      <td>13.014409</td>\n",
       "      <td>37.082003</td>\n",
       "      <td>Sprinkler Irrigation</td>\n",
       "      <td>13591.319448</td>\n",
       "      <td>14448.126887</td>\n",
       "    </tr>\n",
       "    <tr>\n",
       "      <th>2</th>\n",
       "      <td>Jodhpur</td>\n",
       "      <td>Wheat</td>\n",
       "      <td>Kharif</td>\n",
       "      <td>16490.142459</td>\n",
       "      <td>30.691986</td>\n",
       "      <td>5061.15223</td>\n",
       "      <td>Sandy</td>\n",
       "      <td>7.453182</td>\n",
       "      <td>2.662898</td>\n",
       "      <td>23.564182</td>\n",
       "      <td>13.014409</td>\n",
       "      <td>37.082003</td>\n",
       "      <td>Drip Irrigation</td>\n",
       "      <td>8811.686999</td>\n",
       "      <td>8512.323275</td>\n",
       "    </tr>\n",
       "    <tr>\n",
       "      <th>3</th>\n",
       "      <td>Jodhpur</td>\n",
       "      <td>Wheat</td>\n",
       "      <td>Kharif</td>\n",
       "      <td>16490.142459</td>\n",
       "      <td>30.691986</td>\n",
       "      <td>5061.15223</td>\n",
       "      <td>Sandy</td>\n",
       "      <td>7.453182</td>\n",
       "      <td>2.662898</td>\n",
       "      <td>23.564182</td>\n",
       "      <td>13.014409</td>\n",
       "      <td>37.082003</td>\n",
       "      <td>Sprinkler Irrigation</td>\n",
       "      <td>8860.161716</td>\n",
       "      <td>9434.989877</td>\n",
       "    </tr>\n",
       "    <tr>\n",
       "      <th>4</th>\n",
       "      <td>Jodhpur</td>\n",
       "      <td>Wheat</td>\n",
       "      <td>Kharif</td>\n",
       "      <td>16490.142459</td>\n",
       "      <td>30.691986</td>\n",
       "      <td>5061.15223</td>\n",
       "      <td>Chalky (Calcareous)</td>\n",
       "      <td>7.305740</td>\n",
       "      <td>2.095212</td>\n",
       "      <td>32.246094</td>\n",
       "      <td>17.450967</td>\n",
       "      <td>40.172205</td>\n",
       "      <td>Sprinkler Irrigation</td>\n",
       "      <td>9738.809833</td>\n",
       "      <td>10557.488279</td>\n",
       "    </tr>\n",
       "  </tbody>\n",
       "</table>\n",
       "</div>"
      ],
      "text/plain": [
       "  District   Crop  Season  Area (hectares)  Yield (quintals)  \\\n",
       "0  Jodhpur  Wheat  Kharif     16490.142459         30.691986   \n",
       "1  Jodhpur  Wheat  Kharif     16490.142459         30.691986   \n",
       "2  Jodhpur  Wheat  Kharif     16490.142459         30.691986   \n",
       "3  Jodhpur  Wheat  Kharif     16490.142459         30.691986   \n",
       "4  Jodhpur  Wheat  Kharif     16490.142459         30.691986   \n",
       "\n",
       "   Production (metric tons)            Soil Type  pH Level  \\\n",
       "0                5061.15223                Sandy  7.453182   \n",
       "1                5061.15223                Sandy  7.453182   \n",
       "2                5061.15223                Sandy  7.453182   \n",
       "3                5061.15223                Sandy  7.453182   \n",
       "4                5061.15223  Chalky (Calcareous)  7.305740   \n",
       "\n",
       "   Organic Matter (%)  Nitrogen Content (kg/ha)  Phosphorus Content (kg/ha)  \\\n",
       "0            2.662898                 23.564182                   13.014409   \n",
       "1            2.662898                 23.564182                   13.014409   \n",
       "2            2.662898                 23.564182                   13.014409   \n",
       "3            2.662898                 23.564182                   13.014409   \n",
       "4            2.095212                 32.246094                   17.450967   \n",
       "\n",
       "   Potassium Content (kg/ha)     Irrigation Method  \\\n",
       "0                  37.082003  Sprinkler Irrigation   \n",
       "1                  37.082003  Sprinkler Irrigation   \n",
       "2                  37.082003       Drip Irrigation   \n",
       "3                  37.082003  Sprinkler Irrigation   \n",
       "4                  40.172205  Sprinkler Irrigation   \n",
       "\n",
       "   Water Consumption (liters/hectare)  Water Availability (liters/hectare)  \n",
       "0                         9738.809833                         10557.488279  \n",
       "1                        13591.319448                         14448.126887  \n",
       "2                         8811.686999                          8512.323275  \n",
       "3                         8860.161716                          9434.989877  \n",
       "4                         9738.809833                         10557.488279  "
      ]
     },
     "execution_count": 24,
     "metadata": {},
     "output_type": "execute_result"
    }
   ],
   "source": [
    "database = merge_water_soil_crop_production.copy()\n",
    "database.head()"
   ]
  },
  {
   "cell_type": "code",
   "execution_count": 25,
   "id": "2254fa07",
   "metadata": {},
   "outputs": [
    {
     "data": {
      "text/html": [
       "<div>\n",
       "<style scoped>\n",
       "    .dataframe tbody tr th:only-of-type {\n",
       "        vertical-align: middle;\n",
       "    }\n",
       "\n",
       "    .dataframe tbody tr th {\n",
       "        vertical-align: top;\n",
       "    }\n",
       "\n",
       "    .dataframe thead th {\n",
       "        text-align: right;\n",
       "    }\n",
       "</style>\n",
       "<table border=\"1\" class=\"dataframe\">\n",
       "  <thead>\n",
       "    <tr style=\"text-align: right;\">\n",
       "      <th></th>\n",
       "      <th>District</th>\n",
       "      <th>Crop</th>\n",
       "      <th>Season</th>\n",
       "      <th>Area (hectares)</th>\n",
       "      <th>Yield (quintals)</th>\n",
       "      <th>Soil Type</th>\n",
       "      <th>pH Level</th>\n",
       "      <th>Organic Matter (%)</th>\n",
       "      <th>Nitrogen Content (kg/ha)</th>\n",
       "      <th>Phosphorus Content (kg/ha)</th>\n",
       "      <th>Potassium Content (kg/ha)</th>\n",
       "      <th>Irrigation Method</th>\n",
       "      <th>Water Availability (liters/hectare)</th>\n",
       "    </tr>\n",
       "  </thead>\n",
       "  <tbody>\n",
       "    <tr>\n",
       "      <th>0</th>\n",
       "      <td>Jodhpur</td>\n",
       "      <td>Wheat</td>\n",
       "      <td>Kharif</td>\n",
       "      <td>16490.142459</td>\n",
       "      <td>30.691986</td>\n",
       "      <td>Sandy</td>\n",
       "      <td>7.453182</td>\n",
       "      <td>2.662898</td>\n",
       "      <td>23.564182</td>\n",
       "      <td>13.014409</td>\n",
       "      <td>37.082003</td>\n",
       "      <td>Sprinkler Irrigation</td>\n",
       "      <td>10557.488279</td>\n",
       "    </tr>\n",
       "    <tr>\n",
       "      <th>1</th>\n",
       "      <td>Jodhpur</td>\n",
       "      <td>Wheat</td>\n",
       "      <td>Kharif</td>\n",
       "      <td>16490.142459</td>\n",
       "      <td>30.691986</td>\n",
       "      <td>Sandy</td>\n",
       "      <td>7.453182</td>\n",
       "      <td>2.662898</td>\n",
       "      <td>23.564182</td>\n",
       "      <td>13.014409</td>\n",
       "      <td>37.082003</td>\n",
       "      <td>Sprinkler Irrigation</td>\n",
       "      <td>14448.126887</td>\n",
       "    </tr>\n",
       "    <tr>\n",
       "      <th>2</th>\n",
       "      <td>Jodhpur</td>\n",
       "      <td>Wheat</td>\n",
       "      <td>Kharif</td>\n",
       "      <td>16490.142459</td>\n",
       "      <td>30.691986</td>\n",
       "      <td>Sandy</td>\n",
       "      <td>7.453182</td>\n",
       "      <td>2.662898</td>\n",
       "      <td>23.564182</td>\n",
       "      <td>13.014409</td>\n",
       "      <td>37.082003</td>\n",
       "      <td>Drip Irrigation</td>\n",
       "      <td>8512.323275</td>\n",
       "    </tr>\n",
       "    <tr>\n",
       "      <th>3</th>\n",
       "      <td>Jodhpur</td>\n",
       "      <td>Wheat</td>\n",
       "      <td>Kharif</td>\n",
       "      <td>16490.142459</td>\n",
       "      <td>30.691986</td>\n",
       "      <td>Sandy</td>\n",
       "      <td>7.453182</td>\n",
       "      <td>2.662898</td>\n",
       "      <td>23.564182</td>\n",
       "      <td>13.014409</td>\n",
       "      <td>37.082003</td>\n",
       "      <td>Sprinkler Irrigation</td>\n",
       "      <td>9434.989877</td>\n",
       "    </tr>\n",
       "    <tr>\n",
       "      <th>4</th>\n",
       "      <td>Jodhpur</td>\n",
       "      <td>Wheat</td>\n",
       "      <td>Kharif</td>\n",
       "      <td>16490.142459</td>\n",
       "      <td>30.691986</td>\n",
       "      <td>Chalky (Calcareous)</td>\n",
       "      <td>7.305740</td>\n",
       "      <td>2.095212</td>\n",
       "      <td>32.246094</td>\n",
       "      <td>17.450967</td>\n",
       "      <td>40.172205</td>\n",
       "      <td>Sprinkler Irrigation</td>\n",
       "      <td>10557.488279</td>\n",
       "    </tr>\n",
       "  </tbody>\n",
       "</table>\n",
       "</div>"
      ],
      "text/plain": [
       "  District   Crop  Season  Area (hectares)  Yield (quintals)  \\\n",
       "0  Jodhpur  Wheat  Kharif     16490.142459         30.691986   \n",
       "1  Jodhpur  Wheat  Kharif     16490.142459         30.691986   \n",
       "2  Jodhpur  Wheat  Kharif     16490.142459         30.691986   \n",
       "3  Jodhpur  Wheat  Kharif     16490.142459         30.691986   \n",
       "4  Jodhpur  Wheat  Kharif     16490.142459         30.691986   \n",
       "\n",
       "             Soil Type  pH Level  Organic Matter (%)  \\\n",
       "0                Sandy  7.453182            2.662898   \n",
       "1                Sandy  7.453182            2.662898   \n",
       "2                Sandy  7.453182            2.662898   \n",
       "3                Sandy  7.453182            2.662898   \n",
       "4  Chalky (Calcareous)  7.305740            2.095212   \n",
       "\n",
       "   Nitrogen Content (kg/ha)  Phosphorus Content (kg/ha)  \\\n",
       "0                 23.564182                   13.014409   \n",
       "1                 23.564182                   13.014409   \n",
       "2                 23.564182                   13.014409   \n",
       "3                 23.564182                   13.014409   \n",
       "4                 32.246094                   17.450967   \n",
       "\n",
       "   Potassium Content (kg/ha)     Irrigation Method  \\\n",
       "0                  37.082003  Sprinkler Irrigation   \n",
       "1                  37.082003  Sprinkler Irrigation   \n",
       "2                  37.082003       Drip Irrigation   \n",
       "3                  37.082003  Sprinkler Irrigation   \n",
       "4                  40.172205  Sprinkler Irrigation   \n",
       "\n",
       "   Water Availability (liters/hectare)  \n",
       "0                         10557.488279  \n",
       "1                         14448.126887  \n",
       "2                          8512.323275  \n",
       "3                          9434.989877  \n",
       "4                         10557.488279  "
      ]
     },
     "execution_count": 25,
     "metadata": {},
     "output_type": "execute_result"
    }
   ],
   "source": [
    "database = database.drop(columns = ['Production (metric tons)', 'Water Consumption (liters/hectare)'], axis = 1)\n",
    "database.head()"
   ]
  },
  {
   "cell_type": "code",
   "execution_count": 26,
   "id": "6be93e53",
   "metadata": {},
   "outputs": [
    {
     "data": {
      "text/plain": [
       "District                               0\n",
       "Crop                                   0\n",
       "Season                                 0\n",
       "Area (hectares)                        0\n",
       "Yield (quintals)                       0\n",
       "Soil Type                              0\n",
       "pH Level                               0\n",
       "Organic Matter (%)                     0\n",
       "Nitrogen Content (kg/ha)               0\n",
       "Phosphorus Content (kg/ha)             0\n",
       "Potassium Content (kg/ha)              0\n",
       "Irrigation Method                      0\n",
       "Water Availability (liters/hectare)    0\n",
       "dtype: int64"
      ]
     },
     "execution_count": 26,
     "metadata": {},
     "output_type": "execute_result"
    }
   ],
   "source": [
    "database.isnull().sum()"
   ]
  },
  {
   "cell_type": "code",
   "execution_count": 27,
   "id": "d8f17505",
   "metadata": {},
   "outputs": [
    {
     "data": {
      "text/plain": [
       "0"
      ]
     },
     "execution_count": 27,
     "metadata": {},
     "output_type": "execute_result"
    }
   ],
   "source": [
    "database.duplicated().sum()"
   ]
  },
  {
   "cell_type": "code",
   "execution_count": 28,
   "id": "256796fb",
   "metadata": {},
   "outputs": [],
   "source": [
    "X = database.drop(columns=['Yield (quintals)'])  # Features\n",
    "y = database['Yield (quintals)']  # Target"
   ]
  },
  {
   "cell_type": "raw",
   "id": "8dc02988-659d-4a55-b365-fe33f9f72b4c",
   "metadata": {},
   "source": [
    "# Encode categorical variables"
   ]
  },
  {
   "cell_type": "code",
   "execution_count": 29,
   "id": "f5a47a71",
   "metadata": {},
   "outputs": [],
   "source": [
    "encoder = OneHotEncoder()\n",
    "X_encoded = encoder.fit_transform(X[['District', 'Crop', 'Season', 'Soil Type', 'Irrigation Method']])\n",
    "X_categorical = pd.DataFrame(X_encoded.toarray(), columns=encoder.get_feature_names(['District', 'Crop', 'Season', 'Soil Type', 'Irrigation Method']))\n",
    "X_numeric = X.drop(columns=['District', 'Crop', 'Season', 'Soil Type', 'Irrigation Method'])\n"
   ]
  },
  {
   "cell_type": "raw",
   "id": "1f9acc32-de76-4a2f-a279-1e23c93fa662",
   "metadata": {},
   "source": [
    "# Categorical features to be one-hot encoded"
   ]
  },
  {
   "cell_type": "code",
   "execution_count": 33,
   "id": "80fcc701-cad7-4880-9cf9-2e77e94319ca",
   "metadata": {},
   "outputs": [],
   "source": [
    "cat_features = ['District', 'Crop', 'Season', 'Soil Type', 'Irrigation Method']\n",
    "encoder = OneHotEncoder(drop='first', sparse=False)\n",
    "X_train_encoded = encoder.fit_transform(X_train[cat_features])\n",
    "X_val_encoded = encoder.transform(X_val[cat_features])\n",
    "X_test_encoded = encoder.transform(X_test[cat_features])"
   ]
  },
  {
   "cell_type": "raw",
   "id": "8c36177d-ca3e-427b-b814-529a847c8d43",
   "metadata": {},
   "source": [
    "# Standardize numerical features"
   ]
  },
  {
   "cell_type": "code",
   "execution_count": 34,
   "id": "bdf48a26",
   "metadata": {},
   "outputs": [],
   "source": [
    "num_features = [col for col in X.columns if col not in cat_features]\n",
    "scaler = StandardScaler()\n",
    "X_train_scaled = scaler.fit_transform(X_train[num_features])\n",
    "X_val_scaled = scaler.transform(X_val[num_features])\n",
    "X_test_scaled = scaler.transform(X_test[num_features])"
   ]
  },
  {
   "cell_type": "raw",
   "id": "26486719-9701-4034-9e9d-59a03e7ce7d8",
   "metadata": {},
   "source": [
    "# Combine one-hot encoded categorical features with standardized numerical features"
   ]
  },
  {
   "cell_type": "code",
   "execution_count": 35,
   "id": "5d69af60",
   "metadata": {},
   "outputs": [],
   "source": [
    "X_train_final = np.concatenate([X_train_scaled, X_train_encoded], axis=1)\n",
    "X_val_final = np.concatenate([X_val_scaled, X_val_encoded], axis=1)\n",
    "X_test_final = np.concatenate([X_test_scaled, X_test_encoded], axis=1)"
   ]
  },
  {
   "cell_type": "raw",
   "id": "a4c67be3-b9ea-4830-b14c-2fdb13004f20",
   "metadata": {},
   "source": [
    "# Reshape the input data for CNN (assuming 2D data)"
   ]
  },
  {
   "cell_type": "code",
   "execution_count": 45,
   "id": "03655524",
   "metadata": {},
   "outputs": [],
   "source": [
    "# Reshape the input data for CNN (assuming 2D data)\n",
    "input_shape = (X_train_final.shape[1], 1, 1)  # Shape of input features\n",
    "X_train_reshaped = X_train_final.reshape(-1, *input_shape)  # Reshape for CNN\n",
    "X_val_reshaped = X_val_final.reshape(-1, *input_shape)\n",
    "X_test_reshaped = X_test_final.reshape(-1, *input_shape)"
   ]
  },
  {
   "cell_type": "code",
   "execution_count": 46,
   "id": "837f46e2",
   "metadata": {},
   "outputs": [],
   "source": [
    "# Define the CNN mode"
   ]
  },
  {
   "cell_type": "code",
   "execution_count": 47,
   "id": "e5cf2220-901e-4fe4-82b8-0014da1a139a",
   "metadata": {},
   "outputs": [
    {
     "ename": "ValueError",
     "evalue": "One of the dimensions in the output is <= 0 due to downsampling in conv2d_4. Consider increasing the input size. Received input shape [None, 49, 1, 1] which would produce output shape with a zero or negative value in a dimension.",
     "output_type": "error",
     "traceback": [
      "\u001b[1;31m---------------------------------------------------------------------------\u001b[0m",
      "\u001b[1;31mValueError\u001b[0m                                Traceback (most recent call last)",
      "Cell \u001b[1;32mIn[47], line 1\u001b[0m\n\u001b[1;32m----> 1\u001b[0m model \u001b[38;5;241m=\u001b[39m \u001b[43mSequential\u001b[49m\u001b[43m(\u001b[49m\u001b[43m[\u001b[49m\n\u001b[0;32m      2\u001b[0m \u001b[43m    \u001b[49m\u001b[43mConv2D\u001b[49m\u001b[43m(\u001b[49m\u001b[38;5;241;43m32\u001b[39;49m\u001b[43m,\u001b[49m\u001b[43m \u001b[49m\u001b[43mkernel_size\u001b[49m\u001b[38;5;241;43m=\u001b[39;49m\u001b[43m(\u001b[49m\u001b[38;5;241;43m3\u001b[39;49m\u001b[43m,\u001b[49m\u001b[43m \u001b[49m\u001b[38;5;241;43m3\u001b[39;49m\u001b[43m)\u001b[49m\u001b[43m,\u001b[49m\u001b[43m \u001b[49m\u001b[43mactivation\u001b[49m\u001b[38;5;241;43m=\u001b[39;49m\u001b[38;5;124;43m'\u001b[39;49m\u001b[38;5;124;43mrelu\u001b[39;49m\u001b[38;5;124;43m'\u001b[39;49m\u001b[43m,\u001b[49m\u001b[43m \u001b[49m\u001b[43minput_shape\u001b[49m\u001b[38;5;241;43m=\u001b[39;49m\u001b[43minput_shape\u001b[49m\u001b[43m)\u001b[49m\u001b[43m,\u001b[49m\n\u001b[0;32m      3\u001b[0m \u001b[43m    \u001b[49m\u001b[43mMaxPooling2D\u001b[49m\u001b[43m(\u001b[49m\u001b[43mpool_size\u001b[49m\u001b[38;5;241;43m=\u001b[39;49m\u001b[43m(\u001b[49m\u001b[38;5;241;43m2\u001b[39;49m\u001b[43m,\u001b[49m\u001b[43m \u001b[49m\u001b[38;5;241;43m2\u001b[39;49m\u001b[43m)\u001b[49m\u001b[43m)\u001b[49m\u001b[43m,\u001b[49m\n\u001b[0;32m      4\u001b[0m \u001b[43m    \u001b[49m\u001b[43mFlatten\u001b[49m\u001b[43m(\u001b[49m\u001b[43m)\u001b[49m\u001b[43m,\u001b[49m\n\u001b[0;32m      5\u001b[0m \u001b[43m    \u001b[49m\u001b[43mDense\u001b[49m\u001b[43m(\u001b[49m\u001b[38;5;241;43m128\u001b[39;49m\u001b[43m,\u001b[49m\u001b[43m \u001b[49m\u001b[43mactivation\u001b[49m\u001b[38;5;241;43m=\u001b[39;49m\u001b[38;5;124;43m'\u001b[39;49m\u001b[38;5;124;43mrelu\u001b[39;49m\u001b[38;5;124;43m'\u001b[39;49m\u001b[43m)\u001b[49m\u001b[43m,\u001b[49m\n\u001b[0;32m      6\u001b[0m \u001b[43m    \u001b[49m\u001b[43mDense\u001b[49m\u001b[43m(\u001b[49m\u001b[38;5;241;43m1\u001b[39;49m\u001b[43m)\u001b[49m\u001b[43m  \u001b[49m\u001b[38;5;66;43;03m# Output layer for regression\u001b[39;49;00m\n\u001b[0;32m      7\u001b[0m \u001b[43m]\u001b[49m\u001b[43m)\u001b[49m\n",
      "File \u001b[1;32m~\\anaconda3\\lib\\site-packages\\tensorflow\\python\\trackable\\base.py:205\u001b[0m, in \u001b[0;36mno_automatic_dependency_tracking.<locals>._method_wrapper\u001b[1;34m(self, *args, **kwargs)\u001b[0m\n\u001b[0;32m    203\u001b[0m \u001b[38;5;28mself\u001b[39m\u001b[38;5;241m.\u001b[39m_self_setattr_tracking \u001b[38;5;241m=\u001b[39m \u001b[38;5;28;01mFalse\u001b[39;00m  \u001b[38;5;66;03m# pylint: disable=protected-access\u001b[39;00m\n\u001b[0;32m    204\u001b[0m \u001b[38;5;28;01mtry\u001b[39;00m:\n\u001b[1;32m--> 205\u001b[0m   result \u001b[38;5;241m=\u001b[39m method(\u001b[38;5;28mself\u001b[39m, \u001b[38;5;241m*\u001b[39margs, \u001b[38;5;241m*\u001b[39m\u001b[38;5;241m*\u001b[39mkwargs)\n\u001b[0;32m    206\u001b[0m \u001b[38;5;28;01mfinally\u001b[39;00m:\n\u001b[0;32m    207\u001b[0m   \u001b[38;5;28mself\u001b[39m\u001b[38;5;241m.\u001b[39m_self_setattr_tracking \u001b[38;5;241m=\u001b[39m previous_value  \u001b[38;5;66;03m# pylint: disable=protected-access\u001b[39;00m\n",
      "File \u001b[1;32m~\\anaconda3\\lib\\site-packages\\keras\\utils\\traceback_utils.py:70\u001b[0m, in \u001b[0;36mfilter_traceback.<locals>.error_handler\u001b[1;34m(*args, **kwargs)\u001b[0m\n\u001b[0;32m     67\u001b[0m     filtered_tb \u001b[38;5;241m=\u001b[39m _process_traceback_frames(e\u001b[38;5;241m.\u001b[39m__traceback__)\n\u001b[0;32m     68\u001b[0m     \u001b[38;5;66;03m# To get the full stack trace, call:\u001b[39;00m\n\u001b[0;32m     69\u001b[0m     \u001b[38;5;66;03m# `tf.debugging.disable_traceback_filtering()`\u001b[39;00m\n\u001b[1;32m---> 70\u001b[0m     \u001b[38;5;28;01mraise\u001b[39;00m e\u001b[38;5;241m.\u001b[39mwith_traceback(filtered_tb) \u001b[38;5;28;01mfrom\u001b[39;00m \u001b[38;5;28;01mNone\u001b[39;00m\n\u001b[0;32m     71\u001b[0m \u001b[38;5;28;01mfinally\u001b[39;00m:\n\u001b[0;32m     72\u001b[0m     \u001b[38;5;28;01mdel\u001b[39;00m filtered_tb\n",
      "File \u001b[1;32m~\\anaconda3\\lib\\site-packages\\keras\\layers\\convolutional\\base_conv.py:347\u001b[0m, in \u001b[0;36mConv.compute_output_shape\u001b[1;34m(self, input_shape)\u001b[0m\n\u001b[0;32m    340\u001b[0m         \u001b[38;5;28;01mreturn\u001b[39;00m tf\u001b[38;5;241m.\u001b[39mTensorShape(\n\u001b[0;32m    341\u001b[0m             input_shape[:batch_rank]\n\u001b[0;32m    342\u001b[0m             \u001b[38;5;241m+\u001b[39m [\u001b[38;5;28mself\u001b[39m\u001b[38;5;241m.\u001b[39mfilters]\n\u001b[0;32m    343\u001b[0m             \u001b[38;5;241m+\u001b[39m \u001b[38;5;28mself\u001b[39m\u001b[38;5;241m.\u001b[39m_spatial_output_shape(input_shape[batch_rank \u001b[38;5;241m+\u001b[39m \u001b[38;5;241m1\u001b[39m :])\n\u001b[0;32m    344\u001b[0m         )\n\u001b[0;32m    346\u001b[0m \u001b[38;5;28;01mexcept\u001b[39;00m \u001b[38;5;167;01mValueError\u001b[39;00m:\n\u001b[1;32m--> 347\u001b[0m     \u001b[38;5;28;01mraise\u001b[39;00m \u001b[38;5;167;01mValueError\u001b[39;00m(\n\u001b[0;32m    348\u001b[0m         \u001b[38;5;124mf\u001b[39m\u001b[38;5;124m\"\u001b[39m\u001b[38;5;124mOne of the dimensions in the output is <= 0 \u001b[39m\u001b[38;5;124m\"\u001b[39m\n\u001b[0;32m    349\u001b[0m         \u001b[38;5;124mf\u001b[39m\u001b[38;5;124m\"\u001b[39m\u001b[38;5;124mdue to downsampling in \u001b[39m\u001b[38;5;132;01m{\u001b[39;00m\u001b[38;5;28mself\u001b[39m\u001b[38;5;241m.\u001b[39mname\u001b[38;5;132;01m}\u001b[39;00m\u001b[38;5;124m. Consider \u001b[39m\u001b[38;5;124m\"\u001b[39m\n\u001b[0;32m    350\u001b[0m         \u001b[38;5;124mf\u001b[39m\u001b[38;5;124m\"\u001b[39m\u001b[38;5;124mincreasing the input size. \u001b[39m\u001b[38;5;124m\"\u001b[39m\n\u001b[0;32m    351\u001b[0m         \u001b[38;5;124mf\u001b[39m\u001b[38;5;124m\"\u001b[39m\u001b[38;5;124mReceived input shape \u001b[39m\u001b[38;5;132;01m{\u001b[39;00minput_shape\u001b[38;5;132;01m}\u001b[39;00m\u001b[38;5;124m which would produce \u001b[39m\u001b[38;5;124m\"\u001b[39m\n\u001b[0;32m    352\u001b[0m         \u001b[38;5;124mf\u001b[39m\u001b[38;5;124m\"\u001b[39m\u001b[38;5;124moutput shape with a zero or negative value in a \u001b[39m\u001b[38;5;124m\"\u001b[39m\n\u001b[0;32m    353\u001b[0m         \u001b[38;5;124mf\u001b[39m\u001b[38;5;124m\"\u001b[39m\u001b[38;5;124mdimension.\u001b[39m\u001b[38;5;124m\"\u001b[39m\n\u001b[0;32m    354\u001b[0m     )\n",
      "\u001b[1;31mValueError\u001b[0m: One of the dimensions in the output is <= 0 due to downsampling in conv2d_4. Consider increasing the input size. Received input shape [None, 49, 1, 1] which would produce output shape with a zero or negative value in a dimension."
     ]
    }
   ],
   "source": [
    "model = Sequential([\n",
    "    Conv2D(32, kernel_size=(3, 3), activation='relu', input_shape=input_shape),\n",
    "    MaxPooling2D(pool_size=(2, 2)),\n",
    "    Flatten(),\n",
    "    Dense(128, activation='relu'),\n",
    "    Dense(1)  # Output layer for regression\n",
    "])"
   ]
  },
  {
   "cell_type": "code",
   "execution_count": null,
   "id": "76b15207-40e8-4aa0-b960-d76501828032",
   "metadata": {},
   "outputs": [],
   "source": []
  },
  {
   "cell_type": "code",
   "execution_count": null,
   "id": "35c0358e-6c64-4b1f-bc87-3f10e61a1258",
   "metadata": {},
   "outputs": [],
   "source": []
  },
  {
   "cell_type": "code",
   "execution_count": null,
   "id": "7edf1914-17c4-4e55-881f-429c9e77ebc5",
   "metadata": {},
   "outputs": [],
   "source": []
  },
  {
   "cell_type": "code",
   "execution_count": null,
   "id": "d0971b74-0e28-4e79-8fcb-dbe006322020",
   "metadata": {},
   "outputs": [],
   "source": []
  },
  {
   "cell_type": "code",
   "execution_count": null,
   "id": "5ab879d9-5bf3-4263-bca4-8ccc0ac92b41",
   "metadata": {},
   "outputs": [],
   "source": []
  }
 ],
 "metadata": {
  "kernelspec": {
   "display_name": "Python 3 (ipykernel)",
   "language": "python",
   "name": "python3"
  },
  "language_info": {
   "codemirror_mode": {
    "name": "ipython",
    "version": 3
   },
   "file_extension": ".py",
   "mimetype": "text/x-python",
   "name": "python",
   "nbconvert_exporter": "python",
   "pygments_lexer": "ipython3",
   "version": "3.10.13"
  }
 },
 "nbformat": 4,
 "nbformat_minor": 5
}

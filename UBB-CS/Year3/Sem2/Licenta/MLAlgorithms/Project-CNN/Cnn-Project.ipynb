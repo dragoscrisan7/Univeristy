{
 "cells": [
  {
   "cell_type": "raw",
   "id": "fb28fe17",
   "metadata": {},
   "source": [
    "# Importurile de inceput"
   ]
  },
  {
   "cell_type": "code",
   "execution_count": 121,
   "id": "0bfda1fc",
   "metadata": {},
   "outputs": [],
   "source": [
    "import numpy as np\n",
    "import pandas as pd\n",
    "import missingno as msno\n",
    "import matplotlib.pyplot as plt\n",
    "import seaborn as sns\n",
    "import warnings \n",
    "import joblib\n",
    "warnings.filterwarnings(\"ignore\")"
   ]
  },
  {
   "cell_type": "raw",
   "id": "b823dfb2",
   "metadata": {},
   "source": [
    "# Second part of imports"
   ]
  },
  {
   "cell_type": "code",
   "execution_count": 122,
   "id": "1b9e972c",
   "metadata": {},
   "outputs": [],
   "source": [
    "from sklearn.model_selection import train_test_split\n",
    "from sklearn.preprocessing import StandardScaler, OneHotEncoder\n",
    "from sklearn.metrics import mean_squared_error, r2_score\n",
    "from tensorflow.keras.models import Sequential\n",
    "from tensorflow.keras.layers import Conv2D, MaxPooling2D, Flatten, Dense"
   ]
  },
  {
   "cell_type": "raw",
   "id": "ee16b074",
   "metadata": {},
   "source": [
    "# Excel reads"
   ]
  },
  {
   "cell_type": "code",
   "execution_count": 123,
   "id": "c7eec8e2",
   "metadata": {},
   "outputs": [],
   "source": [
    "df_crop_production = pd.read_csv(\"../../Datasets/OpDataset/crop_production_data.csv\")\n",
    "df_soil_analysis = pd.read_csv(\"../../Datasets/OpDataset/soil_analysis_data.csv\")\n",
    "df_water_usage = pd.read_csv(\"../../Datasets/OpDataset/water_usage_data.csv\")"
   ]
  },
  {
   "cell_type": "code",
   "execution_count": 124,
   "id": "baddc77c",
   "metadata": {},
   "outputs": [
    {
     "name": "stdout",
     "output_type": "stream",
     "text": [
      "<class 'pandas.core.frame.DataFrame'>\n",
      "RangeIndex: 1000 entries, 0 to 999\n",
      "Data columns (total 6 columns):\n",
      " #   Column                    Non-Null Count  Dtype  \n",
      "---  ------                    --------------  -----  \n",
      " 0   District                  1000 non-null   object \n",
      " 1   Crop                      1000 non-null   object \n",
      " 2   Season                    1000 non-null   object \n",
      " 3   Area (hectares)           1000 non-null   float64\n",
      " 4   Yield (quintals)          1000 non-null   float64\n",
      " 5   Production (metric tons)  1000 non-null   float64\n",
      "dtypes: float64(3), object(3)\n",
      "memory usage: 47.0+ KB\n"
     ]
    }
   ],
   "source": [
    "df_crop_production.info()"
   ]
  },
  {
   "cell_type": "code",
   "execution_count": 125,
   "id": "d9c43138",
   "metadata": {},
   "outputs": [
    {
     "name": "stdout",
     "output_type": "stream",
     "text": [
      "<class 'pandas.core.frame.DataFrame'>\n",
      "RangeIndex: 1000 entries, 0 to 999\n",
      "Data columns (total 7 columns):\n",
      " #   Column                      Non-Null Count  Dtype  \n",
      "---  ------                      --------------  -----  \n",
      " 0   District                    1000 non-null   object \n",
      " 1   Soil Type                   1000 non-null   object \n",
      " 2   pH Level                    1000 non-null   float64\n",
      " 3   Organic Matter (%)          1000 non-null   float64\n",
      " 4   Nitrogen Content (kg/ha)    1000 non-null   float64\n",
      " 5   Phosphorus Content (kg/ha)  1000 non-null   float64\n",
      " 6   Potassium Content (kg/ha)   1000 non-null   float64\n",
      "dtypes: float64(5), object(2)\n",
      "memory usage: 54.8+ KB\n"
     ]
    }
   ],
   "source": [
    "df_soil_analysis.info()"
   ]
  },
  {
   "cell_type": "code",
   "execution_count": 126,
   "id": "2c735931",
   "metadata": {},
   "outputs": [
    {
     "name": "stdout",
     "output_type": "stream",
     "text": [
      "<class 'pandas.core.frame.DataFrame'>\n",
      "RangeIndex: 1000 entries, 0 to 999\n",
      "Data columns (total 5 columns):\n",
      " #   Column                               Non-Null Count  Dtype  \n",
      "---  ------                               --------------  -----  \n",
      " 0   District                             1000 non-null   object \n",
      " 1   Crop                                 1000 non-null   object \n",
      " 2   Irrigation Method                    1000 non-null   object \n",
      " 3   Water Consumption (liters/hectare)   1000 non-null   float64\n",
      " 4   Water Availability (liters/hectare)  1000 non-null   float64\n",
      "dtypes: float64(2), object(3)\n",
      "memory usage: 39.2+ KB\n"
     ]
    }
   ],
   "source": [
    "df_water_usage.info()"
   ]
  },
  {
   "cell_type": "raw",
   "id": "3c9b05a9",
   "metadata": {},
   "source": [
    "# First step of merging"
   ]
  },
  {
   "cell_type": "code",
   "execution_count": 127,
   "id": "eeb3711f",
   "metadata": {},
   "outputs": [],
   "source": [
    "merge_soil_crop_production = df_crop_production.merge(df_soil_analysis, on = ['District'])"
   ]
  },
  {
   "cell_type": "raw",
   "id": "eb410a12",
   "metadata": {},
   "source": [
    "# Second merge"
   ]
  },
  {
   "cell_type": "code",
   "execution_count": 128,
   "id": "731dafd9",
   "metadata": {},
   "outputs": [],
   "source": [
    "merge_water_soil_crop_production = merge_soil_crop_production.merge(df_water_usage, on = ['District', 'Crop'])"
   ]
  },
  {
   "cell_type": "code",
   "execution_count": 139,
   "id": "d14b12a1",
   "metadata": {},
   "outputs": [
    {
     "data": {
      "text/html": [
       "<div>\n",
       "<style scoped>\n",
       "    .dataframe tbody tr th:only-of-type {\n",
       "        vertical-align: middle;\n",
       "    }\n",
       "\n",
       "    .dataframe tbody tr th {\n",
       "        vertical-align: top;\n",
       "    }\n",
       "\n",
       "    .dataframe thead th {\n",
       "        text-align: right;\n",
       "    }\n",
       "</style>\n",
       "<table border=\"1\" class=\"dataframe\">\n",
       "  <thead>\n",
       "    <tr style=\"text-align: right;\">\n",
       "      <th></th>\n",
       "      <th>District</th>\n",
       "      <th>Crop</th>\n",
       "      <th>Season</th>\n",
       "      <th>Area (hectares)</th>\n",
       "      <th>Yield (quintals)</th>\n",
       "      <th>Production (metric tons)</th>\n",
       "      <th>Soil Type</th>\n",
       "      <th>pH Level</th>\n",
       "      <th>Organic Matter (%)</th>\n",
       "      <th>Nitrogen Content (kg/ha)</th>\n",
       "      <th>Phosphorus Content (kg/ha)</th>\n",
       "      <th>Potassium Content (kg/ha)</th>\n",
       "      <th>Irrigation Method</th>\n",
       "      <th>Water Consumption (liters/hectare)</th>\n",
       "      <th>Water Availability (liters/hectare)</th>\n",
       "    </tr>\n",
       "  </thead>\n",
       "  <tbody>\n",
       "    <tr>\n",
       "      <th>433575</th>\n",
       "      <td>Ajmer</td>\n",
       "      <td>Onion</td>\n",
       "      <td>Kharif</td>\n",
       "      <td>16967.70233</td>\n",
       "      <td>42.402728</td>\n",
       "      <td>7194.768632</td>\n",
       "      <td>Chalky (Calcareous)</td>\n",
       "      <td>7.079614</td>\n",
       "      <td>2.110315</td>\n",
       "      <td>28.239561</td>\n",
       "      <td>21.623791</td>\n",
       "      <td>42.902838</td>\n",
       "      <td>Sprinkler Irrigation</td>\n",
       "      <td>14264.932913</td>\n",
       "      <td>14988.961769</td>\n",
       "    </tr>\n",
       "    <tr>\n",
       "      <th>433576</th>\n",
       "      <td>Ajmer</td>\n",
       "      <td>Onion</td>\n",
       "      <td>Kharif</td>\n",
       "      <td>16967.70233</td>\n",
       "      <td>42.402728</td>\n",
       "      <td>7194.768632</td>\n",
       "      <td>Chalky (Calcareous)</td>\n",
       "      <td>7.079614</td>\n",
       "      <td>2.110315</td>\n",
       "      <td>28.239561</td>\n",
       "      <td>21.623791</td>\n",
       "      <td>42.902838</td>\n",
       "      <td>Canal Irrigation</td>\n",
       "      <td>11618.405254</td>\n",
       "      <td>11633.677144</td>\n",
       "    </tr>\n",
       "    <tr>\n",
       "      <th>433577</th>\n",
       "      <td>Ajmer</td>\n",
       "      <td>Onion</td>\n",
       "      <td>Kharif</td>\n",
       "      <td>16967.70233</td>\n",
       "      <td>42.402728</td>\n",
       "      <td>7194.768632</td>\n",
       "      <td>Chalky (Calcareous)</td>\n",
       "      <td>7.079614</td>\n",
       "      <td>2.110315</td>\n",
       "      <td>28.239561</td>\n",
       "      <td>21.623791</td>\n",
       "      <td>42.902838</td>\n",
       "      <td>Sprinkler Irrigation</td>\n",
       "      <td>10593.992074</td>\n",
       "      <td>11165.941371</td>\n",
       "    </tr>\n",
       "    <tr>\n",
       "      <th>433578</th>\n",
       "      <td>Ajmer</td>\n",
       "      <td>Onion</td>\n",
       "      <td>Kharif</td>\n",
       "      <td>16967.70233</td>\n",
       "      <td>42.402728</td>\n",
       "      <td>7194.768632</td>\n",
       "      <td>Chalky (Calcareous)</td>\n",
       "      <td>7.079614</td>\n",
       "      <td>2.110315</td>\n",
       "      <td>28.239561</td>\n",
       "      <td>21.623791</td>\n",
       "      <td>42.902838</td>\n",
       "      <td>Tube Well</td>\n",
       "      <td>15252.106647</td>\n",
       "      <td>15357.754437</td>\n",
       "    </tr>\n",
       "    <tr>\n",
       "      <th>433579</th>\n",
       "      <td>Ajmer</td>\n",
       "      <td>Onion</td>\n",
       "      <td>Kharif</td>\n",
       "      <td>16967.70233</td>\n",
       "      <td>42.402728</td>\n",
       "      <td>7194.768632</td>\n",
       "      <td>Chalky (Calcareous)</td>\n",
       "      <td>7.079614</td>\n",
       "      <td>2.110315</td>\n",
       "      <td>28.239561</td>\n",
       "      <td>21.623791</td>\n",
       "      <td>42.902838</td>\n",
       "      <td>Drip Irrigation</td>\n",
       "      <td>11927.850413</td>\n",
       "      <td>11650.678989</td>\n",
       "    </tr>\n",
       "  </tbody>\n",
       "</table>\n",
       "</div>"
      ],
      "text/plain": [
       "       District   Crop  Season  Area (hectares)  Yield (quintals)  \\\n",
       "433575    Ajmer  Onion  Kharif      16967.70233         42.402728   \n",
       "433576    Ajmer  Onion  Kharif      16967.70233         42.402728   \n",
       "433577    Ajmer  Onion  Kharif      16967.70233         42.402728   \n",
       "433578    Ajmer  Onion  Kharif      16967.70233         42.402728   \n",
       "433579    Ajmer  Onion  Kharif      16967.70233         42.402728   \n",
       "\n",
       "        Production (metric tons)            Soil Type  pH Level  \\\n",
       "433575               7194.768632  Chalky (Calcareous)  7.079614   \n",
       "433576               7194.768632  Chalky (Calcareous)  7.079614   \n",
       "433577               7194.768632  Chalky (Calcareous)  7.079614   \n",
       "433578               7194.768632  Chalky (Calcareous)  7.079614   \n",
       "433579               7194.768632  Chalky (Calcareous)  7.079614   \n",
       "\n",
       "        Organic Matter (%)  Nitrogen Content (kg/ha)  \\\n",
       "433575            2.110315                 28.239561   \n",
       "433576            2.110315                 28.239561   \n",
       "433577            2.110315                 28.239561   \n",
       "433578            2.110315                 28.239561   \n",
       "433579            2.110315                 28.239561   \n",
       "\n",
       "        Phosphorus Content (kg/ha)  Potassium Content (kg/ha)  \\\n",
       "433575                   21.623791                  42.902838   \n",
       "433576                   21.623791                  42.902838   \n",
       "433577                   21.623791                  42.902838   \n",
       "433578                   21.623791                  42.902838   \n",
       "433579                   21.623791                  42.902838   \n",
       "\n",
       "           Irrigation Method  Water Consumption (liters/hectare)  \\\n",
       "433575  Sprinkler Irrigation                        14264.932913   \n",
       "433576      Canal Irrigation                        11618.405254   \n",
       "433577  Sprinkler Irrigation                        10593.992074   \n",
       "433578             Tube Well                        15252.106647   \n",
       "433579       Drip Irrigation                        11927.850413   \n",
       "\n",
       "        Water Availability (liters/hectare)  \n",
       "433575                         14988.961769  \n",
       "433576                         11633.677144  \n",
       "433577                         11165.941371  \n",
       "433578                         15357.754437  \n",
       "433579                         11650.678989  "
      ]
     },
     "execution_count": 139,
     "metadata": {},
     "output_type": "execute_result"
    }
   ],
   "source": [
    "database = merge_water_soil_crop_production.copy()\n",
    "database.tail()"
   ]
  },
  {
   "cell_type": "code",
   "execution_count": 130,
   "id": "2254fa07",
   "metadata": {},
   "outputs": [
    {
     "data": {
      "text/html": [
       "<div>\n",
       "<style scoped>\n",
       "    .dataframe tbody tr th:only-of-type {\n",
       "        vertical-align: middle;\n",
       "    }\n",
       "\n",
       "    .dataframe tbody tr th {\n",
       "        vertical-align: top;\n",
       "    }\n",
       "\n",
       "    .dataframe thead th {\n",
       "        text-align: right;\n",
       "    }\n",
       "</style>\n",
       "<table border=\"1\" class=\"dataframe\">\n",
       "  <thead>\n",
       "    <tr style=\"text-align: right;\">\n",
       "      <th></th>\n",
       "      <th>District</th>\n",
       "      <th>Crop</th>\n",
       "      <th>Season</th>\n",
       "      <th>Area (hectares)</th>\n",
       "      <th>Yield (quintals)</th>\n",
       "      <th>Soil Type</th>\n",
       "      <th>pH Level</th>\n",
       "      <th>Organic Matter (%)</th>\n",
       "      <th>Nitrogen Content (kg/ha)</th>\n",
       "      <th>Phosphorus Content (kg/ha)</th>\n",
       "      <th>Potassium Content (kg/ha)</th>\n",
       "      <th>Irrigation Method</th>\n",
       "      <th>Water Availability (liters/hectare)</th>\n",
       "    </tr>\n",
       "  </thead>\n",
       "  <tbody>\n",
       "    <tr>\n",
       "      <th>433575</th>\n",
       "      <td>Ajmer</td>\n",
       "      <td>Onion</td>\n",
       "      <td>Kharif</td>\n",
       "      <td>16967.70233</td>\n",
       "      <td>42.402728</td>\n",
       "      <td>Chalky (Calcareous)</td>\n",
       "      <td>7.079614</td>\n",
       "      <td>2.110315</td>\n",
       "      <td>28.239561</td>\n",
       "      <td>21.623791</td>\n",
       "      <td>42.902838</td>\n",
       "      <td>Sprinkler Irrigation</td>\n",
       "      <td>14988.961769</td>\n",
       "    </tr>\n",
       "    <tr>\n",
       "      <th>433576</th>\n",
       "      <td>Ajmer</td>\n",
       "      <td>Onion</td>\n",
       "      <td>Kharif</td>\n",
       "      <td>16967.70233</td>\n",
       "      <td>42.402728</td>\n",
       "      <td>Chalky (Calcareous)</td>\n",
       "      <td>7.079614</td>\n",
       "      <td>2.110315</td>\n",
       "      <td>28.239561</td>\n",
       "      <td>21.623791</td>\n",
       "      <td>42.902838</td>\n",
       "      <td>Canal Irrigation</td>\n",
       "      <td>11633.677144</td>\n",
       "    </tr>\n",
       "    <tr>\n",
       "      <th>433577</th>\n",
       "      <td>Ajmer</td>\n",
       "      <td>Onion</td>\n",
       "      <td>Kharif</td>\n",
       "      <td>16967.70233</td>\n",
       "      <td>42.402728</td>\n",
       "      <td>Chalky (Calcareous)</td>\n",
       "      <td>7.079614</td>\n",
       "      <td>2.110315</td>\n",
       "      <td>28.239561</td>\n",
       "      <td>21.623791</td>\n",
       "      <td>42.902838</td>\n",
       "      <td>Sprinkler Irrigation</td>\n",
       "      <td>11165.941371</td>\n",
       "    </tr>\n",
       "    <tr>\n",
       "      <th>433578</th>\n",
       "      <td>Ajmer</td>\n",
       "      <td>Onion</td>\n",
       "      <td>Kharif</td>\n",
       "      <td>16967.70233</td>\n",
       "      <td>42.402728</td>\n",
       "      <td>Chalky (Calcareous)</td>\n",
       "      <td>7.079614</td>\n",
       "      <td>2.110315</td>\n",
       "      <td>28.239561</td>\n",
       "      <td>21.623791</td>\n",
       "      <td>42.902838</td>\n",
       "      <td>Tube Well</td>\n",
       "      <td>15357.754437</td>\n",
       "    </tr>\n",
       "    <tr>\n",
       "      <th>433579</th>\n",
       "      <td>Ajmer</td>\n",
       "      <td>Onion</td>\n",
       "      <td>Kharif</td>\n",
       "      <td>16967.70233</td>\n",
       "      <td>42.402728</td>\n",
       "      <td>Chalky (Calcareous)</td>\n",
       "      <td>7.079614</td>\n",
       "      <td>2.110315</td>\n",
       "      <td>28.239561</td>\n",
       "      <td>21.623791</td>\n",
       "      <td>42.902838</td>\n",
       "      <td>Drip Irrigation</td>\n",
       "      <td>11650.678989</td>\n",
       "    </tr>\n",
       "  </tbody>\n",
       "</table>\n",
       "</div>"
      ],
      "text/plain": [
       "       District   Crop  Season  Area (hectares)  Yield (quintals)  \\\n",
       "433575    Ajmer  Onion  Kharif      16967.70233         42.402728   \n",
       "433576    Ajmer  Onion  Kharif      16967.70233         42.402728   \n",
       "433577    Ajmer  Onion  Kharif      16967.70233         42.402728   \n",
       "433578    Ajmer  Onion  Kharif      16967.70233         42.402728   \n",
       "433579    Ajmer  Onion  Kharif      16967.70233         42.402728   \n",
       "\n",
       "                  Soil Type  pH Level  Organic Matter (%)  \\\n",
       "433575  Chalky (Calcareous)  7.079614            2.110315   \n",
       "433576  Chalky (Calcareous)  7.079614            2.110315   \n",
       "433577  Chalky (Calcareous)  7.079614            2.110315   \n",
       "433578  Chalky (Calcareous)  7.079614            2.110315   \n",
       "433579  Chalky (Calcareous)  7.079614            2.110315   \n",
       "\n",
       "        Nitrogen Content (kg/ha)  Phosphorus Content (kg/ha)  \\\n",
       "433575                 28.239561                   21.623791   \n",
       "433576                 28.239561                   21.623791   \n",
       "433577                 28.239561                   21.623791   \n",
       "433578                 28.239561                   21.623791   \n",
       "433579                 28.239561                   21.623791   \n",
       "\n",
       "        Potassium Content (kg/ha)     Irrigation Method  \\\n",
       "433575                  42.902838  Sprinkler Irrigation   \n",
       "433576                  42.902838      Canal Irrigation   \n",
       "433577                  42.902838  Sprinkler Irrigation   \n",
       "433578                  42.902838             Tube Well   \n",
       "433579                  42.902838       Drip Irrigation   \n",
       "\n",
       "        Water Availability (liters/hectare)  \n",
       "433575                         14988.961769  \n",
       "433576                         11633.677144  \n",
       "433577                         11165.941371  \n",
       "433578                         15357.754437  \n",
       "433579                         11650.678989  "
      ]
     },
     "execution_count": 130,
     "metadata": {},
     "output_type": "execute_result"
    }
   ],
   "source": [
    "database = database.drop(columns = ['Production (metric tons)', 'Water Consumption (liters/hectare)'], axis = 1)\n",
    "database.tail()"
   ]
  },
  {
   "cell_type": "code",
   "execution_count": 131,
   "id": "6be93e53",
   "metadata": {},
   "outputs": [
    {
     "data": {
      "text/plain": [
       "District                               0\n",
       "Crop                                   0\n",
       "Season                                 0\n",
       "Area (hectares)                        0\n",
       "Yield (quintals)                       0\n",
       "Soil Type                              0\n",
       "pH Level                               0\n",
       "Organic Matter (%)                     0\n",
       "Nitrogen Content (kg/ha)               0\n",
       "Phosphorus Content (kg/ha)             0\n",
       "Potassium Content (kg/ha)              0\n",
       "Irrigation Method                      0\n",
       "Water Availability (liters/hectare)    0\n",
       "dtype: int64"
      ]
     },
     "execution_count": 131,
     "metadata": {},
     "output_type": "execute_result"
    }
   ],
   "source": [
    "database.isnull().sum()"
   ]
  },
  {
   "cell_type": "code",
   "execution_count": 132,
   "id": "d8f17505",
   "metadata": {},
   "outputs": [
    {
     "data": {
      "text/plain": [
       "0"
      ]
     },
     "execution_count": 132,
     "metadata": {},
     "output_type": "execute_result"
    }
   ],
   "source": [
    "database.duplicated().sum()"
   ]
  },
  {
   "cell_type": "code",
   "execution_count": 133,
   "id": "256796fb",
   "metadata": {},
   "outputs": [],
   "source": [
    "X = database.drop(columns=['Yield (quintals)'])  # Features\n",
    "y = database['Yield (quintals)']  # Target"
   ]
  },
  {
   "cell_type": "raw",
   "id": "8dc02988-659d-4a55-b365-fe33f9f72b4c",
   "metadata": {},
   "source": [
    "# Encode categorical variables"
   ]
  },
  {
   "cell_type": "code",
   "execution_count": 137,
   "id": "f5a47a71",
   "metadata": {},
   "outputs": [
    {
     "name": "stdout",
     "output_type": "stream",
     "text": [
      "District_Ajmer                            0.0\n",
      "District_Alwar                            0.0\n",
      "District_Bhilwara                         0.0\n",
      "District_Hanumangarh                      0.0\n",
      "District_Jaipur                           0.0\n",
      "District_Jodhpur                          1.0\n",
      "District_Kota                             0.0\n",
      "District_Nagaur                           0.0\n",
      "District_Sri Ganganagar                   0.0\n",
      "District_Udaipur                          0.0\n",
      "Crop_Bajra                                0.0\n",
      "Crop_Barley                               0.0\n",
      "Crop_Chilli                               0.0\n",
      "Crop_Citrus                               0.0\n",
      "Crop_Coriander                            0.0\n",
      "Crop_Cotton                               0.0\n",
      "Crop_Cumin                                0.0\n",
      "Crop_Fennel                               0.0\n",
      "Crop_Fenugreek                            0.0\n",
      "Crop_Garlic                               0.0\n",
      "Crop_Gram                                 0.0\n",
      "Crop_Guava                                0.0\n",
      "Crop_Maize                                0.0\n",
      "Crop_Mango                                0.0\n",
      "Crop_Mustard                              0.0\n",
      "Crop_Oilseeds                             0.0\n",
      "Crop_Onion                                0.0\n",
      "Crop_Opium                                0.0\n",
      "Crop_Pomegranate                          0.0\n",
      "Crop_Pulses                               0.0\n",
      "Crop_Sugarcane                            0.0\n",
      "Crop_Tomato                               0.0\n",
      "Crop_Wheat                                1.0\n",
      "Season_Kharif                             1.0\n",
      "Season_Rabi                               0.0\n",
      "Soil Type_Alkaline                        0.0\n",
      "Soil Type_Black lava soil                 0.0\n",
      "Soil Type_Chalky (Calcareous)             0.0\n",
      "Soil Type_Clay                            0.0\n",
      "Soil Type_Loamy                           0.0\n",
      "Soil Type_Nitrogenous                     0.0\n",
      "Soil Type_Saline                          0.0\n",
      "Soil Type_Sandy                           1.0\n",
      "Irrigation Method_Canal Irrigation        0.0\n",
      "Irrigation Method_Drip Irrigation         0.0\n",
      "Irrigation Method_Sprinkler Irrigation    1.0\n",
      "Irrigation Method_Tube Well               0.0\n",
      "Name: 0, dtype: float64\n"
     ]
    }
   ],
   "source": [
    "encoder = OneHotEncoder()\n",
    "X_encoded = encoder.fit_transform(X[['District', 'Crop', 'Season', 'Soil Type', 'Irrigation Method']])\n",
    "feature_names = encoder.get_feature_names_out(['District', 'Crop', 'Season', 'Soil Type', 'Irrigation Method'])\n",
    "X_categorical = pd.DataFrame(X_encoded.toarray(), columns=feature_names)\n",
    "X_numeric = X.drop(columns=['District', 'Crop', 'Season', 'Soil Type', 'Irrigation Method'])\n",
    "#print(feature_names)\n",
    "print(X_categorical.iloc[0])"
   ]
  },
  {
   "cell_type": "raw",
   "id": "53db53f9-7ac5-4834-a924-e5fd4178956e",
   "metadata": {},
   "source": [
    "# Export encoder"
   ]
  },
  {
   "cell_type": "code",
   "execution_count": 135,
   "id": "7a7d54f5-b64a-4303-a5b8-a23976d0ae6b",
   "metadata": {},
   "outputs": [
    {
     "data": {
      "text/plain": [
       "['encoder.pkl']"
      ]
     },
     "execution_count": 135,
     "metadata": {},
     "output_type": "execute_result"
    }
   ],
   "source": [
    "joblib.dump(encoder, 'encoder.pkl')"
   ]
  },
  {
   "cell_type": "raw",
   "id": "3b410214-a25f-443d-988d-36ce9c45af77",
   "metadata": {},
   "source": [
    "# Export scaler"
   ]
  },
  {
   "cell_type": "code",
   "execution_count": 136,
   "id": "c96889e0-a2f9-4be9-a9cc-acd772769096",
   "metadata": {},
   "outputs": [
    {
     "data": {
      "text/plain": [
       "['scaler.pkl']"
      ]
     },
     "execution_count": 136,
     "metadata": {},
     "output_type": "execute_result"
    }
   ],
   "source": [
    "joblib.dump(scaler, 'scaler.pkl')"
   ]
  },
  {
   "cell_type": "raw",
   "id": "1f9acc32-de76-4a2f-a279-1e23c93fa662",
   "metadata": {},
   "source": [
    "# Merge encoded categorical features and numerical features"
   ]
  },
  {
   "cell_type": "code",
   "execution_count": 138,
   "id": "80fcc701-cad7-4880-9cf9-2e77e94319ca",
   "metadata": {},
   "outputs": [
    {
     "data": {
      "text/html": [
       "<div>\n",
       "<style scoped>\n",
       "    .dataframe tbody tr th:only-of-type {\n",
       "        vertical-align: middle;\n",
       "    }\n",
       "\n",
       "    .dataframe tbody tr th {\n",
       "        vertical-align: top;\n",
       "    }\n",
       "\n",
       "    .dataframe thead th {\n",
       "        text-align: right;\n",
       "    }\n",
       "</style>\n",
       "<table border=\"1\" class=\"dataframe\">\n",
       "  <thead>\n",
       "    <tr style=\"text-align: right;\">\n",
       "      <th></th>\n",
       "      <th>District_Ajmer</th>\n",
       "      <th>District_Alwar</th>\n",
       "      <th>District_Bhilwara</th>\n",
       "      <th>District_Hanumangarh</th>\n",
       "      <th>District_Jaipur</th>\n",
       "      <th>District_Jodhpur</th>\n",
       "      <th>District_Kota</th>\n",
       "      <th>District_Nagaur</th>\n",
       "      <th>District_Sri Ganganagar</th>\n",
       "      <th>District_Udaipur</th>\n",
       "      <th>...</th>\n",
       "      <th>Irrigation Method_Drip Irrigation</th>\n",
       "      <th>Irrigation Method_Sprinkler Irrigation</th>\n",
       "      <th>Irrigation Method_Tube Well</th>\n",
       "      <th>Area (hectares)</th>\n",
       "      <th>pH Level</th>\n",
       "      <th>Organic Matter (%)</th>\n",
       "      <th>Nitrogen Content (kg/ha)</th>\n",
       "      <th>Phosphorus Content (kg/ha)</th>\n",
       "      <th>Potassium Content (kg/ha)</th>\n",
       "      <th>Water Availability (liters/hectare)</th>\n",
       "    </tr>\n",
       "  </thead>\n",
       "  <tbody>\n",
       "    <tr>\n",
       "      <th>0</th>\n",
       "      <td>0.0</td>\n",
       "      <td>0.0</td>\n",
       "      <td>0.0</td>\n",
       "      <td>0.0</td>\n",
       "      <td>0.0</td>\n",
       "      <td>1.0</td>\n",
       "      <td>0.0</td>\n",
       "      <td>0.0</td>\n",
       "      <td>0.0</td>\n",
       "      <td>0.0</td>\n",
       "      <td>...</td>\n",
       "      <td>0.0</td>\n",
       "      <td>1.0</td>\n",
       "      <td>0.0</td>\n",
       "      <td>16490.142459</td>\n",
       "      <td>7.453182</td>\n",
       "      <td>2.662898</td>\n",
       "      <td>23.564182</td>\n",
       "      <td>13.014409</td>\n",
       "      <td>37.082003</td>\n",
       "      <td>10557.488279</td>\n",
       "    </tr>\n",
       "    <tr>\n",
       "      <th>1</th>\n",
       "      <td>0.0</td>\n",
       "      <td>0.0</td>\n",
       "      <td>0.0</td>\n",
       "      <td>0.0</td>\n",
       "      <td>0.0</td>\n",
       "      <td>1.0</td>\n",
       "      <td>0.0</td>\n",
       "      <td>0.0</td>\n",
       "      <td>0.0</td>\n",
       "      <td>0.0</td>\n",
       "      <td>...</td>\n",
       "      <td>0.0</td>\n",
       "      <td>1.0</td>\n",
       "      <td>0.0</td>\n",
       "      <td>16490.142459</td>\n",
       "      <td>7.453182</td>\n",
       "      <td>2.662898</td>\n",
       "      <td>23.564182</td>\n",
       "      <td>13.014409</td>\n",
       "      <td>37.082003</td>\n",
       "      <td>14448.126887</td>\n",
       "    </tr>\n",
       "    <tr>\n",
       "      <th>2</th>\n",
       "      <td>0.0</td>\n",
       "      <td>0.0</td>\n",
       "      <td>0.0</td>\n",
       "      <td>0.0</td>\n",
       "      <td>0.0</td>\n",
       "      <td>1.0</td>\n",
       "      <td>0.0</td>\n",
       "      <td>0.0</td>\n",
       "      <td>0.0</td>\n",
       "      <td>0.0</td>\n",
       "      <td>...</td>\n",
       "      <td>1.0</td>\n",
       "      <td>0.0</td>\n",
       "      <td>0.0</td>\n",
       "      <td>16490.142459</td>\n",
       "      <td>7.453182</td>\n",
       "      <td>2.662898</td>\n",
       "      <td>23.564182</td>\n",
       "      <td>13.014409</td>\n",
       "      <td>37.082003</td>\n",
       "      <td>8512.323275</td>\n",
       "    </tr>\n",
       "    <tr>\n",
       "      <th>3</th>\n",
       "      <td>0.0</td>\n",
       "      <td>0.0</td>\n",
       "      <td>0.0</td>\n",
       "      <td>0.0</td>\n",
       "      <td>0.0</td>\n",
       "      <td>1.0</td>\n",
       "      <td>0.0</td>\n",
       "      <td>0.0</td>\n",
       "      <td>0.0</td>\n",
       "      <td>0.0</td>\n",
       "      <td>...</td>\n",
       "      <td>0.0</td>\n",
       "      <td>1.0</td>\n",
       "      <td>0.0</td>\n",
       "      <td>16490.142459</td>\n",
       "      <td>7.453182</td>\n",
       "      <td>2.662898</td>\n",
       "      <td>23.564182</td>\n",
       "      <td>13.014409</td>\n",
       "      <td>37.082003</td>\n",
       "      <td>9434.989877</td>\n",
       "    </tr>\n",
       "    <tr>\n",
       "      <th>4</th>\n",
       "      <td>0.0</td>\n",
       "      <td>0.0</td>\n",
       "      <td>0.0</td>\n",
       "      <td>0.0</td>\n",
       "      <td>0.0</td>\n",
       "      <td>1.0</td>\n",
       "      <td>0.0</td>\n",
       "      <td>0.0</td>\n",
       "      <td>0.0</td>\n",
       "      <td>0.0</td>\n",
       "      <td>...</td>\n",
       "      <td>0.0</td>\n",
       "      <td>1.0</td>\n",
       "      <td>0.0</td>\n",
       "      <td>16490.142459</td>\n",
       "      <td>7.305740</td>\n",
       "      <td>2.095212</td>\n",
       "      <td>32.246094</td>\n",
       "      <td>17.450967</td>\n",
       "      <td>40.172205</td>\n",
       "      <td>10557.488279</td>\n",
       "    </tr>\n",
       "  </tbody>\n",
       "</table>\n",
       "<p>5 rows × 54 columns</p>\n",
       "</div>"
      ],
      "text/plain": [
       "   District_Ajmer  District_Alwar  District_Bhilwara  District_Hanumangarh  \\\n",
       "0             0.0             0.0                0.0                   0.0   \n",
       "1             0.0             0.0                0.0                   0.0   \n",
       "2             0.0             0.0                0.0                   0.0   \n",
       "3             0.0             0.0                0.0                   0.0   \n",
       "4             0.0             0.0                0.0                   0.0   \n",
       "\n",
       "   District_Jaipur  District_Jodhpur  District_Kota  District_Nagaur  \\\n",
       "0              0.0               1.0            0.0              0.0   \n",
       "1              0.0               1.0            0.0              0.0   \n",
       "2              0.0               1.0            0.0              0.0   \n",
       "3              0.0               1.0            0.0              0.0   \n",
       "4              0.0               1.0            0.0              0.0   \n",
       "\n",
       "   District_Sri Ganganagar  District_Udaipur  ...  \\\n",
       "0                      0.0               0.0  ...   \n",
       "1                      0.0               0.0  ...   \n",
       "2                      0.0               0.0  ...   \n",
       "3                      0.0               0.0  ...   \n",
       "4                      0.0               0.0  ...   \n",
       "\n",
       "   Irrigation Method_Drip Irrigation  Irrigation Method_Sprinkler Irrigation  \\\n",
       "0                                0.0                                     1.0   \n",
       "1                                0.0                                     1.0   \n",
       "2                                1.0                                     0.0   \n",
       "3                                0.0                                     1.0   \n",
       "4                                0.0                                     1.0   \n",
       "\n",
       "   Irrigation Method_Tube Well  Area (hectares)  pH Level  Organic Matter (%)  \\\n",
       "0                          0.0     16490.142459  7.453182            2.662898   \n",
       "1                          0.0     16490.142459  7.453182            2.662898   \n",
       "2                          0.0     16490.142459  7.453182            2.662898   \n",
       "3                          0.0     16490.142459  7.453182            2.662898   \n",
       "4                          0.0     16490.142459  7.305740            2.095212   \n",
       "\n",
       "   Nitrogen Content (kg/ha)  Phosphorus Content (kg/ha)  \\\n",
       "0                 23.564182                   13.014409   \n",
       "1                 23.564182                   13.014409   \n",
       "2                 23.564182                   13.014409   \n",
       "3                 23.564182                   13.014409   \n",
       "4                 32.246094                   17.450967   \n",
       "\n",
       "   Potassium Content (kg/ha)  Water Availability (liters/hectare)  \n",
       "0                  37.082003                         10557.488279  \n",
       "1                  37.082003                         14448.126887  \n",
       "2                  37.082003                          8512.323275  \n",
       "3                  37.082003                          9434.989877  \n",
       "4                  40.172205                         10557.488279  \n",
       "\n",
       "[5 rows x 54 columns]"
      ]
     },
     "execution_count": 138,
     "metadata": {},
     "output_type": "execute_result"
    }
   ],
   "source": [
    "X_processed = pd.concat([X_categorical, X_numeric], axis=1)\n",
    "X_processed.head()"
   ]
  },
  {
   "cell_type": "raw",
   "id": "8c36177d-ca3e-427b-b814-529a847c8d43",
   "metadata": {},
   "source": [
    "# Splits"
   ]
  },
  {
   "cell_type": "code",
   "execution_count": 76,
   "id": "bdf48a26",
   "metadata": {},
   "outputs": [],
   "source": [
    "X_train_val, X_test, y_train_val, y_test = train_test_split(X_processed, y, test_size=0.2, random_state=42)\n",
    "X_train, X_val, y_train, y_val = train_test_split(X_train_val, y_train_val, test_size=0.25, random_state=42)  # 0.25 x 0.8 = 0.2"
   ]
  },
  {
   "cell_type": "raw",
   "id": "26486719-9701-4034-9e9d-59a03e7ce7d8",
   "metadata": {},
   "source": [
    "# Normalize numerical features"
   ]
  },
  {
   "cell_type": "code",
   "execution_count": 77,
   "id": "5d69af60",
   "metadata": {},
   "outputs": [],
   "source": [
    "scaler = StandardScaler()\n",
    "X_train_scaled = scaler.fit_transform(X_train)\n",
    "X_val_scaled = scaler.transform(X_val)\n",
    "X_test_scaled = scaler.transform(X_test)"
   ]
  },
  {
   "cell_type": "raw",
   "id": "a4c67be3-b9ea-4830-b14c-2fdb13004f20",
   "metadata": {},
   "source": [
    "# Reshape input data to resemble images (assuming 2D data)\n",
    "# Reshape X_train_scaled, X_val_scaled, and X_test_scaled according to your data structure\n",
    "# For example, if you have 10 features, reshape them to (num_samples, 2, 5, 1)"
   ]
  },
  {
   "cell_type": "code",
   "execution_count": 78,
   "id": "3a931174-83d5-4957-9b71-a4ed3fa8935f",
   "metadata": {},
   "outputs": [
    {
     "name": "stdout",
     "output_type": "stream",
     "text": [
      "X_train_scaled shape: (260148, 54)\n",
      "X_val_scaled shape: (86716, 54)\n",
      "X_test_scaled shape: (86716, 54)\n"
     ]
    }
   ],
   "source": [
    "print(\"X_train_scaled shape:\", X_train_scaled.shape)\n",
    "print(\"X_val_scaled shape:\", X_val_scaled.shape)\n",
    "print(\"X_test_scaled shape:\", X_test_scaled.shape)"
   ]
  },
  {
   "cell_type": "code",
   "execution_count": 79,
   "id": "03655524",
   "metadata": {},
   "outputs": [],
   "source": [
    "X_train_reshaped = X_train_scaled.reshape(X_train_scaled.shape[0], X_train_scaled.shape[1], 1)\n",
    "X_val_reshaped = X_val_scaled.reshape(X_val_scaled.shape[0], X_val_scaled.shape[1], 1)\n",
    "X_test_reshaped = X_test_scaled.reshape(X_test_scaled.shape[0], X_test_scaled.shape[1], 1)"
   ]
  },
  {
   "cell_type": "code",
   "execution_count": 80,
   "id": "837f46e2",
   "metadata": {},
   "outputs": [],
   "source": [
    "# Define the CNN mode"
   ]
  },
  {
   "cell_type": "code",
   "execution_count": 81,
   "id": "e5cf2220-901e-4fe4-82b8-0014da1a139a",
   "metadata": {},
   "outputs": [],
   "source": [
    "model = Sequential([\n",
    "    Conv2D(32, kernel_size=(3, 3), activation='relu', padding='same', input_shape=(X_train_reshaped.shape[1], X_train_reshaped.shape[2], 1)),\n",
    "    Conv2D(64, kernel_size=(3, 3), activation='relu', padding='same'),\n",
    "    Flatten(),\n",
    "    Dense(64, activation='relu'),\n",
    "    Dense(1)  # Output layer\n",
    "])"
   ]
  },
  {
   "cell_type": "raw",
   "id": "9ae5c7bd-0e00-4fa1-9eb2-ac2ca628316f",
   "metadata": {},
   "source": [
    "# Compile the model"
   ]
  },
  {
   "cell_type": "code",
   "execution_count": 82,
   "id": "35c0358e-6c64-4b1f-bc87-3f10e61a1258",
   "metadata": {},
   "outputs": [],
   "source": [
    "model.compile(optimizer='adam', loss='mse', metrics=['mae'])"
   ]
  },
  {
   "cell_type": "raw",
   "id": "23cb13c8-4fc1-4d8d-9f5b-820b9b020652",
   "metadata": {},
   "source": [
    "# Train the model"
   ]
  },
  {
   "cell_type": "code",
   "execution_count": 84,
   "id": "d0971b74-0e28-4e79-8fcb-dbe006322020",
   "metadata": {},
   "outputs": [
    {
     "name": "stdout",
     "output_type": "stream",
     "text": [
      "Epoch 1/20\n",
      "8130/8130 [==============================] - 105s 13ms/step - loss: 5.1402 - mae: 1.3774 - val_loss: 5.1648 - val_mae: 1.3798\n",
      "Epoch 2/20\n",
      "8130/8130 [==============================] - 111s 14ms/step - loss: 4.9301 - mae: 1.3503 - val_loss: 4.8342 - val_mae: 1.3005\n",
      "Epoch 3/20\n",
      "8130/8130 [==============================] - 115s 14ms/step - loss: 4.7580 - mae: 1.3159 - val_loss: 4.8261 - val_mae: 1.3158\n",
      "Epoch 4/20\n",
      "8130/8130 [==============================] - 114s 14ms/step - loss: 4.5936 - mae: 1.2900 - val_loss: 4.5948 - val_mae: 1.2867\n",
      "Epoch 5/20\n",
      "8130/8130 [==============================] - 119s 15ms/step - loss: 4.4912 - mae: 1.2675 - val_loss: 4.5585 - val_mae: 1.2992\n",
      "Epoch 6/20\n",
      "8130/8130 [==============================] - 123s 15ms/step - loss: 4.3535 - mae: 1.2496 - val_loss: 4.6548 - val_mae: 1.3082\n",
      "Epoch 7/20\n",
      "8130/8130 [==============================] - 127s 16ms/step - loss: 4.2565 - mae: 1.2332 - val_loss: 4.0319 - val_mae: 1.1520\n",
      "Epoch 8/20\n",
      "8130/8130 [==============================] - 128s 16ms/step - loss: 4.1280 - mae: 1.2122 - val_loss: 4.3093 - val_mae: 1.2197\n",
      "Epoch 9/20\n",
      "8130/8130 [==============================] - 132s 16ms/step - loss: 3.9756 - mae: 1.1869 - val_loss: 4.4310 - val_mae: 1.2728\n",
      "Epoch 10/20\n",
      "8130/8130 [==============================] - 132s 16ms/step - loss: 3.9188 - mae: 1.1741 - val_loss: 4.0615 - val_mae: 1.1932\n",
      "Epoch 11/20\n",
      "8130/8130 [==============================] - 132s 16ms/step - loss: 3.8397 - mae: 1.1587 - val_loss: 3.8659 - val_mae: 1.1402\n",
      "Epoch 12/20\n",
      "8130/8130 [==============================] - 133s 16ms/step - loss: 3.7490 - mae: 1.1458 - val_loss: 4.0324 - val_mae: 1.2140\n",
      "Epoch 13/20\n",
      "8130/8130 [==============================] - 131s 16ms/step - loss: 3.6654 - mae: 1.1245 - val_loss: 3.8469 - val_mae: 1.1410\n",
      "Epoch 14/20\n",
      "8130/8130 [==============================] - 134s 17ms/step - loss: 3.5837 - mae: 1.1056 - val_loss: 3.8245 - val_mae: 1.1196\n",
      "Epoch 15/20\n",
      "8130/8130 [==============================] - 137s 17ms/step - loss: 3.5197 - mae: 1.0967 - val_loss: 3.4695 - val_mae: 1.0435\n",
      "Epoch 16/20\n",
      "8130/8130 [==============================] - 138s 17ms/step - loss: 3.4230 - mae: 1.0802 - val_loss: 3.5326 - val_mae: 1.0944\n",
      "Epoch 17/20\n",
      "8130/8130 [==============================] - 140s 17ms/step - loss: 3.3584 - mae: 1.0666 - val_loss: 3.6290 - val_mae: 1.0709\n",
      "Epoch 18/20\n",
      "8130/8130 [==============================] - 145s 18ms/step - loss: 3.2813 - mae: 1.0500 - val_loss: 3.2382 - val_mae: 1.0079\n",
      "Epoch 19/20\n",
      "8130/8130 [==============================] - 174s 21ms/step - loss: 3.2457 - mae: 1.0406 - val_loss: 4.0320 - val_mae: 1.2159\n",
      "Epoch 20/20\n",
      "8130/8130 [==============================] - 175s 21ms/step - loss: 3.2022 - mae: 1.0319 - val_loss: 3.1083 - val_mae: 1.0105\n"
     ]
    }
   ],
   "source": [
    "history = model.fit(X_train_reshaped, y_train, epochs=20, batch_size=32, validation_data=(X_val_reshaped, y_val))"
   ]
  },
  {
   "cell_type": "raw",
   "id": "dc1db4ba-03fa-4af0-8bc8-12f1ff8b1530",
   "metadata": {},
   "source": [
    "# Evaluate the model"
   ]
  },
  {
   "cell_type": "code",
   "execution_count": 85,
   "id": "d58ffdde-56b1-4ea6-82e6-c409146d0d35",
   "metadata": {},
   "outputs": [
    {
     "name": "stdout",
     "output_type": "stream",
     "text": [
      "2710/2710 [==============================] - 13s 5ms/step - loss: 3.0660 - mae: 1.0076\n"
     ]
    }
   ],
   "source": [
    "mse, mae = model.evaluate(X_test_reshaped, y_test)"
   ]
  },
  {
   "cell_type": "raw",
   "id": "c6aeeaf6-b53a-4425-a9f8-649a516f75d3",
   "metadata": {},
   "source": [
    "# Predictions"
   ]
  },
  {
   "cell_type": "code",
   "execution_count": 86,
   "id": "61ba6476-6cfe-4795-bdca-2b719e4fc23b",
   "metadata": {},
   "outputs": [
    {
     "name": "stdout",
     "output_type": "stream",
     "text": [
      "2710/2710 [==============================] - 15s 5ms/step\n"
     ]
    }
   ],
   "source": [
    "predictions = model.predict(X_test_reshaped)"
   ]
  },
  {
   "cell_type": "raw",
   "id": "4f453e62-8a05-4679-9bd2-e17d6457c334",
   "metadata": {},
   "source": [
    "# Compute R-squared score"
   ]
  },
  {
   "cell_type": "code",
   "execution_count": 87,
   "id": "d8be265b-f638-4fa8-8728-f16b98a498db",
   "metadata": {},
   "outputs": [],
   "source": [
    "r2_test = r2_score(y_test, predictions)"
   ]
  },
  {
   "cell_type": "raw",
   "id": "56b67461-f1f8-4a1d-b215-066971e3b55b",
   "metadata": {},
   "source": [
    "# Print evaluation metrics"
   ]
  },
  {
   "cell_type": "code",
   "execution_count": 88,
   "id": "f535997d-3873-4b95-98e9-9d60b12e2cf8",
   "metadata": {},
   "outputs": [
    {
     "name": "stdout",
     "output_type": "stream",
     "text": [
      "Mean Square Error: 3.0660\n",
      "Root Mean Square Error: 1.7510\n",
      "R2 Score: 0.9552\n"
     ]
    }
   ],
   "source": [
    "print(f\"Mean Square Error: {mse:.4f}\")\n",
    "print(f\"Root Mean Square Error: {np.sqrt(mse):.4f}\")\n",
    "print(f\"R2 Score: {r2_test:.4f}\")"
   ]
  },
  {
   "cell_type": "code",
   "execution_count": 89,
   "id": "db304e42-c999-4562-89ba-012b71a4269e",
   "metadata": {},
   "outputs": [],
   "source": [
    "# Plotting actual vs. predicted values"
   ]
  },
  {
   "cell_type": "code",
   "execution_count": 90,
   "id": "75e4da5c-ef47-48c9-9b11-cb61c40d3677",
   "metadata": {},
   "outputs": [
    {
     "data": {
      "image/png": "[encoded data removed]",
      "text/plain": [
       "<Figure size 800x600 with 1 Axes>"
      ]
     },
     "metadata": {},
     "output_type": "display_data"
    }
   ],
   "source": [
    "plt.figure(figsize=(8, 6))\n",
    "plt.scatter(y_test, predictions, alpha=0.5)\n",
    "plt.plot(y_test, y_test, color='red', label='Ideal Predictions')\n",
    "plt.title('Actual vs. Predicted Crop Yields')\n",
    "plt.xlabel('Actual Yield (Quintals)')\n",
    "plt.ylabel('Predicted Yield (Quintals)')\n",
    "plt.legend()\n",
    "plt.grid(True)\n",
    "plt.show()"
   ]
  },
  {
   "cell_type": "code",
   "execution_count": 91,
   "id": "bb845127-6623-4353-9e07-309703534be5",
   "metadata": {},
   "outputs": [],
   "source": [
    "model.save('model.h5')  # Save the entire model"
   ]
  },
  {
   "cell_type": "code",
   "execution_count": null,
   "id": "a50ff81b-9a87-45d1-bdf7-0800ba76a108",
   "metadata": {},
   "outputs": [],
   "source": []
  }
 ],
 "metadata": {
  "kernelspec": {
   "display_name": "Python 3 (ipykernel)",
   "language": "python",
   "name": "python3"
  },
  "language_info": {
   "codemirror_mode": {
    "name": "ipython",
    "version": 3
   },
   "file_extension": ".py",
   "mimetype": "text/x-python",
   "name": "python",
   "nbconvert_exporter": "python",
   "pygments_lexer": "ipython3",
   "version": "3.10.13"
  }
 },
 "nbformat": 4,
 "nbformat_minor": 5
}

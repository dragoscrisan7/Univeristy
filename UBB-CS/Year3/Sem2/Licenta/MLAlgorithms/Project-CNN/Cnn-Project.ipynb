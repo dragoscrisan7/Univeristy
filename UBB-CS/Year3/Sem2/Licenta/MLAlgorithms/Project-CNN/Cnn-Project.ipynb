{
 "cells": [
  {
   "cell_type": "raw",
   "id": "fb28fe17",
   "metadata": {},
   "source": [
    "# Importurile de inceput"
   ]
  },
  {
   "cell_type": "code",
   "execution_count": 1,
   "id": "0bfda1fc",
   "metadata": {},
   "outputs": [],
   "source": [
    "import numpy as np\n",
    "import pandas as pd\n",
    "import missingno as msno\n",
    "import matplotlib.pyplot as plt\n",
    "import seaborn as sns\n",
    "import warnings \n",
    "import joblib\n",
    "import os\n",
    "warnings.filterwarnings(\"ignore\")"
   ]
  },
  {
   "cell_type": "raw",
   "id": "b823dfb2",
   "metadata": {},
   "source": [
    "# Second part of imports"
   ]
  },
  {
   "cell_type": "code",
   "execution_count": 2,
   "id": "1b9e972c",
   "metadata": {},
   "outputs": [],
   "source": [
    "from sklearn.model_selection import train_test_split\n",
    "from sklearn.preprocessing import StandardScaler, OneHotEncoder\n",
    "from sklearn.metrics import mean_squared_error, r2_score\n",
    "from tensorflow.keras.models import Sequential\n",
    "from tensorflow.keras.layers import Conv2D, MaxPooling2D, Flatten, Dense\n",
    "from IPython.display import display, HTML"
   ]
  },
  {
   "cell_type": "raw",
   "id": "ee16b074",
   "metadata": {},
   "source": [
    "# Excel reads"
   ]
  },
  {
   "cell_type": "code",
   "execution_count": 3,
   "id": "c7eec8e2",
   "metadata": {},
   "outputs": [],
   "source": [
    "df_crop_production = pd.read_csv(\"../../Datasets/OpDataset/crop_production_data.csv\")\n",
    "df_soil_analysis = pd.read_csv(\"../../Datasets/OpDataset/soil_analysis_data.csv\")\n",
    "df_water_usage = pd.read_csv(\"../../Datasets/OpDataset/water_usage_data.csv\")\n",
    "\n",
    "def display_df_info(df, df_name):\n",
    "    info = pd.DataFrame({\n",
    "        'Column': df.columns,\n",
    "        'Non-Null Count': [df[col].notnull().sum() for col in df.columns],\n",
    "        'Dtype': df.dtypes,\n",
    "        'Unique Values': df.nunique()\n",
    "    })\n",
    "    info_html = info.to_html(index=False)\n",
    "    display(HTML(f\"<h3>{df_name}</h3>\" + info_html))\n",
    "    display(HTML(f\"<h4>Sample Data</h4>\"))\n",
    "    display(df.head())"
   ]
  },
  {
   "cell_type": "code",
   "execution_count": 4,
   "id": "baddc77c",
   "metadata": {},
   "outputs": [
    {
     "data": {
      "text/html": [
       "<h3>Crop Production Data</h3><table border=\"1\" class=\"dataframe\">\n",
       "  <thead>\n",
       "    <tr style=\"text-align: right;\">\n",
       "      <th>Column</th>\n",
       "      <th>Non-Null Count</th>\n",
       "      <th>Dtype</th>\n",
       "      <th>Unique Values</th>\n",
       "    </tr>\n",
       "  </thead>\n",
       "  <tbody>\n",
       "    <tr>\n",
       "      <td>District</td>\n",
       "      <td>1000</td>\n",
       "      <td>object</td>\n",
       "      <td>10</td>\n",
       "    </tr>\n",
       "    <tr>\n",
       "      <td>Crop</td>\n",
       "      <td>1000</td>\n",
       "      <td>object</td>\n",
       "      <td>23</td>\n",
       "    </tr>\n",
       "    <tr>\n",
       "      <td>Season</td>\n",
       "      <td>1000</td>\n",
       "      <td>object</td>\n",
       "      <td>2</td>\n",
       "    </tr>\n",
       "    <tr>\n",
       "      <td>Area (hectares)</td>\n",
       "      <td>1000</td>\n",
       "      <td>float64</td>\n",
       "      <td>956</td>\n",
       "    </tr>\n",
       "    <tr>\n",
       "      <td>Yield (quintals)</td>\n",
       "      <td>1000</td>\n",
       "      <td>float64</td>\n",
       "      <td>1000</td>\n",
       "    </tr>\n",
       "    <tr>\n",
       "      <td>Production (metric tons)</td>\n",
       "      <td>1000</td>\n",
       "      <td>float64</td>\n",
       "      <td>1000</td>\n",
       "    </tr>\n",
       "  </tbody>\n",
       "</table>"
      ],
      "text/plain": [
       "<IPython.core.display.HTML object>"
      ]
     },
     "metadata": {},
     "output_type": "display_data"
    },
    {
     "data": {
      "text/html": [
       "<h4>Sample Data</h4>"
      ],
      "text/plain": [
       "<IPython.core.display.HTML object>"
      ]
     },
     "metadata": {},
     "output_type": "display_data"
    },
    {
     "data": {
      "text/html": [
       "<div>\n",
       "<style scoped>\n",
       "    .dataframe tbody tr th:only-of-type {\n",
       "        vertical-align: middle;\n",
       "    }\n",
       "\n",
       "    .dataframe tbody tr th {\n",
       "        vertical-align: top;\n",
       "    }\n",
       "\n",
       "    .dataframe thead th {\n",
       "        text-align: right;\n",
       "    }\n",
       "</style>\n",
       "<table border=\"1\" class=\"dataframe\">\n",
       "  <thead>\n",
       "    <tr style=\"text-align: right;\">\n",
       "      <th></th>\n",
       "      <th>District</th>\n",
       "      <th>Crop</th>\n",
       "      <th>Season</th>\n",
       "      <th>Area (hectares)</th>\n",
       "      <th>Yield (quintals)</th>\n",
       "      <th>Production (metric tons)</th>\n",
       "    </tr>\n",
       "  </thead>\n",
       "  <tbody>\n",
       "    <tr>\n",
       "      <th>0</th>\n",
       "      <td>Jodhpur</td>\n",
       "      <td>Wheat</td>\n",
       "      <td>Kharif</td>\n",
       "      <td>16490.142459</td>\n",
       "      <td>30.691986</td>\n",
       "      <td>5061.152230</td>\n",
       "    </tr>\n",
       "    <tr>\n",
       "      <th>1</th>\n",
       "      <td>Kota</td>\n",
       "      <td>Gram</td>\n",
       "      <td>Rabi</td>\n",
       "      <td>16943.065614</td>\n",
       "      <td>45.818232</td>\n",
       "      <td>7763.013072</td>\n",
       "    </tr>\n",
       "    <tr>\n",
       "      <th>2</th>\n",
       "      <td>Jaipur</td>\n",
       "      <td>Wheat</td>\n",
       "      <td>Rabi</td>\n",
       "      <td>14297.539876</td>\n",
       "      <td>29.752629</td>\n",
       "      <td>4253.893981</td>\n",
       "    </tr>\n",
       "    <tr>\n",
       "      <th>3</th>\n",
       "      <td>Hanumangarh</td>\n",
       "      <td>Coriander</td>\n",
       "      <td>Rabi</td>\n",
       "      <td>19737.638447</td>\n",
       "      <td>42.026511</td>\n",
       "      <td>8295.040749</td>\n",
       "    </tr>\n",
       "    <tr>\n",
       "      <th>4</th>\n",
       "      <td>Hanumangarh</td>\n",
       "      <td>Citrus</td>\n",
       "      <td>Rabi</td>\n",
       "      <td>13591.576842</td>\n",
       "      <td>38.195933</td>\n",
       "      <td>5191.429648</td>\n",
       "    </tr>\n",
       "  </tbody>\n",
       "</table>\n",
       "</div>"
      ],
      "text/plain": [
       "      District       Crop  Season  Area (hectares)  Yield (quintals)  \\\n",
       "0      Jodhpur      Wheat  Kharif     16490.142459         30.691986   \n",
       "1         Kota       Gram    Rabi     16943.065614         45.818232   \n",
       "2       Jaipur      Wheat    Rabi     14297.539876         29.752629   \n",
       "3  Hanumangarh  Coriander    Rabi     19737.638447         42.026511   \n",
       "4  Hanumangarh     Citrus    Rabi     13591.576842         38.195933   \n",
       "\n",
       "   Production (metric tons)  \n",
       "0               5061.152230  \n",
       "1               7763.013072  \n",
       "2               4253.893981  \n",
       "3               8295.040749  \n",
       "4               5191.429648  "
      ]
     },
     "metadata": {},
     "output_type": "display_data"
    }
   ],
   "source": [
    "display_df_info(df_crop_production, \"Crop Production Data\")"
   ]
  },
  {
   "cell_type": "code",
   "execution_count": 5,
   "id": "d9c43138",
   "metadata": {},
   "outputs": [
    {
     "data": {
      "text/html": [
       "<h3>Soil Analysis Data</h3><table border=\"1\" class=\"dataframe\">\n",
       "  <thead>\n",
       "    <tr style=\"text-align: right;\">\n",
       "      <th>Column</th>\n",
       "      <th>Non-Null Count</th>\n",
       "      <th>Dtype</th>\n",
       "      <th>Unique Values</th>\n",
       "    </tr>\n",
       "  </thead>\n",
       "  <tbody>\n",
       "    <tr>\n",
       "      <td>District</td>\n",
       "      <td>1000</td>\n",
       "      <td>object</td>\n",
       "      <td>10</td>\n",
       "    </tr>\n",
       "    <tr>\n",
       "      <td>Soil Type</td>\n",
       "      <td>1000</td>\n",
       "      <td>object</td>\n",
       "      <td>8</td>\n",
       "    </tr>\n",
       "    <tr>\n",
       "      <td>pH Level</td>\n",
       "      <td>1000</td>\n",
       "      <td>float64</td>\n",
       "      <td>1000</td>\n",
       "    </tr>\n",
       "    <tr>\n",
       "      <td>Organic Matter (%)</td>\n",
       "      <td>1000</td>\n",
       "      <td>float64</td>\n",
       "      <td>1000</td>\n",
       "    </tr>\n",
       "    <tr>\n",
       "      <td>Nitrogen Content (kg/ha)</td>\n",
       "      <td>1000</td>\n",
       "      <td>float64</td>\n",
       "      <td>1000</td>\n",
       "    </tr>\n",
       "    <tr>\n",
       "      <td>Phosphorus Content (kg/ha)</td>\n",
       "      <td>1000</td>\n",
       "      <td>float64</td>\n",
       "      <td>1000</td>\n",
       "    </tr>\n",
       "    <tr>\n",
       "      <td>Potassium Content (kg/ha)</td>\n",
       "      <td>1000</td>\n",
       "      <td>float64</td>\n",
       "      <td>1000</td>\n",
       "    </tr>\n",
       "  </tbody>\n",
       "</table>"
      ],
      "text/plain": [
       "<IPython.core.display.HTML object>"
      ]
     },
     "metadata": {},
     "output_type": "display_data"
    },
    {
     "data": {
      "text/html": [
       "<h4>Sample Data</h4>"
      ],
      "text/plain": [
       "<IPython.core.display.HTML object>"
      ]
     },
     "metadata": {},
     "output_type": "display_data"
    },
    {
     "data": {
      "text/html": [
       "<div>\n",
       "<style scoped>\n",
       "    .dataframe tbody tr th:only-of-type {\n",
       "        vertical-align: middle;\n",
       "    }\n",
       "\n",
       "    .dataframe tbody tr th {\n",
       "        vertical-align: top;\n",
       "    }\n",
       "\n",
       "    .dataframe thead th {\n",
       "        text-align: right;\n",
       "    }\n",
       "</style>\n",
       "<table border=\"1\" class=\"dataframe\">\n",
       "  <thead>\n",
       "    <tr style=\"text-align: right;\">\n",
       "      <th></th>\n",
       "      <th>District</th>\n",
       "      <th>Soil Type</th>\n",
       "      <th>pH Level</th>\n",
       "      <th>Organic Matter (%)</th>\n",
       "      <th>Nitrogen Content (kg/ha)</th>\n",
       "      <th>Phosphorus Content (kg/ha)</th>\n",
       "      <th>Potassium Content (kg/ha)</th>\n",
       "    </tr>\n",
       "  </thead>\n",
       "  <tbody>\n",
       "    <tr>\n",
       "      <th>0</th>\n",
       "      <td>Jaipur</td>\n",
       "      <td>Chalky (Calcareous)</td>\n",
       "      <td>6.546096</td>\n",
       "      <td>1.569807</td>\n",
       "      <td>27.931972</td>\n",
       "      <td>29.438438</td>\n",
       "      <td>42.782766</td>\n",
       "    </tr>\n",
       "    <tr>\n",
       "      <th>1</th>\n",
       "      <td>Bhilwara</td>\n",
       "      <td>Nitrogenous</td>\n",
       "      <td>6.832259</td>\n",
       "      <td>2.243018</td>\n",
       "      <td>22.263480</td>\n",
       "      <td>25.413455</td>\n",
       "      <td>37.644377</td>\n",
       "    </tr>\n",
       "    <tr>\n",
       "      <th>2</th>\n",
       "      <td>Jodhpur</td>\n",
       "      <td>Sandy</td>\n",
       "      <td>7.453182</td>\n",
       "      <td>2.662898</td>\n",
       "      <td>23.564182</td>\n",
       "      <td>13.014409</td>\n",
       "      <td>37.082003</td>\n",
       "    </tr>\n",
       "    <tr>\n",
       "      <th>3</th>\n",
       "      <td>Jaipur</td>\n",
       "      <td>Clay</td>\n",
       "      <td>8.019189</td>\n",
       "      <td>1.240327</td>\n",
       "      <td>15.839222</td>\n",
       "      <td>17.744206</td>\n",
       "      <td>42.758704</td>\n",
       "    </tr>\n",
       "    <tr>\n",
       "      <th>4</th>\n",
       "      <td>Jaipur</td>\n",
       "      <td>Sandy</td>\n",
       "      <td>8.100131</td>\n",
       "      <td>1.768419</td>\n",
       "      <td>27.942867</td>\n",
       "      <td>25.769504</td>\n",
       "      <td>30.651292</td>\n",
       "    </tr>\n",
       "  </tbody>\n",
       "</table>\n",
       "</div>"
      ],
      "text/plain": [
       "   District            Soil Type  pH Level  Organic Matter (%)  \\\n",
       "0    Jaipur  Chalky (Calcareous)  6.546096            1.569807   \n",
       "1  Bhilwara          Nitrogenous  6.832259            2.243018   \n",
       "2   Jodhpur                Sandy  7.453182            2.662898   \n",
       "3    Jaipur                 Clay  8.019189            1.240327   \n",
       "4    Jaipur                Sandy  8.100131            1.768419   \n",
       "\n",
       "   Nitrogen Content (kg/ha)  Phosphorus Content (kg/ha)  \\\n",
       "0                 27.931972                   29.438438   \n",
       "1                 22.263480                   25.413455   \n",
       "2                 23.564182                   13.014409   \n",
       "3                 15.839222                   17.744206   \n",
       "4                 27.942867                   25.769504   \n",
       "\n",
       "   Potassium Content (kg/ha)  \n",
       "0                  42.782766  \n",
       "1                  37.644377  \n",
       "2                  37.082003  \n",
       "3                  42.758704  \n",
       "4                  30.651292  "
      ]
     },
     "metadata": {},
     "output_type": "display_data"
    }
   ],
   "source": [
    "display_df_info(df_soil_analysis, \"Soil Analysis Data\")"
   ]
  },
  {
   "cell_type": "code",
   "execution_count": 6,
   "id": "2c735931",
   "metadata": {},
   "outputs": [
    {
     "data": {
      "text/html": [
       "<h3>Water Usage Data</h3><table border=\"1\" class=\"dataframe\">\n",
       "  <thead>\n",
       "    <tr style=\"text-align: right;\">\n",
       "      <th>Column</th>\n",
       "      <th>Non-Null Count</th>\n",
       "      <th>Dtype</th>\n",
       "      <th>Unique Values</th>\n",
       "    </tr>\n",
       "  </thead>\n",
       "  <tbody>\n",
       "    <tr>\n",
       "      <td>District</td>\n",
       "      <td>1000</td>\n",
       "      <td>object</td>\n",
       "      <td>10</td>\n",
       "    </tr>\n",
       "    <tr>\n",
       "      <td>Crop</td>\n",
       "      <td>1000</td>\n",
       "      <td>object</td>\n",
       "      <td>23</td>\n",
       "    </tr>\n",
       "    <tr>\n",
       "      <td>Irrigation Method</td>\n",
       "      <td>1000</td>\n",
       "      <td>object</td>\n",
       "      <td>4</td>\n",
       "    </tr>\n",
       "    <tr>\n",
       "      <td>Water Consumption (liters/hectare)</td>\n",
       "      <td>1000</td>\n",
       "      <td>float64</td>\n",
       "      <td>1000</td>\n",
       "    </tr>\n",
       "    <tr>\n",
       "      <td>Water Availability (liters/hectare)</td>\n",
       "      <td>1000</td>\n",
       "      <td>float64</td>\n",
       "      <td>1000</td>\n",
       "    </tr>\n",
       "  </tbody>\n",
       "</table>"
      ],
      "text/plain": [
       "<IPython.core.display.HTML object>"
      ]
     },
     "metadata": {},
     "output_type": "display_data"
    },
    {
     "data": {
      "text/html": [
       "<h4>Sample Data</h4>"
      ],
      "text/plain": [
       "<IPython.core.display.HTML object>"
      ]
     },
     "metadata": {},
     "output_type": "display_data"
    },
    {
     "data": {
      "text/html": [
       "<div>\n",
       "<style scoped>\n",
       "    .dataframe tbody tr th:only-of-type {\n",
       "        vertical-align: middle;\n",
       "    }\n",
       "\n",
       "    .dataframe tbody tr th {\n",
       "        vertical-align: top;\n",
       "    }\n",
       "\n",
       "    .dataframe thead th {\n",
       "        text-align: right;\n",
       "    }\n",
       "</style>\n",
       "<table border=\"1\" class=\"dataframe\">\n",
       "  <thead>\n",
       "    <tr style=\"text-align: right;\">\n",
       "      <th></th>\n",
       "      <th>District</th>\n",
       "      <th>Crop</th>\n",
       "      <th>Irrigation Method</th>\n",
       "      <th>Water Consumption (liters/hectare)</th>\n",
       "      <th>Water Availability (liters/hectare)</th>\n",
       "    </tr>\n",
       "  </thead>\n",
       "  <tbody>\n",
       "    <tr>\n",
       "      <th>0</th>\n",
       "      <td>Udaipur</td>\n",
       "      <td>Garlic</td>\n",
       "      <td>Tube Well</td>\n",
       "      <td>11609.330886</td>\n",
       "      <td>11335.919980</td>\n",
       "    </tr>\n",
       "    <tr>\n",
       "      <th>1</th>\n",
       "      <td>Bhilwara</td>\n",
       "      <td>Gram</td>\n",
       "      <td>Drip Irrigation</td>\n",
       "      <td>12648.406038</td>\n",
       "      <td>12091.900254</td>\n",
       "    </tr>\n",
       "    <tr>\n",
       "      <th>2</th>\n",
       "      <td>Udaipur</td>\n",
       "      <td>Guava</td>\n",
       "      <td>Canal Irrigation</td>\n",
       "      <td>10063.162448</td>\n",
       "      <td>9810.943169</td>\n",
       "    </tr>\n",
       "    <tr>\n",
       "      <th>3</th>\n",
       "      <td>Jodhpur</td>\n",
       "      <td>Barley</td>\n",
       "      <td>Sprinkler Irrigation</td>\n",
       "      <td>10110.539993</td>\n",
       "      <td>10754.217313</td>\n",
       "    </tr>\n",
       "    <tr>\n",
       "      <th>4</th>\n",
       "      <td>Alwar</td>\n",
       "      <td>Gram</td>\n",
       "      <td>Canal Irrigation</td>\n",
       "      <td>9320.451018</td>\n",
       "      <td>8695.537819</td>\n",
       "    </tr>\n",
       "  </tbody>\n",
       "</table>\n",
       "</div>"
      ],
      "text/plain": [
       "   District    Crop     Irrigation Method  Water Consumption (liters/hectare)  \\\n",
       "0   Udaipur  Garlic             Tube Well                        11609.330886   \n",
       "1  Bhilwara    Gram       Drip Irrigation                        12648.406038   \n",
       "2   Udaipur   Guava      Canal Irrigation                        10063.162448   \n",
       "3   Jodhpur  Barley  Sprinkler Irrigation                        10110.539993   \n",
       "4     Alwar    Gram      Canal Irrigation                         9320.451018   \n",
       "\n",
       "   Water Availability (liters/hectare)  \n",
       "0                         11335.919980  \n",
       "1                         12091.900254  \n",
       "2                          9810.943169  \n",
       "3                         10754.217313  \n",
       "4                          8695.537819  "
      ]
     },
     "metadata": {},
     "output_type": "display_data"
    }
   ],
   "source": [
    "display_df_info(df_water_usage, \"Water Usage Data\")"
   ]
  },
  {
   "cell_type": "raw",
   "id": "3c9b05a9",
   "metadata": {},
   "source": [
    "# First step of merging"
   ]
  },
  {
   "cell_type": "code",
   "execution_count": 7,
   "id": "eeb3711f",
   "metadata": {},
   "outputs": [],
   "source": [
    "merge_soil_crop_production = df_crop_production.merge(df_soil_analysis, on = ['District'])"
   ]
  },
  {
   "cell_type": "raw",
   "id": "eb410a12",
   "metadata": {},
   "source": [
    "# Second merge"
   ]
  },
  {
   "cell_type": "code",
   "execution_count": 8,
   "id": "731dafd9",
   "metadata": {},
   "outputs": [],
   "source": [
    "merge_water_soil_crop_production = merge_soil_crop_production.merge(df_water_usage, on = ['District', 'Crop'])"
   ]
  },
  {
   "cell_type": "code",
   "execution_count": 9,
   "id": "d14b12a1",
   "metadata": {},
   "outputs": [
    {
     "data": {
      "text/html": [
       "<div>\n",
       "<style scoped>\n",
       "    .dataframe tbody tr th:only-of-type {\n",
       "        vertical-align: middle;\n",
       "    }\n",
       "\n",
       "    .dataframe tbody tr th {\n",
       "        vertical-align: top;\n",
       "    }\n",
       "\n",
       "    .dataframe thead th {\n",
       "        text-align: right;\n",
       "    }\n",
       "</style>\n",
       "<table border=\"1\" class=\"dataframe\">\n",
       "  <thead>\n",
       "    <tr style=\"text-align: right;\">\n",
       "      <th></th>\n",
       "      <th>District</th>\n",
       "      <th>Crop</th>\n",
       "      <th>Season</th>\n",
       "      <th>Area (hectares)</th>\n",
       "      <th>Yield (quintals)</th>\n",
       "      <th>Production (metric tons)</th>\n",
       "      <th>Soil Type</th>\n",
       "      <th>pH Level</th>\n",
       "      <th>Organic Matter (%)</th>\n",
       "      <th>Nitrogen Content (kg/ha)</th>\n",
       "      <th>Phosphorus Content (kg/ha)</th>\n",
       "      <th>Potassium Content (kg/ha)</th>\n",
       "      <th>Irrigation Method</th>\n",
       "      <th>Water Consumption (liters/hectare)</th>\n",
       "      <th>Water Availability (liters/hectare)</th>\n",
       "    </tr>\n",
       "  </thead>\n",
       "  <tbody>\n",
       "    <tr>\n",
       "      <th>433575</th>\n",
       "      <td>Ajmer</td>\n",
       "      <td>Onion</td>\n",
       "      <td>Kharif</td>\n",
       "      <td>16967.70233</td>\n",
       "      <td>42.402728</td>\n",
       "      <td>7194.768632</td>\n",
       "      <td>Chalky (Calcareous)</td>\n",
       "      <td>7.079614</td>\n",
       "      <td>2.110315</td>\n",
       "      <td>28.239561</td>\n",
       "      <td>21.623791</td>\n",
       "      <td>42.902838</td>\n",
       "      <td>Sprinkler Irrigation</td>\n",
       "      <td>14264.932913</td>\n",
       "      <td>14988.961769</td>\n",
       "    </tr>\n",
       "    <tr>\n",
       "      <th>433576</th>\n",
       "      <td>Ajmer</td>\n",
       "      <td>Onion</td>\n",
       "      <td>Kharif</td>\n",
       "      <td>16967.70233</td>\n",
       "      <td>42.402728</td>\n",
       "      <td>7194.768632</td>\n",
       "      <td>Chalky (Calcareous)</td>\n",
       "      <td>7.079614</td>\n",
       "      <td>2.110315</td>\n",
       "      <td>28.239561</td>\n",
       "      <td>21.623791</td>\n",
       "      <td>42.902838</td>\n",
       "      <td>Canal Irrigation</td>\n",
       "      <td>11618.405254</td>\n",
       "      <td>11633.677144</td>\n",
       "    </tr>\n",
       "    <tr>\n",
       "      <th>433577</th>\n",
       "      <td>Ajmer</td>\n",
       "      <td>Onion</td>\n",
       "      <td>Kharif</td>\n",
       "      <td>16967.70233</td>\n",
       "      <td>42.402728</td>\n",
       "      <td>7194.768632</td>\n",
       "      <td>Chalky (Calcareous)</td>\n",
       "      <td>7.079614</td>\n",
       "      <td>2.110315</td>\n",
       "      <td>28.239561</td>\n",
       "      <td>21.623791</td>\n",
       "      <td>42.902838</td>\n",
       "      <td>Sprinkler Irrigation</td>\n",
       "      <td>10593.992074</td>\n",
       "      <td>11165.941371</td>\n",
       "    </tr>\n",
       "    <tr>\n",
       "      <th>433578</th>\n",
       "      <td>Ajmer</td>\n",
       "      <td>Onion</td>\n",
       "      <td>Kharif</td>\n",
       "      <td>16967.70233</td>\n",
       "      <td>42.402728</td>\n",
       "      <td>7194.768632</td>\n",
       "      <td>Chalky (Calcareous)</td>\n",
       "      <td>7.079614</td>\n",
       "      <td>2.110315</td>\n",
       "      <td>28.239561</td>\n",
       "      <td>21.623791</td>\n",
       "      <td>42.902838</td>\n",
       "      <td>Tube Well</td>\n",
       "      <td>15252.106647</td>\n",
       "      <td>15357.754437</td>\n",
       "    </tr>\n",
       "    <tr>\n",
       "      <th>433579</th>\n",
       "      <td>Ajmer</td>\n",
       "      <td>Onion</td>\n",
       "      <td>Kharif</td>\n",
       "      <td>16967.70233</td>\n",
       "      <td>42.402728</td>\n",
       "      <td>7194.768632</td>\n",
       "      <td>Chalky (Calcareous)</td>\n",
       "      <td>7.079614</td>\n",
       "      <td>2.110315</td>\n",
       "      <td>28.239561</td>\n",
       "      <td>21.623791</td>\n",
       "      <td>42.902838</td>\n",
       "      <td>Drip Irrigation</td>\n",
       "      <td>11927.850413</td>\n",
       "      <td>11650.678989</td>\n",
       "    </tr>\n",
       "  </tbody>\n",
       "</table>\n",
       "</div>"
      ],
      "text/plain": [
       "       District   Crop  Season  Area (hectares)  Yield (quintals)  \\\n",
       "433575    Ajmer  Onion  Kharif      16967.70233         42.402728   \n",
       "433576    Ajmer  Onion  Kharif      16967.70233         42.402728   \n",
       "433577    Ajmer  Onion  Kharif      16967.70233         42.402728   \n",
       "433578    Ajmer  Onion  Kharif      16967.70233         42.402728   \n",
       "433579    Ajmer  Onion  Kharif      16967.70233         42.402728   \n",
       "\n",
       "        Production (metric tons)            Soil Type  pH Level  \\\n",
       "433575               7194.768632  Chalky (Calcareous)  7.079614   \n",
       "433576               7194.768632  Chalky (Calcareous)  7.079614   \n",
       "433577               7194.768632  Chalky (Calcareous)  7.079614   \n",
       "433578               7194.768632  Chalky (Calcareous)  7.079614   \n",
       "433579               7194.768632  Chalky (Calcareous)  7.079614   \n",
       "\n",
       "        Organic Matter (%)  Nitrogen Content (kg/ha)  \\\n",
       "433575            2.110315                 28.239561   \n",
       "433576            2.110315                 28.239561   \n",
       "433577            2.110315                 28.239561   \n",
       "433578            2.110315                 28.239561   \n",
       "433579            2.110315                 28.239561   \n",
       "\n",
       "        Phosphorus Content (kg/ha)  Potassium Content (kg/ha)  \\\n",
       "433575                   21.623791                  42.902838   \n",
       "433576                   21.623791                  42.902838   \n",
       "433577                   21.623791                  42.902838   \n",
       "433578                   21.623791                  42.902838   \n",
       "433579                   21.623791                  42.902838   \n",
       "\n",
       "           Irrigation Method  Water Consumption (liters/hectare)  \\\n",
       "433575  Sprinkler Irrigation                        14264.932913   \n",
       "433576      Canal Irrigation                        11618.405254   \n",
       "433577  Sprinkler Irrigation                        10593.992074   \n",
       "433578             Tube Well                        15252.106647   \n",
       "433579       Drip Irrigation                        11927.850413   \n",
       "\n",
       "        Water Availability (liters/hectare)  \n",
       "433575                         14988.961769  \n",
       "433576                         11633.677144  \n",
       "433577                         11165.941371  \n",
       "433578                         15357.754437  \n",
       "433579                         11650.678989  "
      ]
     },
     "execution_count": 9,
     "metadata": {},
     "output_type": "execute_result"
    }
   ],
   "source": [
    "database = merge_water_soil_crop_production.copy()\n",
    "database.tail()"
   ]
  },
  {
   "cell_type": "code",
   "execution_count": 10,
   "id": "2254fa07",
   "metadata": {},
   "outputs": [
    {
     "data": {
      "text/html": [
       "<div>\n",
       "<style scoped>\n",
       "    .dataframe tbody tr th:only-of-type {\n",
       "        vertical-align: middle;\n",
       "    }\n",
       "\n",
       "    .dataframe tbody tr th {\n",
       "        vertical-align: top;\n",
       "    }\n",
       "\n",
       "    .dataframe thead th {\n",
       "        text-align: right;\n",
       "    }\n",
       "</style>\n",
       "<table border=\"1\" class=\"dataframe\">\n",
       "  <thead>\n",
       "    <tr style=\"text-align: right;\">\n",
       "      <th></th>\n",
       "      <th>District</th>\n",
       "      <th>Crop</th>\n",
       "      <th>Season</th>\n",
       "      <th>Area (hectares)</th>\n",
       "      <th>Yield (quintals)</th>\n",
       "      <th>Soil Type</th>\n",
       "      <th>pH Level</th>\n",
       "      <th>Organic Matter (%)</th>\n",
       "      <th>Nitrogen Content (kg/ha)</th>\n",
       "      <th>Phosphorus Content (kg/ha)</th>\n",
       "      <th>Potassium Content (kg/ha)</th>\n",
       "      <th>Irrigation Method</th>\n",
       "      <th>Water Availability (liters/hectare)</th>\n",
       "    </tr>\n",
       "  </thead>\n",
       "  <tbody>\n",
       "    <tr>\n",
       "      <th>433575</th>\n",
       "      <td>Ajmer</td>\n",
       "      <td>Onion</td>\n",
       "      <td>Kharif</td>\n",
       "      <td>16967.70233</td>\n",
       "      <td>42.402728</td>\n",
       "      <td>Chalky (Calcareous)</td>\n",
       "      <td>7.079614</td>\n",
       "      <td>2.110315</td>\n",
       "      <td>28.239561</td>\n",
       "      <td>21.623791</td>\n",
       "      <td>42.902838</td>\n",
       "      <td>Sprinkler Irrigation</td>\n",
       "      <td>14988.961769</td>\n",
       "    </tr>\n",
       "    <tr>\n",
       "      <th>433576</th>\n",
       "      <td>Ajmer</td>\n",
       "      <td>Onion</td>\n",
       "      <td>Kharif</td>\n",
       "      <td>16967.70233</td>\n",
       "      <td>42.402728</td>\n",
       "      <td>Chalky (Calcareous)</td>\n",
       "      <td>7.079614</td>\n",
       "      <td>2.110315</td>\n",
       "      <td>28.239561</td>\n",
       "      <td>21.623791</td>\n",
       "      <td>42.902838</td>\n",
       "      <td>Canal Irrigation</td>\n",
       "      <td>11633.677144</td>\n",
       "    </tr>\n",
       "    <tr>\n",
       "      <th>433577</th>\n",
       "      <td>Ajmer</td>\n",
       "      <td>Onion</td>\n",
       "      <td>Kharif</td>\n",
       "      <td>16967.70233</td>\n",
       "      <td>42.402728</td>\n",
       "      <td>Chalky (Calcareous)</td>\n",
       "      <td>7.079614</td>\n",
       "      <td>2.110315</td>\n",
       "      <td>28.239561</td>\n",
       "      <td>21.623791</td>\n",
       "      <td>42.902838</td>\n",
       "      <td>Sprinkler Irrigation</td>\n",
       "      <td>11165.941371</td>\n",
       "    </tr>\n",
       "    <tr>\n",
       "      <th>433578</th>\n",
       "      <td>Ajmer</td>\n",
       "      <td>Onion</td>\n",
       "      <td>Kharif</td>\n",
       "      <td>16967.70233</td>\n",
       "      <td>42.402728</td>\n",
       "      <td>Chalky (Calcareous)</td>\n",
       "      <td>7.079614</td>\n",
       "      <td>2.110315</td>\n",
       "      <td>28.239561</td>\n",
       "      <td>21.623791</td>\n",
       "      <td>42.902838</td>\n",
       "      <td>Tube Well</td>\n",
       "      <td>15357.754437</td>\n",
       "    </tr>\n",
       "    <tr>\n",
       "      <th>433579</th>\n",
       "      <td>Ajmer</td>\n",
       "      <td>Onion</td>\n",
       "      <td>Kharif</td>\n",
       "      <td>16967.70233</td>\n",
       "      <td>42.402728</td>\n",
       "      <td>Chalky (Calcareous)</td>\n",
       "      <td>7.079614</td>\n",
       "      <td>2.110315</td>\n",
       "      <td>28.239561</td>\n",
       "      <td>21.623791</td>\n",
       "      <td>42.902838</td>\n",
       "      <td>Drip Irrigation</td>\n",
       "      <td>11650.678989</td>\n",
       "    </tr>\n",
       "  </tbody>\n",
       "</table>\n",
       "</div>"
      ],
      "text/plain": [
       "       District   Crop  Season  Area (hectares)  Yield (quintals)  \\\n",
       "433575    Ajmer  Onion  Kharif      16967.70233         42.402728   \n",
       "433576    Ajmer  Onion  Kharif      16967.70233         42.402728   \n",
       "433577    Ajmer  Onion  Kharif      16967.70233         42.402728   \n",
       "433578    Ajmer  Onion  Kharif      16967.70233         42.402728   \n",
       "433579    Ajmer  Onion  Kharif      16967.70233         42.402728   \n",
       "\n",
       "                  Soil Type  pH Level  Organic Matter (%)  \\\n",
       "433575  Chalky (Calcareous)  7.079614            2.110315   \n",
       "433576  Chalky (Calcareous)  7.079614            2.110315   \n",
       "433577  Chalky (Calcareous)  7.079614            2.110315   \n",
       "433578  Chalky (Calcareous)  7.079614            2.110315   \n",
       "433579  Chalky (Calcareous)  7.079614            2.110315   \n",
       "\n",
       "        Nitrogen Content (kg/ha)  Phosphorus Content (kg/ha)  \\\n",
       "433575                 28.239561                   21.623791   \n",
       "433576                 28.239561                   21.623791   \n",
       "433577                 28.239561                   21.623791   \n",
       "433578                 28.239561                   21.623791   \n",
       "433579                 28.239561                   21.623791   \n",
       "\n",
       "        Potassium Content (kg/ha)     Irrigation Method  \\\n",
       "433575                  42.902838  Sprinkler Irrigation   \n",
       "433576                  42.902838      Canal Irrigation   \n",
       "433577                  42.902838  Sprinkler Irrigation   \n",
       "433578                  42.902838             Tube Well   \n",
       "433579                  42.902838       Drip Irrigation   \n",
       "\n",
       "        Water Availability (liters/hectare)  \n",
       "433575                         14988.961769  \n",
       "433576                         11633.677144  \n",
       "433577                         11165.941371  \n",
       "433578                         15357.754437  \n",
       "433579                         11650.678989  "
      ]
     },
     "execution_count": 10,
     "metadata": {},
     "output_type": "execute_result"
    }
   ],
   "source": [
    "database = database.drop(columns = ['Production (metric tons)', 'Water Consumption (liters/hectare)'], axis = 1)\n",
    "database.tail()"
   ]
  },
  {
   "cell_type": "code",
   "execution_count": 11,
   "id": "6be93e53",
   "metadata": {},
   "outputs": [
    {
     "data": {
      "text/plain": [
       "District                               0\n",
       "Crop                                   0\n",
       "Season                                 0\n",
       "Area (hectares)                        0\n",
       "Yield (quintals)                       0\n",
       "Soil Type                              0\n",
       "pH Level                               0\n",
       "Organic Matter (%)                     0\n",
       "Nitrogen Content (kg/ha)               0\n",
       "Phosphorus Content (kg/ha)             0\n",
       "Potassium Content (kg/ha)              0\n",
       "Irrigation Method                      0\n",
       "Water Availability (liters/hectare)    0\n",
       "dtype: int64"
      ]
     },
     "execution_count": 11,
     "metadata": {},
     "output_type": "execute_result"
    }
   ],
   "source": [
    "database.isnull().sum()"
   ]
  },
  {
   "cell_type": "code",
   "execution_count": 12,
   "id": "d8f17505",
   "metadata": {},
   "outputs": [
    {
     "data": {
      "text/plain": [
       "0"
      ]
     },
     "execution_count": 12,
     "metadata": {},
     "output_type": "execute_result"
    }
   ],
   "source": [
    "database.duplicated().sum()"
   ]
  },
  {
   "cell_type": "code",
   "execution_count": 13,
   "id": "256796fb",
   "metadata": {},
   "outputs": [],
   "source": [
    "X = database.drop(columns=['Yield (quintals)'])  # Features\n",
    "y = database['Yield (quintals)']  # Target"
   ]
  },
  {
   "cell_type": "raw",
   "id": "8dc02988-659d-4a55-b365-fe33f9f72b4c",
   "metadata": {},
   "source": [
    "# Encode categorical variables"
   ]
  },
  {
   "cell_type": "code",
   "execution_count": 14,
   "id": "f5a47a71",
   "metadata": {},
   "outputs": [],
   "source": [
    "encoder = OneHotEncoder()\n",
    "X_encoded = encoder.fit_transform(X[['District', 'Crop', 'Season', 'Soil Type', 'Irrigation Method']])\n",
    "feature_names = encoder.get_feature_names_out(['District', 'Crop', 'Season', 'Soil Type', 'Irrigation Method'])\n",
    "X_categorical = pd.DataFrame(X_encoded.toarray(), columns=feature_names)\n",
    "X_numeric = X.drop(columns=['District', 'Crop', 'Season', 'Soil Type', 'Irrigation Method'])\n",
    "#print(feature_names)\n",
    "#print(X_categorical.iloc[0])"
   ]
  },
  {
   "cell_type": "raw",
   "id": "53db53f9-7ac5-4834-a924-e5fd4178956e",
   "metadata": {},
   "source": [
    "# Export encoder"
   ]
  },
  {
   "cell_type": "code",
   "execution_count": 15,
   "id": "7a7d54f5-b64a-4303-a5b8-a23976d0ae6b",
   "metadata": {},
   "outputs": [
    {
     "data": {
      "text/plain": [
       "['encoder.pkl']"
      ]
     },
     "execution_count": 15,
     "metadata": {},
     "output_type": "execute_result"
    }
   ],
   "source": [
    "joblib.dump(encoder, 'encoder.pkl')"
   ]
  },
  {
   "cell_type": "raw",
   "id": "1f9acc32-de76-4a2f-a279-1e23c93fa662",
   "metadata": {},
   "source": [
    "# Merge encoded categorical features and numerical features"
   ]
  },
  {
   "cell_type": "code",
   "execution_count": 16,
   "id": "80fcc701-cad7-4880-9cf9-2e77e94319ca",
   "metadata": {},
   "outputs": [
    {
     "data": {
      "text/html": [
       "<div>\n",
       "<style scoped>\n",
       "    .dataframe tbody tr th:only-of-type {\n",
       "        vertical-align: middle;\n",
       "    }\n",
       "\n",
       "    .dataframe tbody tr th {\n",
       "        vertical-align: top;\n",
       "    }\n",
       "\n",
       "    .dataframe thead th {\n",
       "        text-align: right;\n",
       "    }\n",
       "</style>\n",
       "<table border=\"1\" class=\"dataframe\">\n",
       "  <thead>\n",
       "    <tr style=\"text-align: right;\">\n",
       "      <th></th>\n",
       "      <th>District_Ajmer</th>\n",
       "      <th>District_Alwar</th>\n",
       "      <th>District_Bhilwara</th>\n",
       "      <th>District_Hanumangarh</th>\n",
       "      <th>District_Jaipur</th>\n",
       "      <th>District_Jodhpur</th>\n",
       "      <th>District_Kota</th>\n",
       "      <th>District_Nagaur</th>\n",
       "      <th>District_Sri Ganganagar</th>\n",
       "      <th>District_Udaipur</th>\n",
       "      <th>...</th>\n",
       "      <th>Irrigation Method_Drip Irrigation</th>\n",
       "      <th>Irrigation Method_Sprinkler Irrigation</th>\n",
       "      <th>Irrigation Method_Tube Well</th>\n",
       "      <th>Area (hectares)</th>\n",
       "      <th>pH Level</th>\n",
       "      <th>Organic Matter (%)</th>\n",
       "      <th>Nitrogen Content (kg/ha)</th>\n",
       "      <th>Phosphorus Content (kg/ha)</th>\n",
       "      <th>Potassium Content (kg/ha)</th>\n",
       "      <th>Water Availability (liters/hectare)</th>\n",
       "    </tr>\n",
       "  </thead>\n",
       "  <tbody>\n",
       "    <tr>\n",
       "      <th>0</th>\n",
       "      <td>0.0</td>\n",
       "      <td>0.0</td>\n",
       "      <td>0.0</td>\n",
       "      <td>0.0</td>\n",
       "      <td>0.0</td>\n",
       "      <td>1.0</td>\n",
       "      <td>0.0</td>\n",
       "      <td>0.0</td>\n",
       "      <td>0.0</td>\n",
       "      <td>0.0</td>\n",
       "      <td>...</td>\n",
       "      <td>0.0</td>\n",
       "      <td>1.0</td>\n",
       "      <td>0.0</td>\n",
       "      <td>16490.142459</td>\n",
       "      <td>7.453182</td>\n",
       "      <td>2.662898</td>\n",
       "      <td>23.564182</td>\n",
       "      <td>13.014409</td>\n",
       "      <td>37.082003</td>\n",
       "      <td>10557.488279</td>\n",
       "    </tr>\n",
       "    <tr>\n",
       "      <th>1</th>\n",
       "      <td>0.0</td>\n",
       "      <td>0.0</td>\n",
       "      <td>0.0</td>\n",
       "      <td>0.0</td>\n",
       "      <td>0.0</td>\n",
       "      <td>1.0</td>\n",
       "      <td>0.0</td>\n",
       "      <td>0.0</td>\n",
       "      <td>0.0</td>\n",
       "      <td>0.0</td>\n",
       "      <td>...</td>\n",
       "      <td>0.0</td>\n",
       "      <td>1.0</td>\n",
       "      <td>0.0</td>\n",
       "      <td>16490.142459</td>\n",
       "      <td>7.453182</td>\n",
       "      <td>2.662898</td>\n",
       "      <td>23.564182</td>\n",
       "      <td>13.014409</td>\n",
       "      <td>37.082003</td>\n",
       "      <td>14448.126887</td>\n",
       "    </tr>\n",
       "    <tr>\n",
       "      <th>2</th>\n",
       "      <td>0.0</td>\n",
       "      <td>0.0</td>\n",
       "      <td>0.0</td>\n",
       "      <td>0.0</td>\n",
       "      <td>0.0</td>\n",
       "      <td>1.0</td>\n",
       "      <td>0.0</td>\n",
       "      <td>0.0</td>\n",
       "      <td>0.0</td>\n",
       "      <td>0.0</td>\n",
       "      <td>...</td>\n",
       "      <td>1.0</td>\n",
       "      <td>0.0</td>\n",
       "      <td>0.0</td>\n",
       "      <td>16490.142459</td>\n",
       "      <td>7.453182</td>\n",
       "      <td>2.662898</td>\n",
       "      <td>23.564182</td>\n",
       "      <td>13.014409</td>\n",
       "      <td>37.082003</td>\n",
       "      <td>8512.323275</td>\n",
       "    </tr>\n",
       "    <tr>\n",
       "      <th>3</th>\n",
       "      <td>0.0</td>\n",
       "      <td>0.0</td>\n",
       "      <td>0.0</td>\n",
       "      <td>0.0</td>\n",
       "      <td>0.0</td>\n",
       "      <td>1.0</td>\n",
       "      <td>0.0</td>\n",
       "      <td>0.0</td>\n",
       "      <td>0.0</td>\n",
       "      <td>0.0</td>\n",
       "      <td>...</td>\n",
       "      <td>0.0</td>\n",
       "      <td>1.0</td>\n",
       "      <td>0.0</td>\n",
       "      <td>16490.142459</td>\n",
       "      <td>7.453182</td>\n",
       "      <td>2.662898</td>\n",
       "      <td>23.564182</td>\n",
       "      <td>13.014409</td>\n",
       "      <td>37.082003</td>\n",
       "      <td>9434.989877</td>\n",
       "    </tr>\n",
       "    <tr>\n",
       "      <th>4</th>\n",
       "      <td>0.0</td>\n",
       "      <td>0.0</td>\n",
       "      <td>0.0</td>\n",
       "      <td>0.0</td>\n",
       "      <td>0.0</td>\n",
       "      <td>1.0</td>\n",
       "      <td>0.0</td>\n",
       "      <td>0.0</td>\n",
       "      <td>0.0</td>\n",
       "      <td>0.0</td>\n",
       "      <td>...</td>\n",
       "      <td>0.0</td>\n",
       "      <td>1.0</td>\n",
       "      <td>0.0</td>\n",
       "      <td>16490.142459</td>\n",
       "      <td>7.305740</td>\n",
       "      <td>2.095212</td>\n",
       "      <td>32.246094</td>\n",
       "      <td>17.450967</td>\n",
       "      <td>40.172205</td>\n",
       "      <td>10557.488279</td>\n",
       "    </tr>\n",
       "  </tbody>\n",
       "</table>\n",
       "<p>5 rows × 54 columns</p>\n",
       "</div>"
      ],
      "text/plain": [
       "   District_Ajmer  District_Alwar  District_Bhilwara  District_Hanumangarh  \\\n",
       "0             0.0             0.0                0.0                   0.0   \n",
       "1             0.0             0.0                0.0                   0.0   \n",
       "2             0.0             0.0                0.0                   0.0   \n",
       "3             0.0             0.0                0.0                   0.0   \n",
       "4             0.0             0.0                0.0                   0.0   \n",
       "\n",
       "   District_Jaipur  District_Jodhpur  District_Kota  District_Nagaur  \\\n",
       "0              0.0               1.0            0.0              0.0   \n",
       "1              0.0               1.0            0.0              0.0   \n",
       "2              0.0               1.0            0.0              0.0   \n",
       "3              0.0               1.0            0.0              0.0   \n",
       "4              0.0               1.0            0.0              0.0   \n",
       "\n",
       "   District_Sri Ganganagar  District_Udaipur  ...  \\\n",
       "0                      0.0               0.0  ...   \n",
       "1                      0.0               0.0  ...   \n",
       "2                      0.0               0.0  ...   \n",
       "3                      0.0               0.0  ...   \n",
       "4                      0.0               0.0  ...   \n",
       "\n",
       "   Irrigation Method_Drip Irrigation  Irrigation Method_Sprinkler Irrigation  \\\n",
       "0                                0.0                                     1.0   \n",
       "1                                0.0                                     1.0   \n",
       "2                                1.0                                     0.0   \n",
       "3                                0.0                                     1.0   \n",
       "4                                0.0                                     1.0   \n",
       "\n",
       "   Irrigation Method_Tube Well  Area (hectares)  pH Level  Organic Matter (%)  \\\n",
       "0                          0.0     16490.142459  7.453182            2.662898   \n",
       "1                          0.0     16490.142459  7.453182            2.662898   \n",
       "2                          0.0     16490.142459  7.453182            2.662898   \n",
       "3                          0.0     16490.142459  7.453182            2.662898   \n",
       "4                          0.0     16490.142459  7.305740            2.095212   \n",
       "\n",
       "   Nitrogen Content (kg/ha)  Phosphorus Content (kg/ha)  \\\n",
       "0                 23.564182                   13.014409   \n",
       "1                 23.564182                   13.014409   \n",
       "2                 23.564182                   13.014409   \n",
       "3                 23.564182                   13.014409   \n",
       "4                 32.246094                   17.450967   \n",
       "\n",
       "   Potassium Content (kg/ha)  Water Availability (liters/hectare)  \n",
       "0                  37.082003                         10557.488279  \n",
       "1                  37.082003                         14448.126887  \n",
       "2                  37.082003                          8512.323275  \n",
       "3                  37.082003                          9434.989877  \n",
       "4                  40.172205                         10557.488279  \n",
       "\n",
       "[5 rows x 54 columns]"
      ]
     },
     "execution_count": 16,
     "metadata": {},
     "output_type": "execute_result"
    }
   ],
   "source": [
    "X_processed = pd.concat([X_categorical, X_numeric], axis=1)\n",
    "X_processed.head()"
   ]
  },
  {
   "cell_type": "raw",
   "id": "8c36177d-ca3e-427b-b814-529a847c8d43",
   "metadata": {},
   "source": [
    "# Splits"
   ]
  },
  {
   "cell_type": "code",
   "execution_count": 17,
   "id": "bdf48a26",
   "metadata": {},
   "outputs": [],
   "source": [
    "X_train_val, X_test, y_train_val, y_test = train_test_split(X_processed, y, test_size=0.2, random_state=42)\n",
    "X_train, X_val, y_train, y_val = train_test_split(X_train_val, y_train_val, test_size=0.25, random_state=42)  # 0.25 x 0.8 = 0.2"
   ]
  },
  {
   "cell_type": "raw",
   "id": "26486719-9701-4034-9e9d-59a03e7ce7d8",
   "metadata": {},
   "source": [
    "# Normalize numerical features"
   ]
  },
  {
   "cell_type": "code",
   "execution_count": 18,
   "id": "5d69af60",
   "metadata": {},
   "outputs": [],
   "source": [
    "scaler = StandardScaler()\n",
    "X_train_scaled = scaler.fit_transform(X_train)\n",
    "X_val_scaled = scaler.transform(X_val)\n",
    "X_test_scaled = scaler.transform(X_test)"
   ]
  },
  {
   "cell_type": "code",
   "execution_count": 19,
   "id": "c96889e0-a2f9-4be9-a9cc-acd772769096",
   "metadata": {},
   "outputs": [],
   "source": [
    "#joblib.dump(scaler, 'scaler.pkl')"
   ]
  },
  {
   "cell_type": "raw",
   "id": "a4c67be3-b9ea-4830-b14c-2fdb13004f20",
   "metadata": {},
   "source": [
    "# Reshape input data to resemble images (assuming 2D data)\n",
    "# Reshape X_train_scaled, X_val_scaled, and X_test_scaled according to your data structure\n",
    "# For example, if you have 10 features, reshape them to (num_samples, 2, 5, 1)"
   ]
  },
  {
   "cell_type": "code",
   "execution_count": 20,
   "id": "3a931174-83d5-4957-9b71-a4ed3fa8935f",
   "metadata": {},
   "outputs": [
    {
     "name": "stdout",
     "output_type": "stream",
     "text": [
      "X_train_scaled shape: (260148, 54)\n",
      "X_val_scaled shape: (86716, 54)\n",
      "X_test_scaled shape: (86716, 54)\n"
     ]
    }
   ],
   "source": [
    "print(\"X_train_scaled shape:\", X_train_scaled.shape)\n",
    "print(\"X_val_scaled shape:\", X_val_scaled.shape)\n",
    "print(\"X_test_scaled shape:\", X_test_scaled.shape)"
   ]
  },
  {
   "cell_type": "code",
   "execution_count": 21,
   "id": "03655524",
   "metadata": {},
   "outputs": [],
   "source": [
    "X_train_reshaped = X_train_scaled.reshape(X_train_scaled.shape[0], X_train_scaled.shape[1], 1)\n",
    "X_val_reshaped = X_val_scaled.reshape(X_val_scaled.shape[0], X_val_scaled.shape[1], 1)\n",
    "X_test_reshaped = X_test_scaled.reshape(X_test_scaled.shape[0], X_test_scaled.shape[1], 1)"
   ]
  },
  {
   "cell_type": "code",
   "execution_count": 22,
   "id": "837f46e2",
   "metadata": {},
   "outputs": [],
   "source": [
    "# Define the CNN mode"
   ]
  },
  {
   "cell_type": "code",
   "execution_count": 23,
   "id": "e5cf2220-901e-4fe4-82b8-0014da1a139a",
   "metadata": {},
   "outputs": [],
   "source": [
    "model = Sequential([\n",
    "    Conv2D(32, kernel_size=(3, 3), activation='relu', padding='same', input_shape=(X_train_reshaped.shape[1], X_train_reshaped.shape[2], 1)),\n",
    "    Conv2D(64, kernel_size=(3, 3), activation='relu', padding='same'),\n",
    "    Flatten(),\n",
    "    Dense(64, activation='relu'),\n",
    "    Dense(1)  # Output layer\n",
    "])"
   ]
  },
  {
   "cell_type": "raw",
   "id": "9ae5c7bd-0e00-4fa1-9eb2-ac2ca628316f",
   "metadata": {},
   "source": [
    "# Compile the model"
   ]
  },
  {
   "cell_type": "code",
   "execution_count": 24,
   "id": "35c0358e-6c64-4b1f-bc87-3f10e61a1258",
   "metadata": {},
   "outputs": [],
   "source": [
    "model.compile(optimizer='adam', loss='mse', metrics=['mae'])"
   ]
  },
  {
   "cell_type": "raw",
   "id": "23cb13c8-4fc1-4d8d-9f5b-820b9b020652",
   "metadata": {},
   "source": [
    "# Train the model"
   ]
  },
  {
   "cell_type": "code",
   "execution_count": 25,
   "id": "d0971b74-0e28-4e79-8fcb-dbe006322020",
   "metadata": {},
   "outputs": [
    {
     "name": "stdout",
     "output_type": "stream",
     "text": [
      "Epoch 1/20\n",
      "8130/8130 [==============================] - 202s 25ms/step - loss: 69.0841 - mae: 6.9127 - val_loss: 62.9519 - val_mae: 6.6110\n",
      "Epoch 2/20\n",
      "8130/8130 [==============================] - 189s 23ms/step - loss: 56.7843 - mae: 6.1782 - val_loss: 47.5405 - val_mae: 5.5329\n",
      "Epoch 3/20\n",
      "8130/8130 [==============================] - 175s 22ms/step - loss: 42.9088 - mae: 5.2201 - val_loss: 37.0310 - val_mae: 4.7855\n",
      "Epoch 4/20\n",
      "8130/8130 [==============================] - 181s 22ms/step - loss: 33.0182 - mae: 4.4435 - val_loss: 29.4343 - val_mae: 4.1521\n",
      "Epoch 5/20\n",
      "8130/8130 [==============================] - 185s 23ms/step - loss: 27.3260 - mae: 3.9297 - val_loss: 25.2112 - val_mae: 3.7673\n",
      "Epoch 6/20\n",
      "8130/8130 [==============================] - 188s 23ms/step - loss: 22.4892 - mae: 3.4640 - val_loss: 20.4337 - val_mae: 3.2355\n",
      "Epoch 7/20\n",
      "8130/8130 [==============================] - 197s 24ms/step - loss: 17.7458 - mae: 2.9599 - val_loss: 15.9319 - val_mae: 2.7522\n",
      "Epoch 8/20\n",
      "8130/8130 [==============================] - 213s 26ms/step - loss: 14.5982 - mae: 2.6029 - val_loss: 13.5419 - val_mae: 2.4861\n",
      "Epoch 9/20\n",
      "8130/8130 [==============================] - 220s 27ms/step - loss: 12.2573 - mae: 2.3337 - val_loss: 11.3577 - val_mae: 2.2116\n",
      "Epoch 10/20\n",
      "8130/8130 [==============================] - 230s 28ms/step - loss: 10.5179 - mae: 2.1195 - val_loss: 11.2900 - val_mae: 2.2004\n",
      "Epoch 11/20\n",
      "8130/8130 [==============================] - 230s 28ms/step - loss: 9.3198 - mae: 1.9674 - val_loss: 9.2790 - val_mae: 1.9560\n",
      "Epoch 12/20\n",
      "8130/8130 [==============================] - 233s 29ms/step - loss: 8.4618 - mae: 1.8517 - val_loss: 8.1688 - val_mae: 1.8302\n",
      "Epoch 13/20\n",
      "8130/8130 [==============================] - 232s 29ms/step - loss: 7.8424 - mae: 1.7727 - val_loss: 8.0459 - val_mae: 1.7820\n",
      "Epoch 14/20\n",
      "8130/8130 [==============================] - 234s 29ms/step - loss: 7.3697 - mae: 1.7055 - val_loss: 7.5125 - val_mae: 1.6962\n",
      "Epoch 15/20\n",
      "8130/8130 [==============================] - 239s 29ms/step - loss: 6.9359 - mae: 1.6446 - val_loss: 6.5562 - val_mae: 1.5745\n",
      "Epoch 16/20\n",
      "8130/8130 [==============================] - 236s 29ms/step - loss: 6.5324 - mae: 1.5866 - val_loss: 6.7717 - val_mae: 1.6115\n",
      "Epoch 17/20\n",
      "8130/8130 [==============================] - 236s 29ms/step - loss: 6.2080 - mae: 1.5372 - val_loss: 6.2315 - val_mae: 1.5168\n",
      "Epoch 18/20\n",
      "8130/8130 [==============================] - 235s 29ms/step - loss: 5.9427 - mae: 1.5025 - val_loss: 5.7166 - val_mae: 1.4135\n",
      "Epoch 19/20\n",
      "8130/8130 [==============================] - 235s 29ms/step - loss: 5.6941 - mae: 1.4607 - val_loss: 5.8407 - val_mae: 1.4749\n",
      "Epoch 20/20\n",
      "8130/8130 [==============================] - 237s 29ms/step - loss: 5.4464 - mae: 1.4284 - val_loss: 5.1686 - val_mae: 1.3207\n"
     ]
    }
   ],
   "source": [
    "history = model.fit(X_train_reshaped, y_train, epochs=20, batch_size=32, validation_data=(X_val_reshaped, y_val))"
   ]
  },
  {
   "cell_type": "raw",
   "id": "dc1db4ba-03fa-4af0-8bc8-12f1ff8b1530",
   "metadata": {},
   "source": [
    "# Evaluate the model"
   ]
  },
  {
   "cell_type": "code",
   "execution_count": 26,
   "id": "d58ffdde-56b1-4ea6-82e6-c409146d0d35",
   "metadata": {},
   "outputs": [
    {
     "name": "stdout",
     "output_type": "stream",
     "text": [
      "2710/2710 [==============================] - 16s 6ms/step - loss: 4.8013 - mae: 1.3672\n"
     ]
    }
   ],
   "source": [
    "mse, mae = model.evaluate(X_test_reshaped, y_test)"
   ]
  },
  {
   "cell_type": "raw",
   "id": "c6aeeaf6-b53a-4425-a9f8-649a516f75d3",
   "metadata": {},
   "source": [
    "# Predictions"
   ]
  },
  {
   "cell_type": "code",
   "execution_count": 27,
   "id": "61ba6476-6cfe-4795-bdca-2b719e4fc23b",
   "metadata": {},
   "outputs": [
    {
     "name": "stdout",
     "output_type": "stream",
     "text": [
      "2710/2710 [==============================] - 13s 5ms/step\n"
     ]
    }
   ],
   "source": [
    "predictions = model.predict(X_test_reshaped)"
   ]
  },
  {
   "cell_type": "raw",
   "id": "4f453e62-8a05-4679-9bd2-e17d6457c334",
   "metadata": {},
   "source": [
    "# Compute R-squared score"
   ]
  },
  {
   "cell_type": "code",
   "execution_count": 28,
   "id": "d8be265b-f638-4fa8-8728-f16b98a498db",
   "metadata": {},
   "outputs": [],
   "source": [
    "r2_test = r2_score(y_test, predictions)"
   ]
  },
  {
   "cell_type": "raw",
   "id": "56b67461-f1f8-4a1d-b215-066971e3b55b",
   "metadata": {},
   "source": [
    "# Print evaluation metrics"
   ]
  },
  {
   "cell_type": "code",
   "execution_count": 29,
   "id": "f535997d-3873-4b95-98e9-9d60b12e2cf8",
   "metadata": {},
   "outputs": [
    {
     "name": "stdout",
     "output_type": "stream",
     "text": [
      "Mean Square Error: 4.8013\n",
      "Root Mean Square Error: 2.1912\n",
      "R2 Score: 0.9298\n"
     ]
    }
   ],
   "source": [
    "print(f\"Mean Square Error: {mse:.4f}\")\n",
    "print(f\"Root Mean Square Error: {np.sqrt(mse):.4f}\")\n",
    "print(f\"R2 Score: {r2_test:.4f}\")"
   ]
  },
  {
   "cell_type": "code",
   "execution_count": 30,
   "id": "db304e42-c999-4562-89ba-012b71a4269e",
   "metadata": {},
   "outputs": [],
   "source": [
    "# Plotting actual vs. predicted values"
   ]
  },
  {
   "cell_type": "code",
   "execution_count": 35,
   "id": "75e4da5c-ef47-48c9-9b11-cb61c40d3677",
   "metadata": {},
   "outputs": [
    {
     "data": {
      "image/png": "[encoded data removed]",
      "text/plain": [
       "<Figure size 800x600 with 1 Axes>"
      ]
     },
     "metadata": {},
     "output_type": "display_data"
    }
   ],
   "source": [
    "cwd = os.getcwd()\n",
    "\n",
    "plt.figure(figsize=(8, 6))\n",
    "plt.scatter(y_test, predictions, alpha=0.5)\n",
    "plt.plot(y_test, y_test, color='red', label='Ideal Predictions')\n",
    "plt.title('Actual vs. Predicted Crop Yields')\n",
    "plt.xlabel('Actual Yield (Quintals)')\n",
    "plt.ylabel('Predicted Yield (Quintals)')\n",
    "plt.legend()\n",
    "plt.grid(True)\n",
    "plt.savefig(os.path.join(cwd, \"RsquaredCNN.png\"))\n",
    "plt.show()"
   ]
  },
  {
   "cell_type": "code",
   "execution_count": 91,
   "id": "bb845127-6623-4353-9e07-309703534be5",
   "metadata": {},
   "outputs": [],
   "source": [
    "#model.save('model.h5')  # Save the entire model"
   ]
  },
  {
   "cell_type": "code",
   "execution_count": null,
   "id": "a50ff81b-9a87-45d1-bdf7-0800ba76a108",
   "metadata": {},
   "outputs": [],
   "source": []
  }
 ],
 "metadata": {
  "kernelspec": {
   "display_name": "Python 3 (ipykernel)",
   "language": "python",
   "name": "python3"
  },
  "language_info": {
   "codemirror_mode": {
    "name": "ipython",
    "version": 3
   },
   "file_extension": ".py",
   "mimetype": "text/x-python",
   "name": "python",
   "nbconvert_exporter": "python",
   "pygments_lexer": "ipython3",
   "version": "3.10.13"
  }
 },
 "nbformat": 4,
 "nbformat_minor": 5
}

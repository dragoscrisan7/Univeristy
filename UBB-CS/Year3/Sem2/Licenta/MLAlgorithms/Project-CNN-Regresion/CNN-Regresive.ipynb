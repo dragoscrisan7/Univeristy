{
 "cells": [
  {
   "cell_type": "code",
   "execution_count": 38,
   "id": "8a62233a-653e-4663-b97b-ce484849d73c",
   "metadata": {},
   "outputs": [],
   "source": [
    "import numpy as np\n",
    "import pandas as pd\n",
    "import missingno as msno\n",
    "import matplotlib.pyplot as plt\n",
    "import seaborn as sns\n",
    "import warnings \n",
    "import joblib\n",
    "warnings.filterwarnings(\"ignore\")"
   ]
  },
  {
   "cell_type": "code",
   "execution_count": 39,
   "id": "47b95f70-2984-4f92-a2bc-dfa71ab38a83",
   "metadata": {},
   "outputs": [],
   "source": [
    "from sklearn.model_selection import train_test_split\n",
    "from sklearn.preprocessing import StandardScaler, OneHotEncoder\n",
    "from sklearn.metrics import mean_squared_error, r2_score\n",
    "from tensorflow.keras.models import Sequential\n",
    "from tensorflow.keras.layers import Conv2D, MaxPooling2D, Flatten, Dense"
   ]
  },
  {
   "cell_type": "code",
   "execution_count": 40,
   "id": "5921bd86-73ab-46be-b9fe-1fc08a441c48",
   "metadata": {},
   "outputs": [],
   "source": [
    "df_crop_production = pd.read_csv(\"../../Datasets/OpDataset/crop_production_data.csv\")\n",
    "df_soil_analysis = pd.read_csv(\"../../Datasets/OpDataset/soil_analysis_data.csv\")\n",
    "df_water_usage = pd.read_csv(\"../../Datasets/OpDataset/water_usage_data.csv\")"
   ]
  },
  {
   "cell_type": "code",
   "execution_count": 41,
   "id": "67e7e01e-8297-49f0-986b-9c571b5c68e9",
   "metadata": {},
   "outputs": [
    {
     "name": "stdout",
     "output_type": "stream",
     "text": [
      "<class 'pandas.core.frame.DataFrame'>\n",
      "RangeIndex: 1000 entries, 0 to 999\n",
      "Data columns (total 6 columns):\n",
      " #   Column                    Non-Null Count  Dtype  \n",
      "---  ------                    --------------  -----  \n",
      " 0   District                  1000 non-null   object \n",
      " 1   Crop                      1000 non-null   object \n",
      " 2   Season                    1000 non-null   object \n",
      " 3   Area (hectares)           1000 non-null   float64\n",
      " 4   Yield (quintals)          1000 non-null   float64\n",
      " 5   Production (metric tons)  1000 non-null   float64\n",
      "dtypes: float64(3), object(3)\n",
      "memory usage: 47.0+ KB\n",
      "<class 'pandas.core.frame.DataFrame'>\n",
      "RangeIndex: 1000 entries, 0 to 999\n",
      "Data columns (total 7 columns):\n",
      " #   Column                      Non-Null Count  Dtype  \n",
      "---  ------                      --------------  -----  \n",
      " 0   District                    1000 non-null   object \n",
      " 1   Soil Type                   1000 non-null   object \n",
      " 2   pH Level                    1000 non-null   float64\n",
      " 3   Organic Matter (%)          1000 non-null   float64\n",
      " 4   Nitrogen Content (kg/ha)    1000 non-null   float64\n",
      " 5   Phosphorus Content (kg/ha)  1000 non-null   float64\n",
      " 6   Potassium Content (kg/ha)   1000 non-null   float64\n",
      "dtypes: float64(5), object(2)\n",
      "memory usage: 54.8+ KB\n",
      "<class 'pandas.core.frame.DataFrame'>\n",
      "RangeIndex: 1000 entries, 0 to 999\n",
      "Data columns (total 5 columns):\n",
      " #   Column                               Non-Null Count  Dtype  \n",
      "---  ------                               --------------  -----  \n",
      " 0   District                             1000 non-null   object \n",
      " 1   Crop                                 1000 non-null   object \n",
      " 2   Irrigation Method                    1000 non-null   object \n",
      " 3   Water Consumption (liters/hectare)   1000 non-null   float64\n",
      " 4   Water Availability (liters/hectare)  1000 non-null   float64\n",
      "dtypes: float64(2), object(3)\n",
      "memory usage: 39.2+ KB\n"
     ]
    }
   ],
   "source": [
    "df_crop_production.info()\n",
    "df_soil_analysis.info()\n",
    "df_water_usage.info()"
   ]
  },
  {
   "cell_type": "code",
   "execution_count": 42,
   "id": "c3c65398-b6d3-4465-a5af-5165b8891642",
   "metadata": {},
   "outputs": [],
   "source": [
    "merge_soil_crop_production = df_crop_production.merge(df_soil_analysis, on = ['District'])\n",
    "merge_water_soil_crop_production = merge_soil_crop_production.merge(df_water_usage, on = ['District', 'Crop'])"
   ]
  },
  {
   "cell_type": "code",
   "execution_count": 43,
   "id": "008aa0af-9309-4e8b-9902-d58e22e5c9cf",
   "metadata": {},
   "outputs": [
    {
     "data": {
      "text/html": [
       "<div>\n",
       "<style scoped>\n",
       "    .dataframe tbody tr th:only-of-type {\n",
       "        vertical-align: middle;\n",
       "    }\n",
       "\n",
       "    .dataframe tbody tr th {\n",
       "        vertical-align: top;\n",
       "    }\n",
       "\n",
       "    .dataframe thead th {\n",
       "        text-align: right;\n",
       "    }\n",
       "</style>\n",
       "<table border=\"1\" class=\"dataframe\">\n",
       "  <thead>\n",
       "    <tr style=\"text-align: right;\">\n",
       "      <th></th>\n",
       "      <th>District</th>\n",
       "      <th>Crop</th>\n",
       "      <th>Season</th>\n",
       "      <th>Area (hectares)</th>\n",
       "      <th>Yield (quintals)</th>\n",
       "      <th>Soil Type</th>\n",
       "      <th>pH Level</th>\n",
       "      <th>Organic Matter (%)</th>\n",
       "      <th>Nitrogen Content (kg/ha)</th>\n",
       "      <th>Phosphorus Content (kg/ha)</th>\n",
       "      <th>Potassium Content (kg/ha)</th>\n",
       "      <th>Irrigation Method</th>\n",
       "      <th>Water Availability (liters/hectare)</th>\n",
       "    </tr>\n",
       "  </thead>\n",
       "  <tbody>\n",
       "    <tr>\n",
       "      <th>0</th>\n",
       "      <td>Jodhpur</td>\n",
       "      <td>Wheat</td>\n",
       "      <td>Kharif</td>\n",
       "      <td>16490.142459</td>\n",
       "      <td>30.691986</td>\n",
       "      <td>Sandy</td>\n",
       "      <td>7.453182</td>\n",
       "      <td>2.662898</td>\n",
       "      <td>23.564182</td>\n",
       "      <td>13.014409</td>\n",
       "      <td>37.082003</td>\n",
       "      <td>Sprinkler Irrigation</td>\n",
       "      <td>10557.488279</td>\n",
       "    </tr>\n",
       "    <tr>\n",
       "      <th>1</th>\n",
       "      <td>Jodhpur</td>\n",
       "      <td>Wheat</td>\n",
       "      <td>Kharif</td>\n",
       "      <td>16490.142459</td>\n",
       "      <td>30.691986</td>\n",
       "      <td>Sandy</td>\n",
       "      <td>7.453182</td>\n",
       "      <td>2.662898</td>\n",
       "      <td>23.564182</td>\n",
       "      <td>13.014409</td>\n",
       "      <td>37.082003</td>\n",
       "      <td>Sprinkler Irrigation</td>\n",
       "      <td>14448.126887</td>\n",
       "    </tr>\n",
       "    <tr>\n",
       "      <th>2</th>\n",
       "      <td>Jodhpur</td>\n",
       "      <td>Wheat</td>\n",
       "      <td>Kharif</td>\n",
       "      <td>16490.142459</td>\n",
       "      <td>30.691986</td>\n",
       "      <td>Sandy</td>\n",
       "      <td>7.453182</td>\n",
       "      <td>2.662898</td>\n",
       "      <td>23.564182</td>\n",
       "      <td>13.014409</td>\n",
       "      <td>37.082003</td>\n",
       "      <td>Drip Irrigation</td>\n",
       "      <td>8512.323275</td>\n",
       "    </tr>\n",
       "    <tr>\n",
       "      <th>3</th>\n",
       "      <td>Jodhpur</td>\n",
       "      <td>Wheat</td>\n",
       "      <td>Kharif</td>\n",
       "      <td>16490.142459</td>\n",
       "      <td>30.691986</td>\n",
       "      <td>Sandy</td>\n",
       "      <td>7.453182</td>\n",
       "      <td>2.662898</td>\n",
       "      <td>23.564182</td>\n",
       "      <td>13.014409</td>\n",
       "      <td>37.082003</td>\n",
       "      <td>Sprinkler Irrigation</td>\n",
       "      <td>9434.989877</td>\n",
       "    </tr>\n",
       "    <tr>\n",
       "      <th>4</th>\n",
       "      <td>Jodhpur</td>\n",
       "      <td>Wheat</td>\n",
       "      <td>Kharif</td>\n",
       "      <td>16490.142459</td>\n",
       "      <td>30.691986</td>\n",
       "      <td>Chalky (Calcareous)</td>\n",
       "      <td>7.305740</td>\n",
       "      <td>2.095212</td>\n",
       "      <td>32.246094</td>\n",
       "      <td>17.450967</td>\n",
       "      <td>40.172205</td>\n",
       "      <td>Sprinkler Irrigation</td>\n",
       "      <td>10557.488279</td>\n",
       "    </tr>\n",
       "  </tbody>\n",
       "</table>\n",
       "</div>"
      ],
      "text/plain": [
       "  District   Crop  Season  Area (hectares)  Yield (quintals)  \\\n",
       "0  Jodhpur  Wheat  Kharif     16490.142459         30.691986   \n",
       "1  Jodhpur  Wheat  Kharif     16490.142459         30.691986   \n",
       "2  Jodhpur  Wheat  Kharif     16490.142459         30.691986   \n",
       "3  Jodhpur  Wheat  Kharif     16490.142459         30.691986   \n",
       "4  Jodhpur  Wheat  Kharif     16490.142459         30.691986   \n",
       "\n",
       "             Soil Type  pH Level  Organic Matter (%)  \\\n",
       "0                Sandy  7.453182            2.662898   \n",
       "1                Sandy  7.453182            2.662898   \n",
       "2                Sandy  7.453182            2.662898   \n",
       "3                Sandy  7.453182            2.662898   \n",
       "4  Chalky (Calcareous)  7.305740            2.095212   \n",
       "\n",
       "   Nitrogen Content (kg/ha)  Phosphorus Content (kg/ha)  \\\n",
       "0                 23.564182                   13.014409   \n",
       "1                 23.564182                   13.014409   \n",
       "2                 23.564182                   13.014409   \n",
       "3                 23.564182                   13.014409   \n",
       "4                 32.246094                   17.450967   \n",
       "\n",
       "   Potassium Content (kg/ha)     Irrigation Method  \\\n",
       "0                  37.082003  Sprinkler Irrigation   \n",
       "1                  37.082003  Sprinkler Irrigation   \n",
       "2                  37.082003       Drip Irrigation   \n",
       "3                  37.082003  Sprinkler Irrigation   \n",
       "4                  40.172205  Sprinkler Irrigation   \n",
       "\n",
       "   Water Availability (liters/hectare)  \n",
       "0                         10557.488279  \n",
       "1                         14448.126887  \n",
       "2                          8512.323275  \n",
       "3                          9434.989877  \n",
       "4                         10557.488279  "
      ]
     },
     "execution_count": 43,
     "metadata": {},
     "output_type": "execute_result"
    }
   ],
   "source": [
    "database = merge_water_soil_crop_production.copy()\n",
    "database = database.drop(columns = ['Production (metric tons)', 'Water Consumption (liters/hectare)'], axis = 1)\n",
    "database.head()"
   ]
  },
  {
   "cell_type": "code",
   "execution_count": 44,
   "id": "7c19b7c2-7427-4154-9160-82d102998ed4",
   "metadata": {},
   "outputs": [
    {
     "data": {
      "text/plain": [
       "0"
      ]
     },
     "execution_count": 44,
     "metadata": {},
     "output_type": "execute_result"
    }
   ],
   "source": [
    "database.duplicated().sum()"
   ]
  },
  {
   "cell_type": "code",
   "execution_count": 45,
   "id": "819331f0-0d59-47b9-9398-c5903321bef1",
   "metadata": {},
   "outputs": [],
   "source": [
    "database['Productivity'] = database['Yield (quintals)'] / database['Area (hectares)']\n",
    "database = database.drop(columns=['Yield (quintals)', 'Area (hectares)'])"
   ]
  },
  {
   "cell_type": "code",
   "execution_count": 46,
   "id": "36e08cb9-60e9-4b5a-a629-db636689cfe8",
   "metadata": {},
   "outputs": [],
   "source": [
    "X = database.drop(columns=['Nitrogen Content (kg/ha)', 'Phosphorus Content (kg/ha)', 'Potassium Content (kg/ha)'])\n",
    "y = database[['Nitrogen Content (kg/ha)', 'Phosphorus Content (kg/ha)', 'Potassium Content (kg/ha)']]"
   ]
  },
  {
   "cell_type": "code",
   "execution_count": 47,
   "id": "6214ce72-762f-4df5-bd39-645fb1eeda91",
   "metadata": {},
   "outputs": [
    {
     "data": {
      "text/html": [
       "<div>\n",
       "<style scoped>\n",
       "    .dataframe tbody tr th:only-of-type {\n",
       "        vertical-align: middle;\n",
       "    }\n",
       "\n",
       "    .dataframe tbody tr th {\n",
       "        vertical-align: top;\n",
       "    }\n",
       "\n",
       "    .dataframe thead th {\n",
       "        text-align: right;\n",
       "    }\n",
       "</style>\n",
       "<table border=\"1\" class=\"dataframe\">\n",
       "  <thead>\n",
       "    <tr style=\"text-align: right;\">\n",
       "      <th></th>\n",
       "      <th>District</th>\n",
       "      <th>Crop</th>\n",
       "      <th>Season</th>\n",
       "      <th>Soil Type</th>\n",
       "      <th>pH Level</th>\n",
       "      <th>Organic Matter (%)</th>\n",
       "      <th>Nitrogen Content (kg/ha)</th>\n",
       "      <th>Phosphorus Content (kg/ha)</th>\n",
       "      <th>Potassium Content (kg/ha)</th>\n",
       "      <th>Irrigation Method</th>\n",
       "      <th>Water Availability (liters/hectare)</th>\n",
       "      <th>Productivity</th>\n",
       "    </tr>\n",
       "  </thead>\n",
       "  <tbody>\n",
       "    <tr>\n",
       "      <th>433575</th>\n",
       "      <td>Ajmer</td>\n",
       "      <td>Onion</td>\n",
       "      <td>Kharif</td>\n",
       "      <td>Chalky (Calcareous)</td>\n",
       "      <td>7.079614</td>\n",
       "      <td>2.110315</td>\n",
       "      <td>28.239561</td>\n",
       "      <td>21.623791</td>\n",
       "      <td>42.902838</td>\n",
       "      <td>Sprinkler Irrigation</td>\n",
       "      <td>14988.961769</td>\n",
       "      <td>0.002499</td>\n",
       "    </tr>\n",
       "    <tr>\n",
       "      <th>433576</th>\n",
       "      <td>Ajmer</td>\n",
       "      <td>Onion</td>\n",
       "      <td>Kharif</td>\n",
       "      <td>Chalky (Calcareous)</td>\n",
       "      <td>7.079614</td>\n",
       "      <td>2.110315</td>\n",
       "      <td>28.239561</td>\n",
       "      <td>21.623791</td>\n",
       "      <td>42.902838</td>\n",
       "      <td>Canal Irrigation</td>\n",
       "      <td>11633.677144</td>\n",
       "      <td>0.002499</td>\n",
       "    </tr>\n",
       "    <tr>\n",
       "      <th>433577</th>\n",
       "      <td>Ajmer</td>\n",
       "      <td>Onion</td>\n",
       "      <td>Kharif</td>\n",
       "      <td>Chalky (Calcareous)</td>\n",
       "      <td>7.079614</td>\n",
       "      <td>2.110315</td>\n",
       "      <td>28.239561</td>\n",
       "      <td>21.623791</td>\n",
       "      <td>42.902838</td>\n",
       "      <td>Sprinkler Irrigation</td>\n",
       "      <td>11165.941371</td>\n",
       "      <td>0.002499</td>\n",
       "    </tr>\n",
       "    <tr>\n",
       "      <th>433578</th>\n",
       "      <td>Ajmer</td>\n",
       "      <td>Onion</td>\n",
       "      <td>Kharif</td>\n",
       "      <td>Chalky (Calcareous)</td>\n",
       "      <td>7.079614</td>\n",
       "      <td>2.110315</td>\n",
       "      <td>28.239561</td>\n",
       "      <td>21.623791</td>\n",
       "      <td>42.902838</td>\n",
       "      <td>Tube Well</td>\n",
       "      <td>15357.754437</td>\n",
       "      <td>0.002499</td>\n",
       "    </tr>\n",
       "    <tr>\n",
       "      <th>433579</th>\n",
       "      <td>Ajmer</td>\n",
       "      <td>Onion</td>\n",
       "      <td>Kharif</td>\n",
       "      <td>Chalky (Calcareous)</td>\n",
       "      <td>7.079614</td>\n",
       "      <td>2.110315</td>\n",
       "      <td>28.239561</td>\n",
       "      <td>21.623791</td>\n",
       "      <td>42.902838</td>\n",
       "      <td>Drip Irrigation</td>\n",
       "      <td>11650.678989</td>\n",
       "      <td>0.002499</td>\n",
       "    </tr>\n",
       "  </tbody>\n",
       "</table>\n",
       "</div>"
      ],
      "text/plain": [
       "       District   Crop  Season            Soil Type  pH Level  \\\n",
       "433575    Ajmer  Onion  Kharif  Chalky (Calcareous)  7.079614   \n",
       "433576    Ajmer  Onion  Kharif  Chalky (Calcareous)  7.079614   \n",
       "433577    Ajmer  Onion  Kharif  Chalky (Calcareous)  7.079614   \n",
       "433578    Ajmer  Onion  Kharif  Chalky (Calcareous)  7.079614   \n",
       "433579    Ajmer  Onion  Kharif  Chalky (Calcareous)  7.079614   \n",
       "\n",
       "        Organic Matter (%)  Nitrogen Content (kg/ha)  \\\n",
       "433575            2.110315                 28.239561   \n",
       "433576            2.110315                 28.239561   \n",
       "433577            2.110315                 28.239561   \n",
       "433578            2.110315                 28.239561   \n",
       "433579            2.110315                 28.239561   \n",
       "\n",
       "        Phosphorus Content (kg/ha)  Potassium Content (kg/ha)  \\\n",
       "433575                   21.623791                  42.902838   \n",
       "433576                   21.623791                  42.902838   \n",
       "433577                   21.623791                  42.902838   \n",
       "433578                   21.623791                  42.902838   \n",
       "433579                   21.623791                  42.902838   \n",
       "\n",
       "           Irrigation Method  Water Availability (liters/hectare)  \\\n",
       "433575  Sprinkler Irrigation                         14988.961769   \n",
       "433576      Canal Irrigation                         11633.677144   \n",
       "433577  Sprinkler Irrigation                         11165.941371   \n",
       "433578             Tube Well                         15357.754437   \n",
       "433579       Drip Irrigation                         11650.678989   \n",
       "\n",
       "        Productivity  \n",
       "433575      0.002499  \n",
       "433576      0.002499  \n",
       "433577      0.002499  \n",
       "433578      0.002499  \n",
       "433579      0.002499  "
      ]
     },
     "execution_count": 47,
     "metadata": {},
     "output_type": "execute_result"
    }
   ],
   "source": [
    "database.tail()"
   ]
  },
  {
   "cell_type": "code",
   "execution_count": 48,
   "id": "3828b2cf-ab8b-4e00-9da6-a8e085a48195",
   "metadata": {},
   "outputs": [],
   "source": [
    "encoder = OneHotEncoder()\n",
    "X_encoded = encoder.fit_transform(X[['District', 'Crop', 'Season', 'Soil Type', 'Irrigation Method']])\n",
    "feature_names = encoder.get_feature_names_out(['District', 'Crop', 'Season', 'Soil Type', 'Irrigation Method'])\n",
    "X_categorical = pd.DataFrame(X_encoded.toarray(), columns=feature_names)\n",
    "X_numeric = X.drop(columns=['District', 'Crop', 'Season', 'Soil Type', 'Irrigation Method'])"
   ]
  },
  {
   "cell_type": "code",
   "execution_count": 51,
   "id": "28c607a7-881a-4983-9dd8-287d0ef7fbb4",
   "metadata": {},
   "outputs": [
    {
     "data": {
      "text/plain": [
       "['scaler.pkl']"
      ]
     },
     "execution_count": 51,
     "metadata": {},
     "output_type": "execute_result"
    }
   ],
   "source": [
    "X_processed = pd.concat([X_categorical, X_numeric], axis=1)\n",
    "X_processed.tail()\n",
    "joblib.dump(scaler, 'scaler.pkl')"
   ]
  },
  {
   "cell_type": "code",
   "execution_count": 52,
   "id": "85f6e974-ca38-4409-9b81-3b38e91ade27",
   "metadata": {},
   "outputs": [],
   "source": [
    "X_train_val, X_test, y_train_val, y_test = train_test_split(X_processed, y, test_size=0.2, random_state=42)"
   ]
  },
  {
   "cell_type": "code",
   "execution_count": 53,
   "id": "b87bd719-7832-4d7e-b3cc-780ce4225e58",
   "metadata": {},
   "outputs": [
    {
     "name": "stdout",
     "output_type": "stream",
     "text": [
      "X_train_val_scaled: (346864, 51)\n",
      "X_test_scaled: (86716, 51)\n"
     ]
    }
   ],
   "source": [
    "scaler = StandardScaler()\n",
    "X_train_val_scaled = scaler.fit_transform(X_train_val)\n",
    "X_test_scaled = scaler.transform(X_test)\n",
    "\n",
    "print(\"X_train_val_scaled:\", X_train_val_scaled.shape)\n",
    "print(\"X_test_scaled:\", X_test_scaled.shape)"
   ]
  },
  {
   "cell_type": "code",
   "execution_count": 17,
   "id": "91ad6a4a-492c-425f-bbef-33b19744b460",
   "metadata": {},
   "outputs": [],
   "source": [
    "model = Sequential([\n",
    "    Dense(64, activation='relu', input_shape=(X_train_val.shape[1],)),\n",
    "    Dense(64, activation='relu'),\n",
    "    Dense(3)  # Output layer with 3 nodes for predicting N, P, and K levels\n",
    "])"
   ]
  },
  {
   "cell_type": "code",
   "execution_count": 18,
   "id": "ef5cc507-5bbd-469d-873d-1c8a7e90c012",
   "metadata": {},
   "outputs": [],
   "source": [
    "model.compile(optimizer='adam', loss='mse')"
   ]
  },
  {
   "cell_type": "code",
   "execution_count": 19,
   "id": "f781ce57-3059-4742-ba76-0d0d82228fee",
   "metadata": {},
   "outputs": [
    {
     "name": "stdout",
     "output_type": "stream",
     "text": [
      "Epoch 1/20\n",
      "8672/8672 [==============================] - 30s 3ms/step - loss: 31.2495 - val_loss: 23.9744\n",
      "Epoch 2/20\n",
      "8672/8672 [==============================] - 29s 3ms/step - loss: 22.6858 - val_loss: 20.9945\n",
      "Epoch 3/20\n",
      "8672/8672 [==============================] - 30s 3ms/step - loss: 19.0310 - val_loss: 17.3926\n",
      "Epoch 4/20\n",
      "8672/8672 [==============================] - 29s 3ms/step - loss: 15.4945 - val_loss: 14.0460\n",
      "Epoch 5/20\n",
      "8672/8672 [==============================] - 30s 3ms/step - loss: 12.9395 - val_loss: 11.8238\n",
      "Epoch 6/20\n",
      "8672/8672 [==============================] - 29s 3ms/step - loss: 11.0279 - val_loss: 10.1963\n",
      "Epoch 7/20\n",
      "8672/8672 [==============================] - 30s 3ms/step - loss: 9.6848 - val_loss: 9.6843\n",
      "Epoch 8/20\n",
      "8672/8672 [==============================] - 30s 3ms/step - loss: 8.7077 - val_loss: 8.1929\n",
      "Epoch 9/20\n",
      "8672/8672 [==============================] - 30s 3ms/step - loss: 7.9533 - val_loss: 7.6570\n",
      "Epoch 10/20\n",
      "8672/8672 [==============================] - 30s 3ms/step - loss: 7.3658 - val_loss: 7.1120\n",
      "Epoch 11/20\n",
      "8672/8672 [==============================] - 30s 3ms/step - loss: 6.8968 - val_loss: 6.7025\n",
      "Epoch 12/20\n",
      "8672/8672 [==============================] - 30s 3ms/step - loss: 6.4671 - val_loss: 6.3001\n",
      "Epoch 13/20\n",
      "8672/8672 [==============================] - 30s 3ms/step - loss: 6.0688 - val_loss: 6.0583\n",
      "Epoch 14/20\n",
      "8672/8672 [==============================] - 30s 3ms/step - loss: 5.6944 - val_loss: 5.7333\n",
      "Epoch 15/20\n",
      "8672/8672 [==============================] - 30s 3ms/step - loss: 5.3710 - val_loss: 5.4964\n",
      "Epoch 16/20\n",
      "8672/8672 [==============================] - 31s 4ms/step - loss: 5.0553 - val_loss: 5.2659\n",
      "Epoch 17/20\n",
      "8672/8672 [==============================] - 30s 3ms/step - loss: 4.7938 - val_loss: 4.8222\n",
      "Epoch 18/20\n",
      "8672/8672 [==============================] - 30s 3ms/step - loss: 4.5627 - val_loss: 4.4783\n",
      "Epoch 19/20\n",
      "8672/8672 [==============================] - 30s 3ms/step - loss: 4.3469 - val_loss: 4.2393\n",
      "Epoch 20/20\n",
      "8672/8672 [==============================] - 30s 3ms/step - loss: 4.1772 - val_loss: 4.1340\n"
     ]
    }
   ],
   "source": [
    "history = model.fit(X_train_val_scaled, y_train_val, epochs=20, batch_size=32, validation_split=0.2, verbose=1)"
   ]
  },
  {
   "cell_type": "code",
   "execution_count": 20,
   "id": "5800ab59-b9c3-4282-86dc-7d36499c314e",
   "metadata": {},
   "outputs": [
    {
     "name": "stdout",
     "output_type": "stream",
     "text": [
      "2710/2710 [==============================] - 7s 2ms/step\n"
     ]
    }
   ],
   "source": [
    "mse = model.evaluate(X_test_scaled, y_test, verbose=0)\n",
    "predictions = model.predict(X_test_scaled)\n",
    "r2_test = r2_score(y_test, predictions)"
   ]
  },
  {
   "cell_type": "code",
   "execution_count": 21,
   "id": "e7f7fd29-2213-4233-9a8b-a2076160aa65",
   "metadata": {},
   "outputs": [
    {
     "name": "stdout",
     "output_type": "stream",
     "text": [
      "Mean Square Error: 4.1261\n",
      "Root Mean Square Error: 2.0313\n",
      "R2 Score: 0.8383\n"
     ]
    }
   ],
   "source": [
    "print(f\"Mean Square Error: {mse:.4f}\")\n",
    "print(f\"Root Mean Square Error: {np.sqrt(mse):.4f}\")\n",
    "print(f\"R2 Score: {r2_test:.4f}\")"
   ]
  },
  {
   "cell_type": "code",
   "execution_count": 22,
   "id": "78db0f2f-1690-4767-adab-79e5d37fc2ab",
   "metadata": {},
   "outputs": [
    {
     "data": {
      "image/png": "[encoded data removed]",
      "text/plain": [
       "<Figure size 800x600 with 1 Axes>"
      ]
     },
     "metadata": {},
     "output_type": "display_data"
    }
   ],
   "source": [
    "plt.figure(figsize=(8, 6))\n",
    "plt.scatter(y_test, predictions, alpha=0.5)\n",
    "plt.plot(y_test, y_test, color='red', label='Ideal Predictions')\n",
    "plt.title('Actual vs. Predicted Nutrient Levels')\n",
    "plt.xlabel('Actual Nutrient Levels')\n",
    "plt.ylabel('Predicted Nutrient Levels')\n",
    "plt.legend()\n",
    "plt.grid(True)\n",
    "plt.show()"
   ]
  },
  {
   "cell_type": "code",
   "execution_count": 23,
   "id": "98da82c0-0fe3-4d4d-b493-397b1a57b8fe",
   "metadata": {},
   "outputs": [],
   "source": [
    "model.save('Rmodel.h5')  # Save the entire model"
   ]
  },
  {
   "cell_type": "code",
   "execution_count": null,
   "id": "2c775ee6-b7f9-4661-8440-37a7c4721493",
   "metadata": {},
   "outputs": [],
   "source": []
  }
 ],
 "metadata": {
  "kernelspec": {
   "display_name": "Python 3 (ipykernel)",
   "language": "python",
   "name": "python3"
  },
  "language_info": {
   "codemirror_mode": {
    "name": "ipython",
    "version": 3
   },
   "file_extension": ".py",
   "mimetype": "text/x-python",
   "name": "python",
   "nbconvert_exporter": "python",
   "pygments_lexer": "ipython3",
   "version": "3.10.13"
  }
 },
 "nbformat": 4,
 "nbformat_minor": 5
}

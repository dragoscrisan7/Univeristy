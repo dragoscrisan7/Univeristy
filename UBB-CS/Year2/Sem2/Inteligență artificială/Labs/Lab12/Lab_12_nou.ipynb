{
 "cells": [
  {
   "cell_type": "markdown",
   "metadata": {},
   "source": [
    "## Lab. 12\n",
    "\n",
    "### Solve the following problem using Genetic Algorithms:\n",
    "\n",
    "\n",
    "Problem: Weighted N-Queen Problem\n",
    "\n",
    "\n",
    "You are given an N×N chessboard, and each cell of the board has an associated weight. Your task is to find a valid placement of N queens such that the total weight of the queens is maximized, and no two queens threaten each other.\n",
    "\n"
   ]
  },
  {
   "cell_type": "markdown",
   "metadata": {},
   "source": [
    "\n",
    "\n",
    "In the traditional N-Queen Problem, the goal is to place N queens on an N×N chessboard in such a way that no two queens threaten each other. In this variation, we introduce weights to the queens and aim to find a placement that maximizes the total weight of the queens while satisfying the constraint of non-threatening positions.\n",
    "\n",
    "\n",
    "Constraints:\n",
    "\n",
    "1. There should be exactly one queen in each row and each column.\n",
    "2. No two queens should be placed in the same diagonal, i.e., they should not threaten each other.\n",
    "3. The placement should maximize the total weight of the queens.\n",
    "\n",
    "\n",
    "Representation:\n",
    "\n",
    "Use a permutation-based representation. Each permutation represents the column position of the queen for each row. \n",
    "\n",
    "For example, if N=4, a valid permutation [2, 4, 1, 3] indicates that the queen in the first row is placed in column 2, the queen in the second row is placed in column 4, and so on.\n",
    "\n",
    "\n",
    "Genetic Algorithm Steps:\n",
    "\n",
    "1. *Initialization*: Generate an initial population of permutations randomly.\n",
    "\n",
    "2. *Fitness Evaluation*: Evaluate the fitness of each permutation by calculating the total weight of the queens while considering the non-threatening positions.\n",
    "\n",
    "3. *Selection*: Select a subset of permutations from the population based on their fitness, using selection techniques like tournament selection or roulette wheel selection.\n",
    "\n",
    "4. *Crossover*: Perform crossover (recombination) on the selected permutations to create new offspring permutations.\n",
    "\n",
    "5. *Mutation*: Introduce random changes (mutations) in the offspring permutations to maintain diversity in the population.\n",
    "\n",
    "6. *Fitness Evaluation for the new individuals*: Evaluate the fitness of the new population.\n",
    "\n",
    "7. *Form the new population*: Select the surviving individuals based on scores, with chances direct proportional with their performance.\n",
    "\n",
    "8. Repeat steps 3-7 for a certain number of generations or until a termination condition is met (e.g., a maximum number of iterations or a satisfactory solution is found).\n",
    "\n",
    "\n",
    "9. *Termination*: Return the best-performing individual (permutation) found as the solution to the problem.\n",
    "\n",
    "Note: The fitness function used in this problem should calculate the total weight of the queens based on the positions specified by the permutation. Additionally, the fitness function should penalize solutions that violate the non-threatening constraint by assigning a lower fitness score to such permutations."
   ]
  },
  {
   "cell_type": "code",
   "execution_count": 14,
   "metadata": {},
   "outputs": [
    {
     "name": "stdout",
     "output_type": "stream",
     "text": [
      "[[0, 3, 1, 2], [1, 0, 2, 3], [3, 0, 2, 1], [1, 0, 2, 3], [3, 0, 1, 2], [0, 3, 1, 2], [2, 0, 3, 1], [0, 3, 1, 2], [2, 1, 3, 0], [3, 2, 0, 1]]\n"
     ]
    }
   ],
   "source": [
    "import random\n",
    "\n",
    "random.seed(42)\n",
    "\n",
    "# Function to initialize the population\n",
    "def initialize_population(population_size, n):\n",
    "    population = []\n",
    "    for _ in range(population_size):\n",
    "        permutation = random.sample(range(0, n), n)\n",
    "        population.append(permutation)\n",
    "    return population\n",
    "\n",
    "population_size = 10\n",
    "chromosome_length = 4\n",
    "population = initialize_population(population_size, chromosome_length)\n",
    "print(population)"
   ]
  },
  {
   "cell_type": "code",
   "execution_count": 15,
   "metadata": {},
   "outputs": [
    {
     "name": "stdout",
     "output_type": "stream",
     "text": [
      "Individual: [0, 3, 1, 2]\n",
      "Fitness: 9\n",
      "\n",
      "Individual: [1, 0, 2, 3]\n",
      "Fitness: 6\n",
      "\n",
      "Individual: [3, 0, 2, 1]\n",
      "Fitness: 11\n",
      "\n",
      "Individual: [1, 0, 2, 3]\n",
      "Fitness: 6\n",
      "\n",
      "Individual: [3, 0, 1, 2]\n",
      "Fitness: 6\n",
      "\n",
      "Individual: [0, 3, 1, 2]\n",
      "Fitness: 9\n",
      "\n",
      "Individual: [2, 0, 3, 1]\n",
      "Fitness: 17\n",
      "\n",
      "Individual: [0, 3, 1, 2]\n",
      "Fitness: 9\n",
      "\n",
      "Individual: [2, 1, 3, 0]\n",
      "Fitness: 15\n",
      "\n",
      "Individual: [3, 2, 0, 1]\n",
      "Fitness: 14\n",
      "\n"
     ]
    }
   ],
   "source": [
    "# Function to evaluate the fitness of a permutation\n",
    "def evaluate_fitness(permutation, weights):\n",
    "    n = len(permutation)\n",
    "    total_weight = 0\n",
    "\n",
    "    for i in range(n):\n",
    "        for j in range(i + 1, n):\n",
    "            if abs(permutation[j] - permutation[i]) != abs(j - i):\n",
    "                total_weight += weights[permutation[i] - 1]\n",
    "    \n",
    "    return total_weight\n",
    "\n",
    "weights = [2, 4, 3, 1]\n",
    "for individual in population:\n",
    "    fitness = evaluate_fitness(individual, weights)\n",
    "    print(\"Individual:\", individual)\n",
    "    print(\"Fitness:\", fitness)\n",
    "    print()"
   ]
  },
  {
   "cell_type": "code",
   "execution_count": 16,
   "metadata": {},
   "outputs": [],
   "source": [
    "# Function to perform crossover\n",
    "def crossover2(parent1, parent2):\n",
    "    n = len(parent1)\n",
    "    crossover_point = random.randint(1, n - 1)\n",
    "    child1 = parent1[:crossover_point] + parent2[crossover_point:]\n",
    "    child2 = parent2[:crossover_point] + parent1[crossover_point:]\n",
    "    return child1, child2\n",
    "\n",
    "def crossover(parent1, parent2):\n",
    "    n = len(parent1)\n",
    "    offspring1 = [-1 for _ in range(n)]\n",
    "    offspring2 = [-1 for _ in range(n)]\n",
    "\n",
    "    st = random.randint(0, n - 1)\n",
    "    dr = random.randint(0, n - 1)\n",
    "\n",
    "    if st > dr:\n",
    "        st, dr = dr, st\n",
    "\n",
    "    for i in range(st, dr + 1):\n",
    "        offspring1[i] = parent1[i]\n",
    "        offspring2[i] = parent2[i]\n",
    "\n",
    "    i = 0\n",
    "    j = 0\n",
    "    while i < n:\n",
    "        while i < n and offspring1[i] != -1:\n",
    "            i += 1\n",
    "\n",
    "        if i >= n:\n",
    "            break\n",
    "\n",
    "        while parent2[j] in offspring1:\n",
    "            j += 1\n",
    "\n",
    "        offspring1[i] = parent2[j]\n",
    "\n",
    "    i = 0\n",
    "    j = 0\n",
    "    while i < n:\n",
    "        while i < n and offspring2[i] != -1:\n",
    "            i += 1\n",
    "\n",
    "        if i >= n:\n",
    "            break\n",
    "\n",
    "        while parent1[j] in offspring2:\n",
    "            j += 1\n",
    "\n",
    "        offspring2[i] = parent1[j]\n",
    "\n",
    "    return offspring1, offspring2"
   ]
  },
  {
   "cell_type": "code",
   "execution_count": 17,
   "metadata": {},
   "outputs": [],
   "source": [
    "# Function to perform mutation\n",
    "def mutate(permutation, mutation_rate):\n",
    "    n = len(permutation)\n",
    "    for i in range(n):\n",
    "        if random.random() < mutation_rate:\n",
    "            j = random.randint(0, n - 1)\n",
    "            permutation[i], permutation[j] = permutation[j], permutation[i]\n",
    "    return permutation\n"
   ]
  },
  {
   "cell_type": "code",
   "execution_count": 18,
   "metadata": {},
   "outputs": [],
   "source": [
    "# Function to select parents based on fitness using tournament selection\n",
    "def select_parents(population, weights, tournament_size):\n",
    "    selected_parents = []\n",
    "    for _ in range(2):\n",
    "        tournament = random.sample(population, min(tournament_size, len(population)))\n",
    "        selected_parents.append(max(tournament, key=lambda x: evaluate_fitness(x, weights)))\n",
    "    return selected_parents\n"
   ]
  },
  {
   "cell_type": "code",
   "execution_count": 19,
   "metadata": {},
   "outputs": [
    {
     "name": "stdout",
     "output_type": "stream",
     "text": [
      "Best Individual (Column Positions): [4, 7, 0, 6, 3, 5, 1, 2]\n",
      "Total Weight: 144\n"
     ]
    }
   ],
   "source": [
    "# Genetic Algorithm function for the Weighted N-Queen Problem\n",
    "def weighted_n_queen_genetic_algorithm(n, population_size, generations, mutation_rate, tournament_size, weights):\n",
    "    # Initialize the population\n",
    "    population = initialize_population(population_size, n)\n",
    "\n",
    "    for _ in range(generations):\n",
    "        # Selection\n",
    "        parents = select_parents(population, weights, tournament_size)\n",
    "\n",
    "        # Crossover\n",
    "        offspring = crossover(parents[0], parents[1])\n",
    "\n",
    "        # Mutation\n",
    "        mutated_offspring = [mutate(child, mutation_rate) for child in offspring]\n",
    "\n",
    "        # Replace the population with the new generation\n",
    "        population = mutated_offspring\n",
    "    \n",
    "    # Find the best individual from the final population\n",
    "    best_individual = max(population, key=lambda x: evaluate_fitness(x, weights))\n",
    "    \n",
    "    return best_individual\n",
    "\n",
    "n = 8  # Board size\n",
    "population_size = 100\n",
    "generations = 500\n",
    "mutation_rate = 0.1\n",
    "tournament_size = 5\n",
    "weights = [1, 2, 3, 4, 5, 6, 7, 8]  # Example weights for the queens\n",
    "\n",
    "best_individual = weighted_n_queen_genetic_algorithm(n, population_size, generations, mutation_rate, tournament_size, weights)\n",
    "print(\"Best Individual (Column Positions):\", best_individual)\n",
    "print(\"Total Weight:\", evaluate_fitness(best_individual, weights))"
   ]
  },
  {
   "cell_type": "code",
   "execution_count": null,
   "metadata": {},
   "outputs": [],
   "source": []
  }
 ],
 "metadata": {
  "kernel_info": {
   "name": "python"
  },
  "kernelspec": {
   "display_name": "Python 3 (ipykernel)",
   "language": "python",
   "name": "python3"
  },
  "language_info": {
   "codemirror_mode": {
    "name": "ipython",
    "version": 3
   },
   "file_extension": ".py",
   "mimetype": "text/x-python",
   "name": "python",
   "nbconvert_exporter": "python",
   "pygments_lexer": "ipython3",
   "version": "3.9.13"
  },
  "nteract": {
   "version": "nteract-front-end@1.0.0"
  }
 },
 "nbformat": 4,
 "nbformat_minor": 2
}

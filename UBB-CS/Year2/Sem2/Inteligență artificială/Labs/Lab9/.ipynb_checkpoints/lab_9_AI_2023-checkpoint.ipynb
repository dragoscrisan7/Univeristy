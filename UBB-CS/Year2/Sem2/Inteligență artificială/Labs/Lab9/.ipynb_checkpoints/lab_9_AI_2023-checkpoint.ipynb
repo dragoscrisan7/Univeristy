{
 "cells": [
  {
   "cell_type": "markdown",
   "id": "f61c3098",
   "metadata": {},
   "source": [
    "# Search spaces\n",
    "\n",
    "For meany problems the search space can be represented as a tree, where each node represents a state or a partial solution of the problem, and each edge represents a possible transition from one state to another.\n",
    "\n",
    "So one form for this tree is when the root of the tree represents the initial state of the problem, and the leaves of the tree represent the final or goal states. The idea is to traverse the tree in a systematic way to explore all possible solutions until a goal state is reached.\n",
    "\n",
    "The tree is constructed by applying all possible actions from the current state to generate the next set of possible states. Each possible state becomes a child node of the current state in the tree. This process continues until a goal state is reached or until the search reaches a dead-end.\n",
    "\n",
    "One advantage of organizing the search space as a tree is that it allows for **systematic exploration** of the search space. This means that the search can be optimized to explore the most promising branches first, which can reduce the overall search time. Additionally, the tree structure allows for efficient pruning of unproductive branches, which further reduces the search space and improves the search time.\n",
    "\n",
    "Some examples of problems where the search space can be organized as a tree include pathfinding problems, puzzle solving problems, and game playing problems.\n",
    "\n",
    "### Examples:\n",
    "\n",
    "1. Compute the Fibonacci sequence --  a sequence in which each number is the sum of the two preceding ones.\n",
    "\n",
    "$f(0) = 0$\n",
    "\n",
    "$f(1) = 1$\n",
    "\n",
    "$f(n) = f(n-1) + f(n-2)$\n",
    "\n",
    "\n",
    "*Example:* \n",
    "\n",
    "$f(5) = f(4)+f(3)$ \n",
    "\n",
    "...\n",
    "\n",
    "**the search tree for fibonacci**"
   ]
  },
  {
   "cell_type": "code",
   "execution_count": 11,
   "id": "f797d7bc",
   "metadata": {},
   "outputs": [
    {
     "name": "stdout",
     "output_type": "stream",
     "text": [
      "f(5)\n",
      "├── f(3)\n",
      "│   ├── f(1)=1\n",
      "│   └── f(2)\n",
      "│       ├── f(0)=0\n",
      "│       └── f(1)=1\n",
      "└── f(4)\n",
      "    ├── f(2)\n",
      "    │   ├── f(0)=0\n",
      "    │   └── f(1)=1\n",
      "    └── f(3)\n",
      "        ├── f(1)=1\n",
      "        └── f(2)\n",
      "            ├── f(0)=0\n",
      "            └── f(1)=1\n",
      "\n"
     ]
    }
   ],
   "source": [
    " from treelib import Node, Tree\n",
    "\n",
    " tree = Tree()\n",
    "\n",
    " tree.create_node(\"f(5)\", \"0\")  # No parent means its the root node\n",
    " tree.create_node(\"f(4)\",  \"0_0\"   , parent=\"0\")\n",
    " tree.create_node(\"f(3)\",  \"0_1\"   , parent=\"0\")\n",
    " tree.create_node(\"f(3)\",  \"0_0_0\"  , parent=\"0_0\")\n",
    " tree.create_node(\"f(2)\",  \"0_0_1\"   , parent=\"0_0\")\n",
    " tree.create_node(\"f(2)\",  \"0_1_0\"   , parent=\"0_1\")\n",
    " tree.create_node(\"f(1)=1\",  \"0_1_1\"   , parent=\"0_1\")\n",
    " tree.create_node(\"f(2)\",  \"0_0_0_0\"   , parent=\"0_0_0\")\n",
    " tree.create_node(\"f(1)=1\",  \"0_0_0_1\"   , parent=\"0_0_0\")\n",
    " tree.create_node(\"f(1)=1\",  \"0_0_1_0\"   , parent=\"0_0_1\")\n",
    " tree.create_node(\"f(0)=0\",  \"0_0_1_1\"   , parent=\"0_0_1\")\n",
    " tree.create_node(\"f(1)=1\",  \"0_1_0_0\"   , parent=\"0_1_0\")\n",
    " tree.create_node(\"f(0)=0\",  \"0_1_0_1\"   , parent=\"0_1_0\")\n",
    " tree.create_node(\"f(1)=1\",  \"0_0_0_0_0\"   , parent=\"0_0_0_0\")\n",
    " tree.create_node(\"f(0)=0\",  \"0_0_0_0_1\"   , parent=\"0_0_0_0\")\n",
    " \n",
    "\n",
    " tree.show()"
   ]
  },
  {
   "cell_type": "markdown",
   "id": "60e27513",
   "metadata": {},
   "source": [
    "Observe that large sub-trees are repeating so it makes no sense to compute twice the same part. Usually such behavior is typical for dynamic programming.\n",
    "\n",
    "2. For the $n-queen$ problem\n",
    "\n",
    "There are several ways to do it but the trees will have different sizes.\n",
    "\n",
    "I. A node will contain a board. In the root we have the empty board. For each child we add a queen on the table on an empty position. \n",
    "\n",
    "This tree has a huge number of nodes.\n",
    "\n",
    "II. A node will be a sequence of maxim $n$ numbers. In the root the sequence will be empty. Each child is formed by adding a number form 1 to n to the sequence from the parent, representing the column of the new placed queen. The tree will have n+1 levels (with the root level).\n",
    "\n",
    "III. Each node is a possible solution represented by a permutation. In the root we have the identical permutation. Each child is formed from the parent by switching the values from two positions in such a way that always we always switch a ordered values (a smaller one with a bigger one).\n",
    "\n",
    "This tree has $n!$ nodes.\n",
    "\n",
    "For $n=3$ we have the following tree:"
   ]
  },
  {
   "cell_type": "code",
   "execution_count": 13,
   "id": "ac83f058",
   "metadata": {},
   "outputs": [
    {
     "name": "stdout",
     "output_type": "stream",
     "text": [
      "(1,2,3)\n",
      "├── (1,3,2)\n",
      "│   └── (3,1,2)\n",
      "├── (2,1,3)\n",
      "│   └── (2,3,1)\n",
      "└── (3,2,1)\n",
      "\n"
     ]
    }
   ],
   "source": [
    "tree = Tree()\n",
    "\n",
    "tree.create_node(\"(1,2,3)\", \"0\")  # No parent means its the root node\n",
    "tree.create_node(\"(2,1,3)\",  \"0_0\"   , parent=\"0\")\n",
    "tree.create_node(\"(3,2,1)\",  \"0_1\"   , parent=\"0\")\n",
    "tree.create_node(\"(1,3,2)\",  \"0_2\"   , parent=\"0\")\n",
    "tree.create_node(\"(2,3,1)\",  \"0_0_0\"   , parent=\"0_0\")\n",
    "tree.create_node(\"(3,1,2)\",  \"0_2_0\"   , parent=\"0_2\")\n",
    " \n",
    "tree.show()"
   ]
  },
  {
   "cell_type": "markdown",
   "id": "878f8749",
   "metadata": {},
   "source": [
    "\n",
    "## Exercise 1:\n",
    "\n",
    "**Consider the following classic problem:**\n",
    "\n",
    "Given the dimension of a sequence of matrices in an array $M[]$, where the dimension of the ith matrix is ($M[i-1] \\times M[i]$), the task is to find the most efficient way to multiply these matrices together such that the total number of element multiplications is minimum.\n",
    "\n",
    "**Examples:**\n",
    "____________________________\n",
    "\n",
    "Input: $M = [40, 20, 30, 10, 30]$\n",
    "\n",
    "Output: $26000$\n",
    "\n",
    "Explanation: There are 4 matrices of dimensions $40 \\times 20$, $20 \\times 30$, $30\\times 10$, $10 \\times 30$.\n",
    "\n",
    "Let the input 4 matrices be A, B, C and D.\n",
    "\n",
    "The minimum number of multiplications are obtained by putting parenthesis in following way $(A\\times (B\\times C)) \\times D$.\n",
    "\n",
    "The minimum is $20*30*10 + 40*20*10 + 40*10*30$\n",
    "\n",
    "___________________________\n",
    "\n",
    "Input: $M = [1, 2, 3, 4, 3]$\n",
    "\n",
    "Output: $30$\n",
    "\n",
    "Explanation: There are 4 matrices of dimensions $1 \\times 2$, $2 \\times 3$, $3 \\times 4$, $4 \\times 3$. \n",
    "\n",
    "Let the input 4 matrices be A, B, C and D.  \n",
    "\n",
    "The minimum number of multiplications are obtained by putting parenthesis in following way $((A \\times B) \\times C) \\times D$.\n",
    "\n",
    "The minimum number is $1*2*3 + 1*3*4 + 1*4*3 = 30$\n",
    "___________________________________\n",
    "\n",
    "**Task:**\n",
    "\n",
    "Justify the use of dynamic programing for this problem.\n",
    "\n",
    "*Hints:* write a proper search tree for this problem; this problem is very similar with the generation of Fibonacci numbers; justify the memorization according to the particularities of the search tree.  \n",
    "\n",
    "## Exercise 2.\n",
    "\n",
    "Describe the search tree for the travel salesman problem in 2 ways - one with nodes containing possible partial solutions and one with full possible solutions. "
   ]
  },
  {
   "cell_type": "markdown",
   "id": "a3cf3908",
   "metadata": {},
   "source": [
    "Exercise 1"
   ]
  },
  {
   "cell_type": "raw",
   "id": "b62bfe90",
   "metadata": {},
   "source": [
    "The matrix chain multiplication problem can be solved using dynamic programming. The goal is to find the minimum number of multiplications required to multiply a chain of matrices together.\n",
    "\n",
    "To solve this problem using dynamic programming, we can break it down into subproblems. We can define a table to store the minimum number of multiplications required to multiply a chain of matrices from i to j. We can then build up the solution for larger chains of matrices by solving smaller subproblems and storing the results in the table so that we avoid repeating calculations"
   ]
  },
  {
   "cell_type": "code",
   "execution_count": 2,
   "id": "76058d2c",
   "metadata": {},
   "outputs": [
    {
     "name": "stdout",
     "output_type": "stream",
     "text": [
      "26000\n",
      "30\n"
     ]
    }
   ],
   "source": [
    "def matrix_multiplication(M):\n",
    "    n = len(M) - 1\n",
    "    dp = [[0 for i in range(n)] for j in range(n)]\n",
    "    # dp[i][j] represents the minimum number of scalar multiplications\n",
    "    # needed to compute the product of matrices from i to j\n",
    "\n",
    "    # fill the diagonal with 0s since it represents multiplication of only one matrix\n",
    "    for i in range(n):\n",
    "        dp[i][i] = 0\n",
    "\n",
    "    # fill the table diagonally\n",
    "    for diagonal in range(1, n):\n",
    "        for i in range(n-diagonal):\n",
    "            j = i + diagonal\n",
    "            dp[i][j] = float('inf')\n",
    "            for k in range(i, j):\n",
    "                cost = dp[i][k] + dp[k+1][j] + M[i]*M[k+1]*M[j+1]\n",
    "                dp[i][j] = min(dp[i][j], cost)\n",
    "\n",
    "    return dp[0][n-1]\n",
    "\n",
    "M = [40,20,30,10,30]\n",
    "print(matrix_multiplication(M))\n",
    "M = [1,2,3,4,3]\n",
    "print(matrix_multiplication(M))"
   ]
  },
  {
   "cell_type": "raw",
   "id": "55ccb1f8",
   "metadata": {},
   "source": [
    "How the algorithm works:\n",
    "\n",
    "Create a nxn table to store the minimum number of multiplications required to multiply a chain of matrices from i to j, where n is the nr of matrices\n",
    "\n",
    "Iterate over different chain lengths and use the calculations already made in order to not repeat calculations and work efficiently.\n",
    "\n",
    "For each starting index i and ending index j, try different partition points k between i and j. Compute the number of multiplications required to multiply matrices from i to k and matrices from k+1 to j, and add this to the number of multiplications required to multiply the resulting matrices. Choose the partition point k that minimizes the total number of multiplications required.\n",
    "\n",
    "Update the table entry for dp[i][j] with the minimum number of multiplications required to multiply matrices from i to j.\n",
    "This way the updated minimum number of multiplications will be used for further calculations and will be accurate.\n",
    "\n",
    "Once all subproblems have been solved, on the position dp[0][n-1] we have the result."
   ]
  },
  {
   "cell_type": "markdown",
   "id": "69184757",
   "metadata": {},
   "source": [
    "Exercise 2"
   ]
  },
  {
   "cell_type": "raw",
   "id": "b5009205",
   "metadata": {},
   "source": [
    "The Traveling Salesman Problem is the following: given a list of cities and the distances between them, what is the shortest possible route that visits each city exactly once and returns to the starting city?"
   ]
  },
  {
   "cell_type": "raw",
   "id": "6739398f",
   "metadata": {},
   "source": [
    "The first approach, using nodes starts from the root where we havent visited anything yet and adds new nodes for all posibilities. Each node represents a partial solution. Then these nodes get ramificated into more posibilities and so on. FOr example, with 4 cities named A, B, C and D we would have the following tree:\n",
    "                {}\n",
    "        /   /   |   \\\n",
    "       A    B   C    D\n",
    "     /|\\   /|\\  /|\\  /|\\\n",
    "    B C D C A B D A C B A\n",
    "after we visited A we can see that we have 3 options, the other 3 cities we havent visited yet. And every branch coming from root to leaf represents a possible solution of going through the cities."
   ]
  },
  {
   "cell_type": "raw",
   "id": "c72bca4c",
   "metadata": {},
   "source": [
    "The second approach, using full possible solutions, starts from a node and at each level of the tree we choose one of the remaining cities. Each node represents a full solution. An example would be:\n",
    "                A\n",
    "        /   /   |   \\\n",
    "       B    C   D    B\n",
    "     /|\\   /|\\  /|\\  /|\\\n",
    "    C D B D A C A B D A\n",
    "Here we can see multiple full solutions like A B B which is not an optimal solution as it adds distance by going to B again but it still takes it into account as a possible solution. In the end the most efficient road is selected."
   ]
  },
  {
   "cell_type": "code",
   "execution_count": null,
   "id": "bf82ab42",
   "metadata": {},
   "outputs": [],
   "source": []
  }
 ],
 "metadata": {
  "kernelspec": {
   "display_name": "Python 3 (ipykernel)",
   "language": "python",
   "name": "python3"
  },
  "language_info": {
   "codemirror_mode": {
    "name": "ipython",
    "version": 3
   },
   "file_extension": ".py",
   "mimetype": "text/x-python",
   "name": "python",
   "nbconvert_exporter": "python",
   "pygments_lexer": "ipython3",
   "version": "3.9.13"
  }
 },
 "nbformat": 4,
 "nbformat_minor": 5
}
